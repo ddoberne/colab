{
  "nbformat": 4,
  "nbformat_minor": 0,
  "metadata": {
    "colab": {
      "provenance": [],
      "authorship_tag": "ABX9TyO5OHZvnwnK+ht61Ss50JYH",
      "include_colab_link": true
    },
    "kernelspec": {
      "name": "python3",
      "display_name": "Python 3"
    },
    "language_info": {
      "name": "python"
    }
  },
  "cells": [
    {
      "cell_type": "markdown",
      "metadata": {
        "id": "view-in-github",
        "colab_type": "text"
      },
      "source": [
        "<a href=\"https://colab.research.google.com/github/ddoberne/colab/blob/main/02_Arithmetic.ipynb\" target=\"_parent\"><img src=\"https://colab.research.google.com/assets/colab-badge.svg\" alt=\"Open In Colab\"/></a>"
      ]
    },
    {
      "cell_type": "markdown",
      "source": [
        "# 02 Arithmetic"
      ],
      "metadata": {
        "id": "WH061LFTaBw_"
      }
    },
    {
      "cell_type": "markdown",
      "source": [
        "In this lesson, we will go over the basic arithmetic functions of Python. Anything your calculator can do, you can be sure that Python can do it as well."
      ],
      "metadata": {
        "id": "YPV1HtqGaFOI"
      }
    },
    {
      "cell_type": "markdown",
      "source": [
        "* Addition"
      ],
      "metadata": {
        "id": "-AeOhwhZcnv5"
      }
    },
    {
      "cell_type": "code",
      "execution_count": 1,
      "metadata": {
        "colab": {
          "base_uri": "https://localhost:8080/"
        },
        "id": "rwla-WcZZr2Y",
        "outputId": "0b715219-2424-423f-99dd-78b9a4567adc"
      },
      "outputs": [
        {
          "output_type": "execute_result",
          "data": {
            "text/plain": [
              "9"
            ]
          },
          "metadata": {},
          "execution_count": 1
        }
      ],
      "source": [
        "6 + 3"
      ]
    },
    {
      "cell_type": "markdown",
      "source": [
        "* Subtraction"
      ],
      "metadata": {
        "id": "gdZ4kvyGcrtz"
      }
    },
    {
      "cell_type": "code",
      "source": [
        "6 - 3"
      ],
      "metadata": {
        "colab": {
          "base_uri": "https://localhost:8080/"
        },
        "id": "tpQSvqfParoM",
        "outputId": "e7d0f3d2-b5e9-4861-a0f8-50a7a2cf1b29"
      },
      "execution_count": 2,
      "outputs": [
        {
          "output_type": "execute_result",
          "data": {
            "text/plain": [
              "3"
            ]
          },
          "metadata": {},
          "execution_count": 2
        }
      ]
    },
    {
      "cell_type": "markdown",
      "source": [
        "* Multiplication -- uses the * symbol"
      ],
      "metadata": {
        "id": "BS8UEmGhcuj0"
      }
    },
    {
      "cell_type": "code",
      "source": [
        "6 * 3"
      ],
      "metadata": {
        "colab": {
          "base_uri": "https://localhost:8080/"
        },
        "id": "xERVaFhJaxu-",
        "outputId": "34157aae-c8a0-4c7c-d5b3-0b70d0857c56"
      },
      "execution_count": 3,
      "outputs": [
        {
          "output_type": "execute_result",
          "data": {
            "text/plain": [
              "18"
            ]
          },
          "metadata": {},
          "execution_count": 3
        }
      ]
    },
    {
      "cell_type": "markdown",
      "source": [
        "* Division -- uses the / symbol"
      ],
      "metadata": {
        "id": "Ca3aM5dnc2Ho"
      }
    },
    {
      "cell_type": "code",
      "source": [
        "6 / 3"
      ],
      "metadata": {
        "colab": {
          "base_uri": "https://localhost:8080/"
        },
        "id": "1cKf_-naa-vN",
        "outputId": "39fbabca-d622-46ee-8467-ffe38bf24160"
      },
      "execution_count": 4,
      "outputs": [
        {
          "output_type": "execute_result",
          "data": {
            "text/plain": [
              "2.0"
            ]
          },
          "metadata": {},
          "execution_count": 4
        }
      ]
    },
    {
      "cell_type": "markdown",
      "source": [
        "Of course, we can use variable assignment to save values, then perform these operations on them."
      ],
      "metadata": {
        "id": "dibXYhPHbWdg"
      }
    },
    {
      "cell_type": "code",
      "source": [
        "a = 6\n",
        "b = 3"
      ],
      "metadata": {
        "id": "JF102d8WbBFm"
      },
      "execution_count": 5,
      "outputs": []
    },
    {
      "cell_type": "code",
      "source": [
        "a + b"
      ],
      "metadata": {
        "colab": {
          "base_uri": "https://localhost:8080/"
        },
        "id": "iLWtxwKWbpwS",
        "outputId": "bfd156e0-0e59-43e8-d2fd-c0b07687269f"
      },
      "execution_count": 6,
      "outputs": [
        {
          "output_type": "execute_result",
          "data": {
            "text/plain": [
              "9"
            ]
          },
          "metadata": {},
          "execution_count": 6
        }
      ]
    },
    {
      "cell_type": "code",
      "source": [
        "a - b"
      ],
      "metadata": {
        "colab": {
          "base_uri": "https://localhost:8080/"
        },
        "id": "DTDhn0Xcbslz",
        "outputId": "55824816-2a55-436a-c7a2-ac8fb16fe562"
      },
      "execution_count": 7,
      "outputs": [
        {
          "output_type": "execute_result",
          "data": {
            "text/plain": [
              "3"
            ]
          },
          "metadata": {},
          "execution_count": 7
        }
      ]
    },
    {
      "cell_type": "code",
      "source": [
        "a * b"
      ],
      "metadata": {
        "colab": {
          "base_uri": "https://localhost:8080/"
        },
        "id": "9lSvtFOJbtOc",
        "outputId": "b4c493d5-bcb0-4ca1-febb-5d9b19117286"
      },
      "execution_count": 8,
      "outputs": [
        {
          "output_type": "execute_result",
          "data": {
            "text/plain": [
              "18"
            ]
          },
          "metadata": {},
          "execution_count": 8
        }
      ]
    },
    {
      "cell_type": "code",
      "source": [
        "a / b"
      ],
      "metadata": {
        "colab": {
          "base_uri": "https://localhost:8080/"
        },
        "id": "JdLx9klVbuOT",
        "outputId": "ad9790dc-211a-40a5-c8f7-88ea211e2fcc"
      },
      "execution_count": 9,
      "outputs": [
        {
          "output_type": "execute_result",
          "data": {
            "text/plain": [
              "2.0"
            ]
          },
          "metadata": {},
          "execution_count": 9
        }
      ]
    },
    {
      "cell_type": "markdown",
      "source": [
        "# Special Operators"
      ],
      "metadata": {
        "id": "zTwWps5lcOWU"
      }
    },
    {
      "cell_type": "markdown",
      "source": [
        "There are three more operations we frequently use in Python. These might be less familiar:"
      ],
      "metadata": {
        "id": "7Qmg2yyNdHKA"
      }
    },
    {
      "cell_type": "markdown",
      "source": [
        "* Exponents -- instead of writing superscript or a ^ symbol, Python uses double stars for exponents."
      ],
      "metadata": {
        "id": "x6b3upfWdZFZ"
      }
    },
    {
      "cell_type": "code",
      "source": [
        "# This is the same as 4 * 4 * 4\n",
        "4 ** 3"
      ],
      "metadata": {
        "colab": {
          "base_uri": "https://localhost:8080/"
        },
        "id": "zcvdHDl1bvdk",
        "outputId": "ec8097f9-5526-4713-e752-308283419f0e"
      },
      "execution_count": 10,
      "outputs": [
        {
          "output_type": "execute_result",
          "data": {
            "text/plain": [
              "64"
            ]
          },
          "metadata": {},
          "execution_count": 10
        }
      ]
    },
    {
      "cell_type": "markdown",
      "source": [
        "* Modulus -- remember how in long division you would have a remainder? This calculates that remainder. Frequently used to find the last digit or digits of a number."
      ],
      "metadata": {
        "id": "OAHRL-dbd2Eg"
      }
    },
    {
      "cell_type": "code",
      "source": [
        "157 % 10"
      ],
      "metadata": {
        "colab": {
          "base_uri": "https://localhost:8080/"
        },
        "id": "r-ZkPYLqcW-Q",
        "outputId": "6c88e235-44d1-4e46-9da0-189a23e40e2e"
      },
      "execution_count": 11,
      "outputs": [
        {
          "output_type": "execute_result",
          "data": {
            "text/plain": [
              "7"
            ]
          },
          "metadata": {},
          "execution_count": 11
        }
      ]
    },
    {
      "cell_type": "code",
      "source": [
        "157 % 100"
      ],
      "metadata": {
        "colab": {
          "base_uri": "https://localhost:8080/"
        },
        "id": "R82EQ-INfkIO",
        "outputId": "9911144b-3fe7-4029-ba73-b1833c6b4bc2"
      },
      "execution_count": 12,
      "outputs": [
        {
          "output_type": "execute_result",
          "data": {
            "text/plain": [
              "57"
            ]
          },
          "metadata": {},
          "execution_count": 12
        }
      ]
    },
    {
      "cell_type": "markdown",
      "source": [
        "* Floor division -- division, but rounding down to the whole number. Begone, decimels!"
      ],
      "metadata": {
        "id": "8ABOo8a-fnao"
      }
    },
    {
      "cell_type": "code",
      "source": [
        "4 // 3"
      ],
      "metadata": {
        "colab": {
          "base_uri": "https://localhost:8080/"
        },
        "id": "r7ZQhxTKfmKf",
        "outputId": "01dd7405-42c8-426e-d58e-8f8237d9d0db"
      },
      "execution_count": 13,
      "outputs": [
        {
          "output_type": "execute_result",
          "data": {
            "text/plain": [
              "1"
            ]
          },
          "metadata": {},
          "execution_count": 13
        }
      ]
    },
    {
      "cell_type": "code",
      "source": [
        "5 // 3"
      ],
      "metadata": {
        "colab": {
          "base_uri": "https://localhost:8080/"
        },
        "id": "WLg6EE3gf72L",
        "outputId": "e31ba701-74df-4b0c-f94c-5476bba5ea4a"
      },
      "execution_count": 14,
      "outputs": [
        {
          "output_type": "execute_result",
          "data": {
            "text/plain": [
              "1"
            ]
          },
          "metadata": {},
          "execution_count": 14
        }
      ]
    },
    {
      "cell_type": "code",
      "source": [
        "6 // 3"
      ],
      "metadata": {
        "colab": {
          "base_uri": "https://localhost:8080/"
        },
        "id": "oWPfbhtNf9s7",
        "outputId": "3e332477-ad54-4821-94d5-768fe389e359"
      },
      "execution_count": 15,
      "outputs": [
        {
          "output_type": "execute_result",
          "data": {
            "text/plain": [
              "2"
            ]
          },
          "metadata": {},
          "execution_count": 15
        }
      ]
    },
    {
      "cell_type": "markdown",
      "source": [
        "# Order of Operations"
      ],
      "metadata": {
        "id": "8EsRWJZGgek8"
      }
    },
    {
      "cell_type": "markdown",
      "source": [
        "Nobody likes dealing with the order of operations. At least, I don't like dealing with it 😅. Nevertheless, it's a good idea to have an idea of how it works. The order is:\n",
        "* Parentheses\n",
        "* Exponents\n",
        "* Multiplication/Division\n",
        "* Addition/Subtraction\n",
        "\n",
        "When you have two operations of the same tier next to each other, go left to right."
      ],
      "metadata": {
        "id": "Kci7CBpeghge"
      }
    },
    {
      "cell_type": "code",
      "source": [
        "4 + 3 - 2 - 1"
      ],
      "metadata": {
        "colab": {
          "base_uri": "https://localhost:8080/"
        },
        "id": "0xhOveTigg2F",
        "outputId": "e8359c41-370d-4b00-b871-07767331f8bd"
      },
      "execution_count": 16,
      "outputs": [
        {
          "output_type": "execute_result",
          "data": {
            "text/plain": [
              "4"
            ]
          },
          "metadata": {},
          "execution_count": 16
        }
      ]
    },
    {
      "cell_type": "markdown",
      "source": [
        "* 4 + 3 is 7\n",
        "* 7 - 2 is 5\n",
        "* 5 - 1 is 4"
      ],
      "metadata": {
        "id": "gV3tklMUluHk"
      }
    },
    {
      "cell_type": "code",
      "source": [
        "4 + 3 * 2 - 1"
      ],
      "metadata": {
        "colab": {
          "base_uri": "https://localhost:8080/"
        },
        "id": "5uuxgZSimXa3",
        "outputId": "4b63a0bc-aefd-4f90-a101-2854d714c3fa"
      },
      "execution_count": 17,
      "outputs": [
        {
          "output_type": "execute_result",
          "data": {
            "text/plain": [
              "9"
            ]
          },
          "metadata": {},
          "execution_count": 17
        }
      ]
    },
    {
      "cell_type": "markdown",
      "source": [
        "* Multiplication first: 3 * 2 is 6\n",
        "* 4 + 6 is 10\n",
        "* 10 - 1 is 9"
      ],
      "metadata": {
        "id": "V3Eyp0mImbXp"
      }
    },
    {
      "cell_type": "markdown",
      "source": [
        "Fortunately, it's possible to avoid spots where you need to figure out the order. You can either separate each step to a separate line:"
      ],
      "metadata": {
        "id": "XC5fnFxcmHQQ"
      }
    },
    {
      "cell_type": "code",
      "source": [
        "a = 4 + 3\n",
        "b = a * 2\n",
        "c = b - 1\n",
        "print(c)"
      ],
      "metadata": {
        "colab": {
          "base_uri": "https://localhost:8080/"
        },
        "id": "NLrN-XUlf-XL",
        "outputId": "af055019-97b7-4318-9349-b74c44530cec"
      },
      "execution_count": 18,
      "outputs": [
        {
          "output_type": "stream",
          "name": "stdout",
          "text": [
            "13\n"
          ]
        }
      ]
    },
    {
      "cell_type": "markdown",
      "source": [
        "Or, you can use parentheses to group together the actions you want performed first:"
      ],
      "metadata": {
        "id": "iozx8TJdnLky"
      }
    },
    {
      "cell_type": "code",
      "source": [
        "(4 + 3) * (2 - 1)"
      ],
      "metadata": {
        "colab": {
          "base_uri": "https://localhost:8080/"
        },
        "id": "c3-Bj6bhl9li",
        "outputId": "d4418707-847f-4952-bc86-55097e53190e"
      },
      "execution_count": 19,
      "outputs": [
        {
          "output_type": "execute_result",
          "data": {
            "text/plain": [
              "7"
            ]
          },
          "metadata": {},
          "execution_count": 19
        }
      ]
    },
    {
      "cell_type": "markdown",
      "source": [
        "Notice how each of these cells have different results! Understanding the order of how code will execute is very important in making sure it's doing what you want."
      ],
      "metadata": {
        "id": "kI924F1CneHL"
      }
    },
    {
      "cell_type": "markdown",
      "source": [
        "# Word Problems"
      ],
      "metadata": {
        "id": "1ev4KLTJ3jAK"
      }
    },
    {
      "cell_type": "markdown",
      "source": [
        "Perhaps that title fills you with dread and/or trauma from math class at school, but I promise to give you some underhand tosses. Use the above operations to find the answer to these problems!"
      ],
      "metadata": {
        "id": "4861zDHZ3mrU"
      }
    },
    {
      "cell_type": "markdown",
      "source": [
        "* There are six full baskets of apples containing eight apiece. How many apples are there total?"
      ],
      "metadata": {
        "id": "3vWXU7LA4IQ0"
      }
    },
    {
      "cell_type": "code",
      "source": [
        "### YOUR CODE HERE ###\n"
      ],
      "metadata": {
        "id": "p-2aYvWvnd3b"
      },
      "execution_count": 20,
      "outputs": []
    },
    {
      "cell_type": "markdown",
      "source": [
        "* 14 baskets contain a total of 211 apples. What is the average number of apples in each basket?"
      ],
      "metadata": {
        "id": "2A6jSEnl4oFl"
      }
    },
    {
      "cell_type": "code",
      "source": [
        "### YOUR CODE HERE ###\n"
      ],
      "metadata": {
        "id": "UFlx6dZX4ns8"
      },
      "execution_count": 21,
      "outputs": []
    },
    {
      "cell_type": "markdown",
      "source": [
        "* There are four small baskets with seven apples apiece, and two large baskets with twelve apples apiece. How many apples do you have in total?"
      ],
      "metadata": {
        "id": "9omVZgHs5Gbz"
      }
    },
    {
      "cell_type": "code",
      "source": [
        "### YOUR CODE HERE ###\n"
      ],
      "metadata": {
        "id": "OJsVHsnznXSn"
      },
      "execution_count": 22,
      "outputs": []
    },
    {
      "cell_type": "markdown",
      "source": [
        "* You have 91 apples. Each basket can only carry a total of eight apples. How many can you fill completely? How many apples will be left over?"
      ],
      "metadata": {
        "id": "ZdqzpUcg5fdn"
      }
    },
    {
      "cell_type": "code",
      "source": [
        "### YOUR CODE HERE ###\n"
      ],
      "metadata": {
        "id": "Vo1T-i7E5rom"
      },
      "execution_count": 23,
      "outputs": []
    },
    {
      "cell_type": "markdown",
      "source": [
        "Don't forget to save your notebook!"
      ],
      "metadata": {
        "id": "bCU0U8NO4lGD"
      }
    }
  ]
}