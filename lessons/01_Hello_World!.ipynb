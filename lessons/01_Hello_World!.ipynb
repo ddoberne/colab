{
  "nbformat": 4,
  "nbformat_minor": 0,
  "metadata": {
    "colab": {
      "provenance": [],
      "include_colab_link": true
    },
    "kernelspec": {
      "name": "python3",
      "display_name": "Python 3"
    },
    "language_info": {
      "name": "python"
    }
  },
  "cells": [
    {
      "cell_type": "markdown",
      "metadata": {
        "id": "view-in-github",
        "colab_type": "text"
      },
      "source": [
        "<a href=\"https://colab.research.google.com/github/ddoberne/colab/blob/main/lessons/01_Hello_World!.ipynb\" target=\"_parent\"><img src=\"https://colab.research.google.com/assets/colab-badge.svg\" alt=\"Open In Colab\"/></a>"
      ]
    },
    {
      "cell_type": "markdown",
      "source": [
        "#01 Hello World!"
      ],
      "metadata": {
        "id": "f8w-iUDduQ6t"
      }
    },
    {
      "cell_type": "markdown",
      "source": [
        "Welcome to Google Colab! This is a workspace to write Python code modeled after the learning-friendly environment of Jupyter Notebook.\n",
        "\n",
        "Our first task is to get Python to communicate with us by using the print function. When you see a code block, like below, create a code cell using the ```[+ Code]``` button, and copy the code into the cell. To run the cell, press ```SHIFT+ENTER``` (or press the ```▶``` button on the left side of the cell).\n",
        "\n",
        "You can also create text cells using the ```[+ Text]``` button. These cells won't be run, but can be useful for notes, instructions, or reminders, like this one!"
      ],
      "metadata": {
        "id": "64o0du6kseV7"
      }
    },
    {
      "cell_type": "code",
      "source": [
        "print('Hello World!')"
      ],
      "metadata": {
        "colab": {
          "base_uri": "https://localhost:8080/"
        },
        "id": "HcSkWPocsvnL",
        "outputId": "53e7dc96-a4c5-4106-8411-108727665de6"
      },
      "execution_count": null,
      "outputs": [
        {
          "output_type": "stream",
          "name": "stdout",
          "text": [
            "Hello World!\n"
          ]
        }
      ]
    },
    {
      "cell_type": "markdown",
      "source": [
        "It's alive! We used a **function** and an **argument** to tell Python to do something, and what to do it to. We'll talk more specifically about what those are later, but for now, we gave the computer an action and something to do the action with, and it did it.\n",
        "* Computer: What should I do?\n",
        "    * Us: ```print()```\n",
        "* Computer: What should I ```print()``` with? Make sure you put it within the parentheses!\n",
        "    * Us: ```'Hello World!'```"
      ],
      "metadata": {
        "id": "yZVs9LRyvPkU"
      }
    },
    {
      "cell_type": "markdown",
      "source": [
        "Whenever we write text in Python, we need to tell it that the text isn't meant to be read as code. In order to tell the program that something is text and not code, we wrap it in quotations (single or double both work). It will then be recognized as a **string** and be used for variables, arguments, and functions."
      ],
      "metadata": {
        "id": "483ArUmUS0o0"
      }
    },
    {
      "cell_type": "code",
      "source": [
        "'This is a string.'"
      ],
      "metadata": {
        "id": "H5My5TDdStwo",
        "outputId": "5b0009b3-c9dd-431e-80bb-30282dbd9f12",
        "colab": {
          "base_uri": "https://localhost:8080/",
          "height": 35
        }
      },
      "execution_count": null,
      "outputs": [
        {
          "output_type": "execute_result",
          "data": {
            "text/plain": [
              "'This is a string.'"
            ],
            "application/vnd.google.colaboratory.intrinsic+json": {
              "type": "string"
            }
          },
          "metadata": {},
          "execution_count": 2
        }
      ]
    },
    {
      "cell_type": "code",
      "source": [
        "This is not a string."
      ],
      "metadata": {
        "id": "ni7aZ08cSyOa"
      },
      "execution_count": null,
      "outputs": []
    },
    {
      "cell_type": "markdown",
      "source": [
        "If we run the above cell, Python will give us an error saying that it doesn't recognize those directions."
      ],
      "metadata": {
        "id": "FWGfILYfTNig"
      }
    },
    {
      "cell_type": "markdown",
      "source": [
        "# Variable Assignment"
      ],
      "metadata": {
        "id": "iLhas9ARxIBB"
      }
    },
    {
      "cell_type": "markdown",
      "source": [
        "A large part of programming involves **variables**. In the below cell, we're going to assign the variable ```s``` to ```'Hello World!'```. We can use any name for the variable, but I like using ```s``` here because it's short for 'string'. Once we do that, Python will remember what ```s``` is for us. It's like saving your progress in a game."
      ],
      "metadata": {
        "id": "qW7ponKjxYDo"
      }
    },
    {
      "cell_type": "markdown",
      "source": [
        "The ```=``` symbol is used for **assignment**. To set a variable, we would write code like:\n"
      ],
      "metadata": {
        "id": "QWMKeJq_dlJt"
      }
    },
    {
      "cell_type": "code",
      "source": [
        "s = 'Hello World!'"
      ],
      "metadata": {
        "id": "2JXZdCGNsyfl"
      },
      "execution_count": null,
      "outputs": []
    },
    {
      "cell_type": "markdown",
      "source": [
        "Colab allows us to check what a variable is saved as if run a cell that ends with that variable..."
      ],
      "metadata": {
        "id": "qXjxJ3L0yb2h"
      }
    },
    {
      "cell_type": "code",
      "source": [
        "s"
      ],
      "metadata": {
        "colab": {
          "base_uri": "https://localhost:8080/",
          "height": 35
        },
        "id": "SE-tUOIRs625",
        "outputId": "db234a3d-d213-4583-aea4-21e07d22115f"
      },
      "execution_count": null,
      "outputs": [
        {
          "output_type": "execute_result",
          "data": {
            "text/plain": [
              "'Hello World!'"
            ],
            "application/vnd.google.colaboratory.intrinsic+json": {
              "type": "string"
            }
          },
          "metadata": {},
          "execution_count": 4
        }
      ]
    },
    {
      "cell_type": "markdown",
      "source": [
        "... but it's really better to use the print() function for that. That way, the variable you want to check doesn't have to be the last line of the cell."
      ],
      "metadata": {
        "id": "Ldgca93wy3cO"
      }
    },
    {
      "cell_type": "code",
      "source": [
        "print(s)"
      ],
      "metadata": {
        "colab": {
          "base_uri": "https://localhost:8080/"
        },
        "id": "l5XCnSuJs7UJ",
        "outputId": "2a9a5ab0-2a2e-41d3-b816-a901fa78f239"
      },
      "execution_count": null,
      "outputs": [
        {
          "output_type": "stream",
          "name": "stdout",
          "text": [
            "Hello World!\n"
          ]
        }
      ]
    },
    {
      "cell_type": "markdown",
      "source": [
        "We told Python to print ```s```, and since ```s``` is ```'Hello World!'```, Python printed ```'Hello World!'```.\n"
      ],
      "metadata": {
        "id": "O6UVZ-pgz0aN"
      }
    },
    {
      "cell_type": "markdown",
      "source": [
        "# Variable Reassignment"
      ],
      "metadata": {
        "id": "JmGP9gB50M5h"
      }
    },
    {
      "cell_type": "markdown",
      "source": [
        "Right now, ```s``` is ```'Hello World!'```, but it doesn't have to be permanent. We can assign ```s``` to something else if we'd like."
      ],
      "metadata": {
        "id": "RxM5qObL3nE2"
      }
    },
    {
      "cell_type": "code",
      "source": [
        "s = 'This is a string.'\n",
        "print(s)"
      ],
      "metadata": {
        "colab": {
          "base_uri": "https://localhost:8080/"
        },
        "id": "bO5F0pKss8BJ",
        "outputId": "8316c450-1441-44f8-d402-4bbba69a9df3"
      },
      "execution_count": null,
      "outputs": [
        {
          "output_type": "stream",
          "name": "stdout",
          "text": [
            "This is a string.\n"
          ]
        }
      ]
    },
    {
      "cell_type": "code",
      "source": [
        "s = 'This is a different string.'\n",
        "print(s)"
      ],
      "metadata": {
        "colab": {
          "base_uri": "https://localhost:8080/"
        },
        "id": "Jc_2PSlLtAMj",
        "outputId": "4997d320-3beb-4059-b628-4000ab5dc7a1"
      },
      "execution_count": null,
      "outputs": [
        {
          "output_type": "stream",
          "name": "stdout",
          "text": [
            "This is a different string.\n"
          ]
        }
      ]
    },
    {
      "cell_type": "markdown",
      "source": [
        "While this is certainly convenient, you have to be careful about it! It is easy to overwrite your old variable with a new one, in which case your old information becomes lost. You want to avoid situations like the one below."
      ],
      "metadata": {
        "id": "smfcIdnC37zo"
      }
    },
    {
      "cell_type": "code",
      "source": [
        "s = 'String A'\n",
        "s = 'String B'\n",
        "print(s)"
      ],
      "metadata": {
        "colab": {
          "base_uri": "https://localhost:8080/"
        },
        "id": "2oxhorfktDKt",
        "outputId": "91b05579-f25e-45b9-eb72-4875a30eb10f"
      },
      "execution_count": null,
      "outputs": [
        {
          "output_type": "stream",
          "name": "stdout",
          "text": [
            "String B\n"
          ]
        }
      ]
    },
    {
      "cell_type": "markdown",
      "source": [
        "Another thing to be wary of is the order in which cells are run in Colab. The ability to run cells out of order is a nice convenience, but again, it requires some caution. Try running the below three cells in different order, and see what happens. Can you predict what is going to be printed before you run that cell?"
      ],
      "metadata": {
        "id": "OYO0x9d24QFb"
      }
    },
    {
      "cell_type": "code",
      "source": [
        "s = 'A'"
      ],
      "metadata": {
        "id": "MX-rxLGktMsy"
      },
      "execution_count": null,
      "outputs": []
    },
    {
      "cell_type": "code",
      "source": [
        "s = 'B'"
      ],
      "metadata": {
        "id": "ew-WAgRjtSEc"
      },
      "execution_count": null,
      "outputs": []
    },
    {
      "cell_type": "code",
      "source": [
        "print(s)"
      ],
      "metadata": {
        "id": "tiA1eIq1tSus",
        "outputId": "2eec43c2-bc9c-4cac-b518-1280790f8775",
        "colab": {
          "base_uri": "https://localhost:8080/"
        }
      },
      "execution_count": null,
      "outputs": [
        {
          "output_type": "stream",
          "name": "stdout",
          "text": [
            "B\n"
          ]
        }
      ]
    },
    {
      "cell_type": "markdown",
      "source": [
        "# Your turn!"
      ],
      "metadata": {
        "id": "QyWamjK10R_b"
      }
    },
    {
      "cell_type": "markdown",
      "source": [
        "Now it's your turn to write code! Tell Python to print your:\n",
        "* Name\n",
        "* Hair color\n",
        "* Favorite game or movie\n",
        "* The last thing you ate\n",
        "\n",
        "Below, you'll see a cell with '*### YOUR CODE HERE ###*' at the top of it. The '#' marks a line as a comment, so Python ignores everything on that line. Then, create a new line, and go ahead and code the task asked of you."
      ],
      "metadata": {
        "id": "METyDx-n0cdg"
      }
    },
    {
      "cell_type": "code",
      "source": [
        "### YOUR CODE HERE ###\n"
      ],
      "metadata": {
        "id": "FabiVXcl0UEU"
      },
      "execution_count": null,
      "outputs": []
    },
    {
      "cell_type": "markdown",
      "source": [
        "Next, create variables **line1**, **line2**, **line3**, and **line4** that store the above information, and run the cells below. If it worked properly, Python should print your name, hair color, favorite game or movie, and the last thing you ate."
      ],
      "metadata": {
        "id": "HGyL2rV_1eZi"
      }
    },
    {
      "cell_type": "code",
      "source": [
        "### YOUR CODE HERE ###\n"
      ],
      "metadata": {
        "id": "nlcCGSXq1fKS"
      },
      "execution_count": null,
      "outputs": []
    },
    {
      "cell_type": "code",
      "source": [
        "### MAKE THIS CELL WORK BY COMPLETING THE CELL ABOVE ###\n",
        "print(line1)\n",
        "print(line2)\n",
        "print(line3)\n",
        "print(line4)"
      ],
      "metadata": {
        "id": "ynK8Tzlx0jnT"
      },
      "execution_count": null,
      "outputs": []
    },
    {
      "cell_type": "markdown",
      "source": [
        "Congratulations! Whenever you are done with a notebook, feel free to play around with the material you learned. Create more cells and try out different things -- the sky is the limit! Once you are satisfied, be sure to save your notebook to your GitHub. Click `File -> Save a copy in GitHub`, and your notebook will be stored for easy viewing."
      ],
      "metadata": {
        "id": "_KXWTtmS2TAc"
      }
    }
  ]
}