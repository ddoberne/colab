{
  "nbformat": 4,
  "nbformat_minor": 0,
  "metadata": {
    "colab": {
      "provenance": [],
      "authorship_tag": "ABX9TyPhpgi34Fny2SSuqihSQs+C",
      "include_colab_link": true
    },
    "kernelspec": {
      "name": "python3",
      "display_name": "Python 3"
    },
    "language_info": {
      "name": "python"
    }
  },
  "cells": [
    {
      "cell_type": "markdown",
      "metadata": {
        "id": "view-in-github",
        "colab_type": "text"
      },
      "source": [
        "<a href=\"https://colab.research.google.com/github/ddoberne/colab/blob/main/08_If_Statements.ipynb\" target=\"_parent\"><img src=\"https://colab.research.google.com/assets/colab-badge.svg\" alt=\"Open In Colab\"/></a>"
      ]
    },
    {
      "cell_type": "markdown",
      "source": [
        "# 08 If Statements"
      ],
      "metadata": {
        "id": "CqraQpGAi9XL"
      }
    },
    {
      "cell_type": "markdown",
      "source": [
        "Now that we understand how ```True``` and ```False``` work in code, it's time to look at the most common use for them: ```if``` statements.\n",
        "\n",
        "When writing an if statement, you start it with:\n",
        "\n",
        "```if my_bool:```\n",
        "\n",
        "... where ```my_bool``` can be any variable or statement that is either ```True``` or ```False```. Similar to functions, whatever follows in an *indented* code block will be executed if the variable was ```True```. Here are a few examples:"
      ],
      "metadata": {
        "id": "R9xFYAoAjGD2"
      }
    },
    {
      "cell_type": "code",
      "execution_count": 1,
      "metadata": {
        "colab": {
          "base_uri": "https://localhost:8080/"
        },
        "id": "_B1cDw07i8Dq",
        "outputId": "928fdd08-92b6-4f18-d0d5-5bef285505f6"
      },
      "outputs": [
        {
          "output_type": "stream",
          "name": "stdout",
          "text": [
            "Looks like the variable was true.\n"
          ]
        }
      ],
      "source": [
        "speak = True\n",
        "if speak:\n",
        "  print('Looks like the variable was true.')"
      ]
    },
    {
      "cell_type": "code",
      "source": [
        "x = 6\n",
        "if x > 4:\n",
        "  print('That number is greater than 4.')"
      ],
      "metadata": {
        "colab": {
          "base_uri": "https://localhost:8080/"
        },
        "id": "UqOzo7ZpkR-F",
        "outputId": "393b9986-29e4-4052-9cc7-f06d56c20246"
      },
      "execution_count": 2,
      "outputs": [
        {
          "output_type": "stream",
          "name": "stdout",
          "text": [
            "That number is greater than 4.\n"
          ]
        }
      ]
    },
    {
      "cell_type": "code",
      "source": [
        "# This cell does not print because the if statement is false!\n",
        "x = 22 % 7\n",
        "if x == 0:\n",
        "  print('That number is divisible by 7.')"
      ],
      "metadata": {
        "id": "9bkB_2uykm7X"
      },
      "execution_count": 4,
      "outputs": []
    },
    {
      "cell_type": "markdown",
      "source": [
        "Note that anything not indented under the ```if``` statement will be executed whether it is ```True``` or ```False```."
      ],
      "metadata": {
        "id": "XafWbpNDkdPa"
      }
    },
    {
      "cell_type": "code",
      "source": [
        "speak = False\n",
        "if speak:\n",
        "  print('This is inside the if statement.')\n",
        "\n",
        "print('This is outside the if statement.')"
      ],
      "metadata": {
        "colab": {
          "base_uri": "https://localhost:8080/"
        },
        "id": "Owi6xNkhkbvh",
        "outputId": "4d81da96-a2ef-4e0a-fcb5-35721c3004df"
      },
      "execution_count": 5,
      "outputs": [
        {
          "output_type": "stream",
          "name": "stdout",
          "text": [
            "This is outside the if statement\n"
          ]
        }
      ]
    },
    {
      "cell_type": "markdown",
      "source": [
        "As we will see with several types of indented code blocks, ```if``` statements can me nested, which means that you can have one inside another."
      ],
      "metadata": {
        "id": "KmWM09F7lK-S"
      }
    },
    {
      "cell_type": "code",
      "source": [
        "x = 55\n",
        "if x > 20:\n",
        "  print('x is greater than 20!')\n",
        "  if x % 5 == 0:\n",
        "    print('x is also divisible by 5!')\n",
        "\n",
        "y = 15\n",
        "if y > 20:\n",
        "  print('y is greater than 20!')\n",
        "  if y % 5 == 0:\n",
        "    print('y is also divisible by 5!')"
      ],
      "metadata": {
        "colab": {
          "base_uri": "https://localhost:8080/"
        },
        "id": "rDMiLuDTlJHg",
        "outputId": "a8475822-06fb-4a93-bd8f-f1c4f9322246"
      },
      "execution_count": 7,
      "outputs": [
        {
          "output_type": "stream",
          "name": "stdout",
          "text": [
            "x is greater than 20!\n",
            "x is also divisible by 5!\n"
          ]
        }
      ]
    },
    {
      "cell_type": "markdown",
      "source": [
        "In the above example, notice how it did not print ```y is also divisible by 5!```. That's because the outer ```if``` statement is false, so it skips over the entire indented block, including the nested ```if``` statement.\n",
        "\n",
        "Functions will frequently make use of ```if``` statements as well."
      ],
      "metadata": {
        "id": "d2-jg5DRmAFE"
      }
    },
    {
      "cell_type": "code",
      "source": [
        "def is_divisible(x, y):\n",
        "  \"Tells you via print if x is divisible by y\"\n",
        "  divisible = (x % y == 0)\n",
        "  if divisible:\n",
        "    print('Yep, x is divisible by y.')"
      ],
      "metadata": {
        "id": "cCORQf98l_Ld"
      },
      "execution_count": 9,
      "outputs": []
    },
    {
      "cell_type": "code",
      "source": [
        "print('Checking for x = 6 and y = 3...')\n",
        "is_divisible(6, 3)\n",
        "print('Checking for x = 6 and y = 4...')\n",
        "is_divisible(6, 4)"
      ],
      "metadata": {
        "colab": {
          "base_uri": "https://localhost:8080/"
        },
        "id": "zMs6MMOlvjXQ",
        "outputId": "31ac6294-9bcf-46c3-d14f-04f82b12b9a8"
      },
      "execution_count": 10,
      "outputs": [
        {
          "output_type": "stream",
          "name": "stdout",
          "text": [
            "Checking for x = 6 and y = 3...\n",
            "Yep, x is divisible by y.\n",
            "Checking for x = 6 and y = 4...\n"
          ]
        }
      ]
    },
    {
      "cell_type": "markdown",
      "source": [
        "In the next lesson, we will talk about ```else``` statements, which are executed if the ```if``` value is ```False```."
      ],
      "metadata": {
        "id": "w7E8Na8Jvy1S"
      }
    },
    {
      "cell_type": "markdown",
      "source": [
        "# Practice"
      ],
      "metadata": {
        "id": "fmFDmBKywEiZ"
      }
    },
    {
      "cell_type": "markdown",
      "source": [
        "Write the code for a function ```f()``` that takes in two numbers x and y, and does the following:\n",
        "* If ```x``` is divisible by 6, return the product of the two numbers.\n",
        "* If ```y``` is odd (and the above is false), return the sum of the two numbers.\n",
        "* If neither of the above are true, return ```x - y```."
      ],
      "metadata": {
        "id": "tmL9FThbwQB3"
      }
    },
    {
      "cell_type": "code",
      "source": [
        "### YOUR CODE HERE ###"
      ],
      "metadata": {
        "id": "53Zrb6Igvvrf"
      },
      "execution_count": 11,
      "outputs": []
    },
    {
      "cell_type": "code",
      "source": [
        "# Make sure this cell runs succesfully after you've finished the above!\n",
        "assert f(x = 30, y = 2) == 60\n",
        "assert f(x = 35, y = 2) == 32\n",
        "assert f(x = 40, y = 3) == 43"
      ],
      "metadata": {
        "id": "HHwEIBG9yHnr"
      },
      "execution_count": null,
      "outputs": []
    }
  ]
}