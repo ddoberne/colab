{
  "nbformat": 4,
  "nbformat_minor": 0,
  "metadata": {
    "colab": {
      "provenance": [],
      "authorship_tag": "ABX9TyPjIHf5VUPrMNdMgWr68Yth",
      "include_colab_link": true
    },
    "kernelspec": {
      "name": "python3",
      "display_name": "Python 3"
    },
    "language_info": {
      "name": "python"
    }
  },
  "cells": [
    {
      "cell_type": "markdown",
      "metadata": {
        "id": "view-in-github",
        "colab_type": "text"
      },
      "source": [
        "<a href=\"https://colab.research.google.com/github/ddoberne/colab/blob/main/lessons/05_Functions_with_Arguments.ipynb\" target=\"_parent\"><img src=\"https://colab.research.google.com/assets/colab-badge.svg\" alt=\"Open In Colab\"/></a>"
      ]
    },
    {
      "cell_type": "markdown",
      "source": [
        "# 05 Functions with Arguments"
      ],
      "metadata": {
        "id": "tkFAzgWAwOhV"
      }
    },
    {
      "cell_type": "markdown",
      "source": [
        "Frequently, you will want your functions to adapt to their environment. We can define a function to act as a greeting...\n",
        "\n",
        "\n"
      ],
      "metadata": {
        "id": "0TltJcCPxbJK"
      }
    },
    {
      "cell_type": "code",
      "execution_count": null,
      "metadata": {
        "id": "4LJmjNAZwNKc"
      },
      "outputs": [],
      "source": [
        "def greeting():\n",
        "  \"\"\"Greets Mike\"\"\"\n",
        "  print('Hello Mike, how are you doing?')"
      ]
    },
    {
      "cell_type": "code",
      "source": [
        "greeting()"
      ],
      "metadata": {
        "colab": {
          "base_uri": "https://localhost:8080/"
        },
        "id": "42qzNxIXzq_y",
        "outputId": "d288b30d-530b-400f-e4c2-5c6170a95881"
      },
      "execution_count": null,
      "outputs": [
        {
          "output_type": "stream",
          "name": "stdout",
          "text": [
            "Hello Mike, how are you doing?\n"
          ]
        }
      ]
    },
    {
      "cell_type": "markdown",
      "source": [
        "... but unless everybody we meet is named Mike, this might not be the most useful. Fortunately, by making use of arguments, we can create functions that are adaptable."
      ],
      "metadata": {
        "id": "WkXIVkfpzC3d"
      }
    },
    {
      "cell_type": "code",
      "source": [
        "def greeting(name):\n",
        "  \"\"\"Greets someone of the given name\"\"\"\n",
        "  print('Hello ' + name + ', how are you doing?')"
      ],
      "metadata": {
        "id": "KyxRiwyrzBv2"
      },
      "execution_count": null,
      "outputs": []
    },
    {
      "cell_type": "markdown",
      "source": [
        "When we tell Python to expect an argument, we can then use that argument as a variable in the body of the function however we see fit. For example, if we call the function with the code:\n",
        "\n",
        "```greeting('Bob')```\n",
        "\n",
        "After we call the function but before the body is executed, it's as if we're adding a variable assignment:\n",
        "\n",
        "```name = 'Bob'```\n",
        "\n",
        "Let's try it:"
      ],
      "metadata": {
        "id": "-nbgv0VC1xJ8"
      }
    },
    {
      "cell_type": "code",
      "source": [
        "greeting('Bob')\n",
        "greeting('Sarah')\n",
        "greeting('everybody')"
      ],
      "metadata": {
        "colab": {
          "base_uri": "https://localhost:8080/"
        },
        "id": "lLTE-6Jy0IR4",
        "outputId": "0b4fe936-93d1-492f-e78f-152b900a15a8"
      },
      "execution_count": null,
      "outputs": [
        {
          "output_type": "stream",
          "name": "stdout",
          "text": [
            "Hello Bob, how are you doing?\n",
            "Hello Sarah, how are you doing?\n",
            "Hello everybody, how are you doing?\n"
          ]
        }
      ]
    },
    {
      "cell_type": "markdown",
      "source": [
        "Quick aside, we haven't talked about string functions yet. Notice that the **+** symbol can be used to concatenate (put together) two strings. Just don't expect to be able to subtract or divide strings!\n",
        "\n",
        "Also worth noting: You can pass variables to functions as arguments. We've done this with ```print()``` before, but it's worth pointing out."
      ],
      "metadata": {
        "id": "IsdPPqA-zu1j"
      }
    },
    {
      "cell_type": "code",
      "source": [
        "s = 'Judy'\n",
        "greeting(s)"
      ],
      "metadata": {
        "colab": {
          "base_uri": "https://localhost:8080/"
        },
        "id": "JU92srdM4UxF",
        "outputId": "9628292c-d698-43a1-e3ee-6d42ea6c38d1"
      },
      "execution_count": null,
      "outputs": [
        {
          "output_type": "stream",
          "name": "stdout",
          "text": [
            "Hello Judy, how are you doing?\n"
          ]
        }
      ]
    },
    {
      "cell_type": "markdown",
      "source": [
        "# Multiple Arguments"
      ],
      "metadata": {
        "id": "05d_Lm8L0gHr"
      }
    },
    {
      "cell_type": "markdown",
      "source": [
        "We don't have to stop with one argument -- we can include however many we'd like!"
      ],
      "metadata": {
        "id": "D_6oulWQ3B5c"
      }
    },
    {
      "cell_type": "code",
      "source": [
        "def triplegreet(name1, name2, name3):\n",
        "  \"\"\"Greet three names\"\"\"\n",
        "  print('Hi ' + name1 + '!')\n",
        "  print('Hello ' + name2 + '!')\n",
        "  print('Salutations ' + name3 + '!')\n",
        "  print(\"It's good to see you all!\")\n"
      ],
      "metadata": {
        "id": "hhryVhXDzoJx"
      },
      "execution_count": null,
      "outputs": []
    },
    {
      "cell_type": "code",
      "source": [
        "triplegreet('Mike', 'Bob', 'Sarah')"
      ],
      "metadata": {
        "colab": {
          "base_uri": "https://localhost:8080/"
        },
        "id": "idip_FBg3vQz",
        "outputId": "45160b13-e193-472b-b7ad-909e07c9b808"
      },
      "execution_count": null,
      "outputs": [
        {
          "output_type": "stream",
          "name": "stdout",
          "text": [
            "Hi Mike!\n",
            "Hello Bob!\n",
            "Salutations Sarah!\n",
            "It's good to see you all!\n"
          ]
        }
      ]
    },
    {
      "cell_type": "markdown",
      "source": [
        "Note how the arguments are used in the order that they are defined. If we wanted to provide the arguments out of order, we could do it if we specify the identity of each one. This is useful for the more complicated method calls out there."
      ],
      "metadata": {
        "id": "1fWQH3O07Vvd"
      }
    },
    {
      "cell_type": "code",
      "source": [
        "triplegreet(name3 = 'Mike', name2 = 'Bob', name1 = 'Sarah')"
      ],
      "metadata": {
        "colab": {
          "base_uri": "https://localhost:8080/"
        },
        "id": "r9S_Xq807mnm",
        "outputId": "bd94d91f-7960-4e3b-a15e-bb5dbcf33c84"
      },
      "execution_count": null,
      "outputs": [
        {
          "output_type": "stream",
          "name": "stdout",
          "text": [
            "Hi Sarah!\n",
            "Hello Bob!\n",
            "Salutations Mike!\n",
            "It's good to see you all!\n"
          ]
        }
      ]
    },
    {
      "cell_type": "markdown",
      "source": [
        "While not practical in this case, you can use the same value or variable multiple times in a method call."
      ],
      "metadata": {
        "id": "4e4x2xnc37LA"
      }
    },
    {
      "cell_type": "code",
      "source": [
        "s = 'Johnny'\n",
        "triplegreet(s, s, s)"
      ],
      "metadata": {
        "colab": {
          "base_uri": "https://localhost:8080/"
        },
        "id": "S7NKxO_93yW8",
        "outputId": "859a8490-9898-453b-89a9-980948531674"
      },
      "execution_count": null,
      "outputs": [
        {
          "output_type": "stream",
          "name": "stdout",
          "text": [
            "Hi Johnny!\n",
            "Hello Johnny!\n",
            "Salutations Johnny!\n",
            "It's good to see you all!\n"
          ]
        }
      ]
    },
    {
      "cell_type": "markdown",
      "source": [
        "# Default Arguments"
      ],
      "metadata": {
        "id": "spAA3YS94nzO"
      }
    },
    {
      "cell_type": "markdown",
      "source": [
        "Sometimes, you want arguments to be optional or have a default value. For example, taking the above ```greeting()``` method, we can give it something to do when a name isn't provided."
      ],
      "metadata": {
        "id": "qbPVZVZp4sJY"
      }
    },
    {
      "cell_type": "code",
      "source": [
        "del greeting # Don't worry about this line, this is just to refresh the declaration of greeting()\n",
        "\n",
        "def greeting(name = 'stranger'):\n",
        "  \"\"\"Greets someone of the given name\"\"\"\n",
        "  print('Hello ' + name + ', how are you doing?')"
      ],
      "metadata": {
        "id": "HmhkMhvE4i8T"
      },
      "execution_count": null,
      "outputs": []
    },
    {
      "cell_type": "markdown",
      "source": [
        "This way the function can still be adapted to its arguments, but if the name isn't specified, the function will still be called with ```name``` set to ```'stranger'```."
      ],
      "metadata": {
        "id": "J9Mon-hh5F39"
      }
    },
    {
      "cell_type": "code",
      "source": [
        "greeting('Bob')\n",
        "greeting()"
      ],
      "metadata": {
        "colab": {
          "base_uri": "https://localhost:8080/"
        },
        "id": "flh9fYOJ5Rti",
        "outputId": "4d43f1fc-db78-486b-acc9-55b9d0ebc595"
      },
      "execution_count": null,
      "outputs": [
        {
          "output_type": "stream",
          "name": "stdout",
          "text": [
            "Hello Bob, how are you doing?\n",
            "Hello stranger, how are you doing?\n"
          ]
        }
      ]
    },
    {
      "cell_type": "markdown",
      "source": [
        "Default values can be given to some, all, or none of the arguments in a method call. However, if only some of the arguments are given default values, they must be ordered such that they come after arguments with default values. Take the below function:"
      ],
      "metadata": {
        "id": "pjthMkiU5zFM"
      }
    },
    {
      "cell_type": "code",
      "source": [
        "def introduce(friend, name = 'stranger'):\n",
        "  \"\"\"Introduce somebody to your friend\"\"\"\n",
        "  print('Hello ' + name + ', meet my friend ' + friend)"
      ],
      "metadata": {
        "id": "2esUqBzf6pdf"
      },
      "execution_count": null,
      "outputs": []
    },
    {
      "cell_type": "markdown",
      "source": [
        "Python wouldn't accept it if we put ```name``` as the first argument and ```friend``` as the second. Look at the below use cases, and try to predict what will happen for each one before executing. Which one will cause an error?"
      ],
      "metadata": {
        "id": "8QAYWumr6otG"
      }
    },
    {
      "cell_type": "code",
      "source": [
        "introduce('Bill')"
      ],
      "metadata": {
        "id": "eeYvpbo45fYa"
      },
      "execution_count": null,
      "outputs": []
    },
    {
      "cell_type": "code",
      "source": [
        "introduce('Bill', 'Ted')"
      ],
      "metadata": {
        "id": "chTdP1ei8sTX"
      },
      "execution_count": null,
      "outputs": []
    },
    {
      "cell_type": "code",
      "source": [
        "introduce('Bill', friend = 'Ted')"
      ],
      "metadata": {
        "id": "hTo6RiCU9C_6"
      },
      "execution_count": null,
      "outputs": []
    },
    {
      "cell_type": "code",
      "source": [
        "introduce(friend = 'Bill', name = 'Ted')"
      ],
      "metadata": {
        "id": "c3DPnn1e88D_"
      },
      "execution_count": null,
      "outputs": []
    },
    {
      "cell_type": "code",
      "source": [
        "introduce(name = 'Bill', friend = 'Ted')"
      ],
      "metadata": {
        "id": "YvRUzhh18uu4"
      },
      "execution_count": null,
      "outputs": []
    },
    {
      "cell_type": "markdown",
      "source": [
        "# Your Turn"
      ],
      "metadata": {
        "id": "M-AcqOdl9JDl"
      }
    },
    {
      "cell_type": "markdown",
      "source": [
        "Write a function ```mcdonalds()``` that takes in a name as an argument and welcomes them to McDonald's. Then execute the second cell below to confirm that it is working properly."
      ],
      "metadata": {
        "id": "UMg2JDHs-9Q_"
      }
    },
    {
      "cell_type": "code",
      "source": [
        "### YOUR CODE HERE ###"
      ],
      "metadata": {
        "id": "RmPfsfYU9LVG"
      },
      "execution_count": null,
      "outputs": []
    },
    {
      "cell_type": "code",
      "source": [
        "# Don't change the contents of this cell!\n",
        "mcdonalds('Katya')"
      ],
      "metadata": {
        "id": "Ksj5QjWV-NZv"
      },
      "execution_count": null,
      "outputs": []
    },
    {
      "cell_type": "markdown",
      "source": [
        "Write a function ```wendys()``` that takes in ```name1``` and ```name2``` as optional arguments with default values and welcomes them to Wendy's."
      ],
      "metadata": {
        "id": "1r2nDVRh_JZ1"
      }
    },
    {
      "cell_type": "code",
      "source": [
        "### YOUR CODE HERE ###"
      ],
      "metadata": {
        "id": "_82VSBY6_vqg"
      },
      "execution_count": null,
      "outputs": []
    },
    {
      "cell_type": "code",
      "source": [
        "# Don't change the contents of this cell!\n",
        "wendys('Aether', 'Lumine')\n",
        "wendys('Aether')\n",
        "wendys(name2 = 'Lumine')\n",
        "wendys(name2 = 'Lumine', name1 = 'Aether')"
      ],
      "metadata": {
        "id": "kI28qZcf_xdq"
      },
      "execution_count": null,
      "outputs": []
    }
  ]
}