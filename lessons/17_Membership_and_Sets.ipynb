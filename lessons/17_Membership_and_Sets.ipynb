{
  "nbformat": 4,
  "nbformat_minor": 0,
  "metadata": {
    "colab": {
      "provenance": [],
      "authorship_tag": "ABX9TyP8NYHgUFixaAOBp/TlnG5H",
      "include_colab_link": true
    },
    "kernelspec": {
      "name": "python3",
      "display_name": "Python 3"
    },
    "language_info": {
      "name": "python"
    }
  },
  "cells": [
    {
      "cell_type": "markdown",
      "metadata": {
        "id": "view-in-github",
        "colab_type": "text"
      },
      "source": [
        "<a href=\"https://colab.research.google.com/github/ddoberne/colab/blob/main/lessons/17_Membership_and_Sets.ipynb\" target=\"_parent\"><img src=\"https://colab.research.google.com/assets/colab-badge.svg\" alt=\"Open In Colab\"/></a>"
      ]
    },
    {
      "cell_type": "markdown",
      "source": [
        "# 17 Membership and Sets"
      ],
      "metadata": {
        "id": "gvvcZlX_NFiK"
      }
    },
    {
      "cell_type": "markdown",
      "source": [
        "If we wanted to check to see if a list has a certain number or string in it, we could do something like this:"
      ],
      "metadata": {
        "id": "vOUuIhnVNFc6"
      }
    },
    {
      "cell_type": "code",
      "execution_count": 15,
      "metadata": {
        "id": "7AGs8J2KM4vz"
      },
      "outputs": [],
      "source": [
        "def check_membership(x, mylist: list) -> bool:\n",
        "  \"\"\"Checks to see if x is in mylist.\"\"\"\n",
        "  for member in mylist:\n",
        "    if x == member:\n",
        "      return True\n",
        "  return False"
      ]
    },
    {
      "cell_type": "code",
      "source": [
        "a = 'banana'\n",
        "b = 3\n",
        "fruits = ['avocado', 'banana', 'cherry', 'durian']\n",
        "\n",
        "print(check_membership(a, fruits))\n",
        "print(check_membership(b, fruits))"
      ],
      "metadata": {
        "colab": {
          "base_uri": "https://localhost:8080/"
        },
        "id": "c88ZWxQeOxPb",
        "outputId": "2b0b5f50-ba2b-4b9f-bd4e-13ea12c02f2a"
      },
      "execution_count": 16,
      "outputs": [
        {
          "output_type": "stream",
          "name": "stdout",
          "text": [
            "True\n",
            "False\n"
          ]
        }
      ]
    },
    {
      "cell_type": "markdown",
      "source": [
        "This function iterates through the given list and sees if ```x``` is equal to any of its members, returning True if that's the case and False if it reaches the end. Fortunately, there's a much easier way to do this:"
      ],
      "metadata": {
        "id": "i6D8k15ZOhwc"
      }
    },
    {
      "cell_type": "code",
      "source": [
        "a in fruits"
      ],
      "metadata": {
        "colab": {
          "base_uri": "https://localhost:8080/"
        },
        "id": "4szHfBBhOdvE",
        "outputId": "4547aaa5-47f3-401f-f5e5-15e027d14a77"
      },
      "execution_count": 17,
      "outputs": [
        {
          "output_type": "execute_result",
          "data": {
            "text/plain": [
              "True"
            ]
          },
          "metadata": {},
          "execution_count": 17
        }
      ]
    },
    {
      "cell_type": "markdown",
      "source": [
        "... making it very easy to check if a specific value is in a list.\n",
        "\n",
        "```<member> in <list>```\n",
        "\n",
        "... will yield a ```True``` or ```False``` depending on whether the member is in the list or not.\n",
        "\n",
        "Sometimes, we want a list-like data type that ignores duplicates, and only cares about whether or not a certain number, string, or object is in it. Say for example you are putting a bunch of fruits into a basket; at the end, you want to see what different types of fruit are in it, and not necessarily every single fruit in the basket. This becomes especially important when working with larger lists, where you wouldn't want to sift through 200 individual members to find all the uniques."
      ],
      "metadata": {
        "id": "yqTyKoedP8S9"
      }
    },
    {
      "cell_type": "code",
      "source": [
        "import random\n",
        "big_basket = ['avocado'] * 15\n",
        "big_basket.extend(['banana'] * 8)\n",
        "big_basket.extend(['cherry'] * 30)\n",
        "big_basket.extend(['durian'])\n",
        "big_basket.extend(['grape'] * 20)\n",
        "random.shuffle(big_basket)\n",
        "print(big_basket)"
      ],
      "metadata": {
        "colab": {
          "base_uri": "https://localhost:8080/"
        },
        "id": "f4F-_IA-P1Vp",
        "outputId": "32a1748f-ab1d-4f77-ec0c-c46e3e52f718"
      },
      "execution_count": 18,
      "outputs": [
        {
          "output_type": "stream",
          "name": "stdout",
          "text": [
            "['avocado', 'grape', 'avocado', 'cherry', 'cherry', 'avocado', 'grape', 'cherry', 'cherry', 'grape', 'cherry', 'cherry', 'cherry', 'grape', 'durian', 'cherry', 'grape', 'grape', 'banana', 'avocado', 'grape', 'cherry', 'cherry', 'grape', 'banana', 'banana', 'avocado', 'avocado', 'cherry', 'grape', 'grape', 'cherry', 'banana', 'avocado', 'cherry', 'grape', 'cherry', 'cherry', 'cherry', 'banana', 'grape', 'grape', 'avocado', 'cherry', 'cherry', 'avocado', 'avocado', 'grape', 'cherry', 'grape', 'cherry', 'grape', 'banana', 'cherry', 'grape', 'cherry', 'avocado', 'avocado', 'cherry', 'grape', 'cherry', 'cherry', 'cherry', 'banana', 'cherry', 'cherry', 'grape', 'avocado', 'avocado', 'avocado', 'banana', 'cherry', 'grape', 'cherry']\n"
          ]
        }
      ]
    },
    {
      "cell_type": "markdown",
      "source": [
        "Can you find the durian? If you were handed the list (and not the above instructions of what to put in it), it would be easy to miss!\n",
        "\n",
        "For these situations, it becomes helpful to use **sets**. Converting a list to a set is as easy as ```set(<list>)```."
      ],
      "metadata": {
        "id": "4KtXO66iSHOc"
      }
    },
    {
      "cell_type": "code",
      "source": [
        "myset = set(big_basket)\n",
        "print(myset)"
      ],
      "metadata": {
        "colab": {
          "base_uri": "https://localhost:8080/"
        },
        "id": "okS7mIGMR-k6",
        "outputId": "e137bd67-f2ba-4e77-8b86-c1e09a9fb147"
      },
      "execution_count": 19,
      "outputs": [
        {
          "output_type": "stream",
          "name": "stdout",
          "text": [
            "{'avocado', 'durian', 'grape', 'banana', 'cherry'}\n"
          ]
        }
      ]
    },
    {
      "cell_type": "markdown",
      "source": [
        "When checking for membership in sets, use ```in``` the same way you would use it for lists."
      ],
      "metadata": {
        "id": "JGcZJIwxTRHm"
      }
    },
    {
      "cell_type": "code",
      "source": [
        "print('durian' in myset)\n",
        "print('orange' in myset)"
      ],
      "metadata": {
        "colab": {
          "base_uri": "https://localhost:8080/"
        },
        "id": "ymFaBklETM31",
        "outputId": "71680985-09b6-48fe-c10d-2152048a60b5"
      },
      "execution_count": 20,
      "outputs": [
        {
          "output_type": "stream",
          "name": "stdout",
          "text": [
            "True\n",
            "False\n"
          ]
        }
      ]
    },
    {
      "cell_type": "markdown",
      "source": [
        "It's important to note that sets are unordered, so indexing (something like ```myset[1]```) does not work on them. You can still iterate through each member of a set with a for loop, but just don't be dependent on any specific order."
      ],
      "metadata": {
        "id": "fagENwY3Sh_p"
      }
    },
    {
      "cell_type": "code",
      "source": [
        "for member in myset:\n",
        "  print(member)"
      ],
      "metadata": {
        "colab": {
          "base_uri": "https://localhost:8080/"
        },
        "id": "LxgPZ1Z9SgIR",
        "outputId": "51700310-a5e0-4f55-9472-e8ca9946d97a"
      },
      "execution_count": 21,
      "outputs": [
        {
          "output_type": "stream",
          "name": "stdout",
          "text": [
            "avocado\n",
            "durian\n",
            "grape\n",
            "banana\n",
            "cherry\n"
          ]
        }
      ]
    },
    {
      "cell_type": "markdown",
      "source": [
        "To add or remove members from a set, use ```<set>.add(<member>)``` or ```<set>.remove(<member>)```."
      ],
      "metadata": {
        "id": "XrztOhZbTGNp"
      }
    },
    {
      "cell_type": "code",
      "source": [
        "# This doesn't do anything because there's already an apple...\n",
        "myset.add('apple') \n",
        "# ... but it doesn't cause an error either.\n",
        "myset.add('tomato')\n",
        "myset.remove('durian')\n",
        "print(myset)"
      ],
      "metadata": {
        "colab": {
          "base_uri": "https://localhost:8080/"
        },
        "id": "MEH7HohLTEZ6",
        "outputId": "e8653165-a345-4d1d-9db7-94f7bb8f228d"
      },
      "execution_count": 22,
      "outputs": [
        {
          "output_type": "stream",
          "name": "stdout",
          "text": [
            "{'avocado', 'grape', 'tomato', 'banana', 'cherry', 'apple'}\n"
          ]
        }
      ]
    },
    {
      "cell_type": "code",
      "source": [
        "# However, trying to remove something that isn't in the set will cause an error.\n",
        "myset.remove('blackberry')"
      ],
      "metadata": {
        "id": "uS26TWsFUayg"
      },
      "execution_count": null,
      "outputs": []
    },
    {
      "cell_type": "markdown",
      "source": [
        "Finally, to convert a set to a list, you can use ```list(<set>)```. The set doesn't keep track of how many of each member were added or its order, so keep that in mind."
      ],
      "metadata": {
        "id": "gYXZzc60T0Be"
      }
    },
    {
      "cell_type": "code",
      "source": [
        "mylist = list(myset)\n",
        "print(mylist)"
      ],
      "metadata": {
        "colab": {
          "base_uri": "https://localhost:8080/"
        },
        "id": "3Q1v9aI8TzZP",
        "outputId": "5dddf19e-c09b-4344-ebf4-b837205711e0"
      },
      "execution_count": 23,
      "outputs": [
        {
          "output_type": "stream",
          "name": "stdout",
          "text": [
            "['avocado', 'grape', 'tomato', 'banana', 'cherry', 'apple']\n"
          ]
        }
      ]
    },
    {
      "cell_type": "markdown",
      "source": [
        "Notice how when printing the set in earlier cells, it was surrounded by curly braces ('{' and '}'), whereas the list version was surrounded by square brackets. This is Python's way of telling you what type your variable is!"
      ],
      "metadata": {
        "id": "PGvbQhNkUrUf"
      }
    },
    {
      "cell_type": "markdown",
      "source": [
        "# Practice!"
      ],
      "metadata": {
        "id": "uFE6DM_cU72f"
      }
    },
    {
      "cell_type": "markdown",
      "source": [
        "Write a function, ```union()```, that takes in two lists and returns a set with all of the unique members of both lists combined.\n",
        "\n",
        "Write a function, ```intersection()``` that takes in two lists and returns a set with all of the members present in both lists."
      ],
      "metadata": {
        "id": "Vax2KGGaVNav"
      }
    },
    {
      "cell_type": "code",
      "source": [
        "### YOUR CODE HERE ###"
      ],
      "metadata": {
        "id": "WJMuC8QSUp6X"
      },
      "execution_count": 24,
      "outputs": []
    },
    {
      "cell_type": "code",
      "source": [
        "# Don't modify the contents of this cell!\n",
        "fibonacci = [1, 1, 2, 3, 5, 8, 13, 21, 34]\n",
        "parabola = [1, 5, 8, 9, 8, 5, 1]\n",
        "\n",
        "# Should print {1, 2, 3, 5, 8, 9, 13, 21, 34}\n",
        "print(union(fibonacci, parabola))\n",
        "\n",
        "# Should print {1, 5, 8}\n",
        "print(intersection(fibonacci, parabola))"
      ],
      "metadata": {
        "id": "sNZTIH6rVmDD"
      },
      "execution_count": null,
      "outputs": []
    }
  ]
}