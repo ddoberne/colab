{
  "nbformat": 4,
  "nbformat_minor": 0,
  "metadata": {
    "colab": {
      "provenance": [],
      "authorship_tag": "ABX9TyMFeIks31sgRTxH2cUgSdjf",
      "include_colab_link": true
    },
    "kernelspec": {
      "name": "python3",
      "display_name": "Python 3"
    },
    "language_info": {
      "name": "python"
    }
  },
  "cells": [
    {
      "cell_type": "markdown",
      "metadata": {
        "id": "view-in-github",
        "colab_type": "text"
      },
      "source": [
        "<a href=\"https://colab.research.google.com/github/ddoberne/colab/blob/main/lessons/20_Objects.ipynb\" target=\"_parent\"><img src=\"https://colab.research.google.com/assets/colab-badge.svg\" alt=\"Open In Colab\"/></a>"
      ]
    },
    {
      "cell_type": "markdown",
      "source": [
        "# 20 Objects"
      ],
      "metadata": {
        "id": "jFgqNWg-FU9i"
      }
    },
    {
      "cell_type": "markdown",
      "source": [
        "In the previous two lessons, we worked with dictionaries, which are effective and flexible ways of storing labeled data. There are situations in which you might want to create a template to reuse the structure of data you want to store, or functions that interact with that data. This can still be done with dictionaries, as below, where I wrote a template to create such a dictionary and a function to modify a field in that dictionary."
      ],
      "metadata": {
        "id": "gDTqZgqLKrqb"
      }
    },
    {
      "cell_type": "code",
      "source": [
        "def create_pokemon(name: str, moves: list, level: int, pokedex: str) -> dict:\n",
        "  \"\"\"Creates a dictionary that stores a Pokemon's name, moves, level, and pokedex.\"\"\"\n",
        "  p = {}\n",
        "  p['name'] = name\n",
        "  p['moves'] = moves\n",
        "  p['level'] = level\n",
        "  p['pokedex'] = pokedex\n",
        "  return p\n",
        "\n",
        "def pokemon_level_up(p: dict):\n",
        "  \"\"\"Increases the 'level' of p by one.\"\"\"\n",
        "  p['level'] += 1\n",
        "\n",
        "def pokemon_learn_move(p: dict, move: str):\n",
        "  \"\"\"Appends a move to p's list of moves.\"\"\"\n",
        "  p['moves'].append(move)"
      ],
      "metadata": {
        "id": "E-Q-uFT4MaSc"
      },
      "execution_count": 1,
      "outputs": []
    },
    {
      "cell_type": "code",
      "source": [
        "arcanine = create_pokemon(name = 'Arcanine',\n",
        "                          moves = ['Flamethrower', 'Take Down', 'Extremespeed'],\n",
        "                          level = 45,\n",
        "                          pokedex = '''A Pokemon that has long been admired for its beauty. It runs gracefully, as if on wings.''')\n",
        "alakazam = create_pokemon(name = 'Alakazam',\n",
        "                          moves = ['Confuse Ray', 'Psychic', 'Recover'],\n",
        "                          level = 42,\n",
        "                          pokedex = '''Its brain can outperform a supercomputer. Its intelligence quotient is said to be 5000.''')\n",
        "\n",
        "for i in range(5): # Do this five times\n",
        "  pokemon_level_up(arcanine)\n",
        "  pokemon_level_up(alakazam)\n",
        "\n",
        "pokemon_learn_move(arcanine, 'Crunch')\n",
        "pokemon_learn_move(alakazam, 'Kinesis')\n",
        "\n",
        "print(arcanine)\n",
        "print(alakazam)"
      ],
      "metadata": {
        "colab": {
          "base_uri": "https://localhost:8080/"
        },
        "id": "AG-sfkFkN8hy",
        "outputId": "246cecb0-24e5-4d0e-a89f-e9cc30e1bf4f"
      },
      "execution_count": 2,
      "outputs": [
        {
          "output_type": "stream",
          "name": "stdout",
          "text": [
            "{'name': 'Arcanine', 'moves': ['Flamethrower', 'Take Down', 'Extremespeed'], 'level': 50, 'pokedex': 'A Pokemon that has long been admired for its beauty. It runs gracefully, as if on wings.'}\n",
            "{'name': 'Alakazam', 'moves': ['Confuse Ray', 'Psychic', 'Recover'], 'level': 47, 'pokedex': 'Its brain can outperform a supercomputer. Its intelligence quotient is said to be 5000.'}\n"
          ]
        }
      ]
    },
    {
      "cell_type": "markdown",
      "source": [
        "However, especially as the needs for the data type become more complex, it can be useful to use **objects** which are designed to store and create interactions for multiple instances of similarly structured data. Objects have a predetermined set of **attributes** and **methods**, where attributes store data and method act as functions you can use to interact with an object. When you declare an object, it initializes its own set of attributes that stay separate from other objects of the same type.\n",
        "\n",
        "Below, I will declare a **class**, which is used to create objects. I will explain each component further below."
      ],
      "metadata": {
        "id": "HLs8Uc3rR7Uj"
      }
    },
    {
      "cell_type": "code",
      "execution_count": 4,
      "metadata": {
        "id": "NXM8YuLmFSw6"
      },
      "outputs": [],
      "source": [
        "class Pokemon:\n",
        "  \"\"\"Stores information for a Pokemon object.\"\"\"\n",
        "\n",
        "  def __init__(self, name, pokedex):\n",
        "    \"\"\"Initiates a Pokemon object with name and pokedex.\"\"\"\n",
        "    self.name = name\n",
        "    self.moves = []\n",
        "    self.level = 1\n",
        "    self.pokedex = pokedex\n",
        "\n",
        "  def learn_move(self, move):\n",
        "    \"\"\"Appends move to this object's moves.\"\"\"\n",
        "    self.moves.append(move)\n",
        "\n",
        "  def level_up(self):\n",
        "    \"\"\"Increases this object's level by 1.\"\"\"\n",
        "    self.level += 1\n",
        "\n",
        "  def __str__(self):\n",
        "    \"\"\"Transforms this object into a string.\"\"\"\n",
        "    s = f'Name: {self.name}\\n'\n",
        "    s += f'  Level: {self.level}\\n'\n",
        "    s += f'  Moves: {self.moves}\\n'\n",
        "    s += f'  Pokedex: {self.pokedex}\\n'\n",
        "    return s\n",
        "  "
      ]
    },
    {
      "cell_type": "code",
      "source": [
        "p1 = Pokemon('Arcanine', 'A Pokemon that has long been admired for its beauty. It runs gracefully, as if on wings.')\n",
        "\n",
        "p1.learn_move('Flamethrower')\n",
        "p1.learn_move('Take Down')\n",
        "\n",
        "for i in range(40):\n",
        "  p1.level_up()\n",
        "\n",
        "print(p1)\n",
        "\n",
        "p2 = Pokemon('Alakazam', '''Its brain can outperform a supercomputer. Its intelligence quotient is said to be 5000.''')\n",
        "\n",
        "p2.learn_move('Confusion')\n",
        "p2.learn_move('Recover')\n",
        "\n",
        "for i in range(35):\n",
        "  p2.level_up()\n",
        "\n",
        "print(p2)"
      ],
      "metadata": {
        "id": "dYFF57E0Z8nM",
        "colab": {
          "base_uri": "https://localhost:8080/"
        },
        "outputId": "4527ecfc-a201-47dd-a184-ce67818cff39"
      },
      "execution_count": 9,
      "outputs": [
        {
          "output_type": "stream",
          "name": "stdout",
          "text": [
            "Name: Arcanine\n",
            "  Level: 41\n",
            "  Moves: ['Flamethrower', 'Take Down']\n",
            "  Pokedex: A Pokemon that has long been admired for its beauty. It runs gracefully, as if on wings.\n",
            "\n",
            "Name: Alakazam\n",
            "  Level: 36\n",
            "  Moves: ['Confusion', 'Recover']\n",
            "  Pokedex: Its brain can outperform a supercomputer. Its intelligence quotient is said to be 5000.\n",
            "\n"
          ]
        }
      ]
    },
    {
      "cell_type": "markdown",
      "source": [
        "```class Pokemon:```\n",
        "\n",
        "Everything in the following indent block will be attributed to this class. All functions defined in the indent block will be **methods** of the defined class, which are actions specific to objects of this type. Notice how \"Pokemon\" is uppercase in this example -- while there is no functional difference between uppercase and lowercase variable, function, or class names, it is convention for classes to be uppercase.\n",
        "\n",
        "\n",
        "```def __init__(self, name, pokemon):```\n",
        "\n",
        "This one may look confusing for a few reasons. First, we have that weird ```__init__``` method name. This is the method that will be called whenever you want to make an object with this class, like with the line:\n",
        "\n",
        "```p1 = Pokemon('Arcanine', 'A Pokemon that has long been admired for its beauty...')```\n",
        "\n",
        "But wait! The line that defines the method has three arguments, but we only passed two! That's because Python wants you to pass ```self``` as the first argument for each method you define. Later, when we write the lines:\n",
        "\n",
        "```\n",
        "self.name = name\n",
        "self.pokedex = pokedex\n",
        "```\n",
        "\n",
        "... we are giving our object its own attributes to store data. We can then access this data specific to each instance of the object:"
      ],
      "metadata": {
        "id": "bKCahvVwR0Wn"
      }
    },
    {
      "cell_type": "code",
      "source": [
        "print(p1.name)\n",
        "print(p2.name)"
      ],
      "metadata": {
        "colab": {
          "base_uri": "https://localhost:8080/"
        },
        "id": "hQyNZZzDSUkR",
        "outputId": "53ba6838-9d8f-466a-d492-e43d40c4196f"
      },
      "execution_count": 10,
      "outputs": [
        {
          "output_type": "stream",
          "name": "stdout",
          "text": [
            "Arcanine\n",
            "Alakazam\n"
          ]
        }
      ]
    },
    {
      "cell_type": "markdown",
      "source": [
        "So to summarize:\n",
        "* ```__init__``` methods will be called when making a new instance of a class object.\n",
        "* Use this method to set up your object how you'd like.\n",
        "\n",
        "```__init__``` methods are technically optional, but it's a good idea to define them so that yourself or future users know what to expect.\n",
        "\n",
        "Moving on, we have two methods:\n",
        "\n",
        "```\n",
        "  def learn_move(self, move):\n",
        "    self.moves.append(move)\n",
        "\n",
        "  def level_up(self):\n",
        "    self.level += 1\n",
        "```\n",
        "\n",
        "These two methods interact with the object variables. As defined in ```__init__```, ```moves``` is a list that can use ```.append()```, and ```level``` is an int. Each object keeps its own variables separate from other objects of the same type. As we saw above:\n",
        "\n",
        "```\n",
        "print(p1.name)\n",
        "print(p2.name)\n",
        "```\n",
        "... prints out two different names."
      ],
      "metadata": {
        "id": "IPNK0w7gV3PP"
      }
    },
    {
      "cell_type": "markdown",
      "source": [
        "```\n",
        "def __str__(self):\n",
        "    \"\"\"Transforms this object into a string.\"\"\"\n",
        "    s = f'Name: {self.name}\\n'\n",
        "    s += f'  Level: {self.level}\\n'\n",
        "    s += f'  Moves: {self.moves}\\n'\n",
        "    s += f'  Pokedex: {self.pokedex}\\n'\n",
        "    return s\n",
        "```\n",
        "The ```__str__()``` method is called on the object whenever it is used in a place where a string is expected, such as in ```print()```. This method should return a string. Defining this method is often optional, but it is nice to have something even if it's as simple as something like:\n",
        "\n",
        "```\n",
        "def __str__(self):\n",
        "    return self.name\n",
        "```"
      ],
      "metadata": {
        "id": "D3bLWKiRZVi7"
      }
    },
    {
      "cell_type": "markdown",
      "source": [
        "... and those are the basics of objects! While it's true that most of what can be done with objects can be done with dictionaries, it can be helpful to have a more stringent framework in place, especially as things get more complex."
      ],
      "metadata": {
        "id": "AVFv4cTkaHf0"
      }
    },
    {
      "cell_type": "markdown",
      "source": [
        "# Make your own objects!\n",
        "\n",
        "Define a class of your own design. Be sure for it to include ```__init__()``` and ```__str__()``` methods, as well as other methods to do things with the objects."
      ],
      "metadata": {
        "id": "VgpOuKFrYtN4"
      }
    },
    {
      "cell_type": "code",
      "source": [
        "### YOUR CODE HERE! ###"
      ],
      "metadata": {
        "id": "l9CsLqOcVP7U"
      },
      "execution_count": null,
      "outputs": []
    }
  ]
}