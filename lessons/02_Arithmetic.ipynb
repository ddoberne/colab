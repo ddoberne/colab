{
  "nbformat": 4,
  "nbformat_minor": 0,
  "metadata": {
    "colab": {
      "provenance": [],
      "authorship_tag": "ABX9TyPeR182W0wW7v371c/ChCPW",
      "include_colab_link": true
    },
    "kernelspec": {
      "name": "python3",
      "display_name": "Python 3"
    },
    "language_info": {
      "name": "python"
    }
  },
  "cells": [
    {
      "cell_type": "markdown",
      "metadata": {
        "id": "view-in-github",
        "colab_type": "text"
      },
      "source": [
        "<a href=\"https://colab.research.google.com/github/ddoberne/colab/blob/main/lessons/02_Arithmetic.ipynb\" target=\"_parent\"><img src=\"https://colab.research.google.com/assets/colab-badge.svg\" alt=\"Open In Colab\"/></a>"
      ]
    },
    {
      "cell_type": "markdown",
      "source": [
        "# 02 Arithmetic"
      ],
      "metadata": {
        "id": "WH061LFTaBw_"
      }
    },
    {
      "cell_type": "markdown",
      "source": [
        "In this lesson, we will go over the basic arithmetic functions of Python. Anything your calculator can do, you can be sure that Python can do it as well."
      ],
      "metadata": {
        "id": "YPV1HtqGaFOI"
      }
    },
    {
      "cell_type": "markdown",
      "source": [
        "* Addition"
      ],
      "metadata": {
        "id": "-AeOhwhZcnv5"
      }
    },
    {
      "cell_type": "code",
      "execution_count": null,
      "metadata": {
        "colab": {
          "base_uri": "https://localhost:8080/"
        },
        "id": "rwla-WcZZr2Y",
        "outputId": "6ca3d855-432a-44b7-bd81-32cd9acda914"
      },
      "outputs": [
        {
          "output_type": "execute_result",
          "data": {
            "text/plain": [
              "9"
            ]
          },
          "metadata": {},
          "execution_count": 2
        }
      ],
      "source": [
        "6 + 3"
      ]
    },
    {
      "cell_type": "markdown",
      "source": [
        "* Subtraction"
      ],
      "metadata": {
        "id": "gdZ4kvyGcrtz"
      }
    },
    {
      "cell_type": "code",
      "source": [
        "6 - 3"
      ],
      "metadata": {
        "colab": {
          "base_uri": "https://localhost:8080/"
        },
        "id": "tpQSvqfParoM",
        "outputId": "c6bb6e6f-1f2b-4d0c-8d04-c9b7cedbfebd"
      },
      "execution_count": null,
      "outputs": [
        {
          "output_type": "execute_result",
          "data": {
            "text/plain": [
              "3"
            ]
          },
          "metadata": {},
          "execution_count": 3
        }
      ]
    },
    {
      "cell_type": "markdown",
      "source": [
        "* Multiplication -- uses the * symbol"
      ],
      "metadata": {
        "id": "BS8UEmGhcuj0"
      }
    },
    {
      "cell_type": "code",
      "source": [
        "6 * 3"
      ],
      "metadata": {
        "colab": {
          "base_uri": "https://localhost:8080/"
        },
        "id": "xERVaFhJaxu-",
        "outputId": "bd243b13-603b-464b-e6d2-03102080c6b2"
      },
      "execution_count": null,
      "outputs": [
        {
          "output_type": "execute_result",
          "data": {
            "text/plain": [
              "18"
            ]
          },
          "metadata": {},
          "execution_count": 4
        }
      ]
    },
    {
      "cell_type": "markdown",
      "source": [
        "* Division -- uses the / symbol"
      ],
      "metadata": {
        "id": "Ca3aM5dnc2Ho"
      }
    },
    {
      "cell_type": "code",
      "source": [
        "6 / 3"
      ],
      "metadata": {
        "colab": {
          "base_uri": "https://localhost:8080/"
        },
        "id": "1cKf_-naa-vN",
        "outputId": "0ff620f2-1e29-4416-ffd2-f7171031c998"
      },
      "execution_count": null,
      "outputs": [
        {
          "output_type": "execute_result",
          "data": {
            "text/plain": [
              "2.0"
            ]
          },
          "metadata": {},
          "execution_count": 5
        }
      ]
    },
    {
      "cell_type": "markdown",
      "source": [
        "Of course, we can use variable assignment to save values, then perform these operations on them."
      ],
      "metadata": {
        "id": "dibXYhPHbWdg"
      }
    },
    {
      "cell_type": "code",
      "source": [
        "a = 6\n",
        "b = 3"
      ],
      "metadata": {
        "id": "JF102d8WbBFm"
      },
      "execution_count": null,
      "outputs": []
    },
    {
      "cell_type": "code",
      "source": [
        "a + b"
      ],
      "metadata": {
        "colab": {
          "base_uri": "https://localhost:8080/"
        },
        "id": "iLWtxwKWbpwS",
        "outputId": "ded90ea6-c7d6-42de-f2a4-351e0b7ee8b5"
      },
      "execution_count": null,
      "outputs": [
        {
          "output_type": "execute_result",
          "data": {
            "text/plain": [
              "9"
            ]
          },
          "metadata": {},
          "execution_count": 7
        }
      ]
    },
    {
      "cell_type": "code",
      "source": [
        "a - b"
      ],
      "metadata": {
        "colab": {
          "base_uri": "https://localhost:8080/"
        },
        "id": "DTDhn0Xcbslz",
        "outputId": "5e4f2203-d48a-4d21-9890-bfcd2a39e00d"
      },
      "execution_count": null,
      "outputs": [
        {
          "output_type": "execute_result",
          "data": {
            "text/plain": [
              "3"
            ]
          },
          "metadata": {},
          "execution_count": 8
        }
      ]
    },
    {
      "cell_type": "code",
      "source": [
        "a * b"
      ],
      "metadata": {
        "colab": {
          "base_uri": "https://localhost:8080/"
        },
        "id": "9lSvtFOJbtOc",
        "outputId": "f01ee519-bf97-44a6-8def-46f64ef9e258"
      },
      "execution_count": null,
      "outputs": [
        {
          "output_type": "execute_result",
          "data": {
            "text/plain": [
              "18"
            ]
          },
          "metadata": {},
          "execution_count": 9
        }
      ]
    },
    {
      "cell_type": "code",
      "source": [
        "a / b"
      ],
      "metadata": {
        "colab": {
          "base_uri": "https://localhost:8080/"
        },
        "id": "JdLx9klVbuOT",
        "outputId": "e51f4055-5ea1-44df-e3ed-257c195b152c"
      },
      "execution_count": null,
      "outputs": [
        {
          "output_type": "execute_result",
          "data": {
            "text/plain": [
              "2.0"
            ]
          },
          "metadata": {},
          "execution_count": 10
        }
      ]
    },
    {
      "cell_type": "markdown",
      "source": [
        "Note that the values for **a** and **b** stay the same throughout this section, because we don't assign them new values. If we want to change the value of a variable, it is common to write code like this:"
      ],
      "metadata": {
        "id": "_IpD9VBCcn0G"
      }
    },
    {
      "cell_type": "code",
      "source": [
        "a = a + 1\n",
        "print(a)"
      ],
      "metadata": {
        "colab": {
          "base_uri": "https://localhost:8080/"
        },
        "id": "bfg3n6ErdEM9",
        "outputId": "9fcc8879-e54c-4d7c-b13b-db7dff863ae6"
      },
      "execution_count": null,
      "outputs": [
        {
          "output_type": "stream",
          "name": "stdout",
          "text": [
            "7\n"
          ]
        }
      ]
    },
    {
      "cell_type": "markdown",
      "source": [
        "Whatever **a** was before, it's now one greater."
      ],
      "metadata": {
        "id": "i1FsaUwddHem"
      }
    },
    {
      "cell_type": "markdown",
      "source": [
        "# Special Operators"
      ],
      "metadata": {
        "id": "zTwWps5lcOWU"
      }
    },
    {
      "cell_type": "markdown",
      "source": [
        "There are three more operations we frequently use in Python. These might be less familiar:"
      ],
      "metadata": {
        "id": "7Qmg2yyNdHKA"
      }
    },
    {
      "cell_type": "markdown",
      "source": [
        "* Exponents -- instead of writing superscript or a ^ symbol, Python uses double stars for exponents."
      ],
      "metadata": {
        "id": "x6b3upfWdZFZ"
      }
    },
    {
      "cell_type": "code",
      "source": [
        "# This is the same as 4 * 4 * 4\n",
        "4 ** 3"
      ],
      "metadata": {
        "colab": {
          "base_uri": "https://localhost:8080/"
        },
        "id": "zcvdHDl1bvdk",
        "outputId": "5a07c87f-7ee0-4011-8ced-e4cb19b6199d"
      },
      "execution_count": null,
      "outputs": [
        {
          "output_type": "execute_result",
          "data": {
            "text/plain": [
              "64"
            ]
          },
          "metadata": {},
          "execution_count": 12
        }
      ]
    },
    {
      "cell_type": "markdown",
      "source": [
        "* Modulus -- remember how in long division you would have a remainder? This calculates that remainder. Frequently used to find the last digit or digits of a number."
      ],
      "metadata": {
        "id": "OAHRL-dbd2Eg"
      }
    },
    {
      "cell_type": "code",
      "source": [
        "157 % 10"
      ],
      "metadata": {
        "colab": {
          "base_uri": "https://localhost:8080/"
        },
        "id": "r-ZkPYLqcW-Q",
        "outputId": "9ff19618-45c3-4f1a-ab07-38ad7b39f4b1"
      },
      "execution_count": null,
      "outputs": [
        {
          "output_type": "execute_result",
          "data": {
            "text/plain": [
              "7"
            ]
          },
          "metadata": {},
          "execution_count": 13
        }
      ]
    },
    {
      "cell_type": "code",
      "source": [
        "157 % 100"
      ],
      "metadata": {
        "colab": {
          "base_uri": "https://localhost:8080/"
        },
        "id": "R82EQ-INfkIO",
        "outputId": "e5e42ceb-b4d3-4551-9d80-690d9ed88129"
      },
      "execution_count": null,
      "outputs": [
        {
          "output_type": "execute_result",
          "data": {
            "text/plain": [
              "57"
            ]
          },
          "metadata": {},
          "execution_count": 14
        }
      ]
    },
    {
      "cell_type": "markdown",
      "source": [
        "* Floor division -- division, but rounding down to the whole number. Begone, decimels!"
      ],
      "metadata": {
        "id": "8ABOo8a-fnao"
      }
    },
    {
      "cell_type": "code",
      "source": [
        "4 // 3"
      ],
      "metadata": {
        "colab": {
          "base_uri": "https://localhost:8080/"
        },
        "id": "r7ZQhxTKfmKf",
        "outputId": "8e4cf699-f6be-47c1-8c66-6d6e8f7d8861"
      },
      "execution_count": null,
      "outputs": [
        {
          "output_type": "execute_result",
          "data": {
            "text/plain": [
              "1"
            ]
          },
          "metadata": {},
          "execution_count": 15
        }
      ]
    },
    {
      "cell_type": "code",
      "source": [
        "5 // 3"
      ],
      "metadata": {
        "colab": {
          "base_uri": "https://localhost:8080/"
        },
        "id": "WLg6EE3gf72L",
        "outputId": "6a287954-b046-4989-fc3f-7074a727a1bf"
      },
      "execution_count": null,
      "outputs": [
        {
          "output_type": "execute_result",
          "data": {
            "text/plain": [
              "1"
            ]
          },
          "metadata": {},
          "execution_count": 16
        }
      ]
    },
    {
      "cell_type": "code",
      "source": [
        "6 // 3"
      ],
      "metadata": {
        "colab": {
          "base_uri": "https://localhost:8080/"
        },
        "id": "oWPfbhtNf9s7",
        "outputId": "9af6a4d4-9433-4ec3-aa0f-3a844f9ff1e4"
      },
      "execution_count": null,
      "outputs": [
        {
          "output_type": "execute_result",
          "data": {
            "text/plain": [
              "2"
            ]
          },
          "metadata": {},
          "execution_count": 17
        }
      ]
    },
    {
      "cell_type": "markdown",
      "source": [
        "# Order of Operations"
      ],
      "metadata": {
        "id": "8EsRWJZGgek8"
      }
    },
    {
      "cell_type": "markdown",
      "source": [
        "Nobody likes dealing with the order of operations. At least, I don't like dealing with it 😅. Nevertheless, it's a good idea to have an idea of how it works. The order is:\n",
        "* Parentheses\n",
        "* Exponents\n",
        "* Multiplication/Division\n",
        "* Addition/Subtraction\n",
        "\n",
        "When you have two operations of the same tier next to each other, go left to right."
      ],
      "metadata": {
        "id": "Kci7CBpeghge"
      }
    },
    {
      "cell_type": "code",
      "source": [
        "4 + 3 - 2 - 1"
      ],
      "metadata": {
        "colab": {
          "base_uri": "https://localhost:8080/"
        },
        "id": "0xhOveTigg2F",
        "outputId": "cf8539f9-3eed-4a08-ee90-96ddc53c62e5"
      },
      "execution_count": null,
      "outputs": [
        {
          "output_type": "execute_result",
          "data": {
            "text/plain": [
              "4"
            ]
          },
          "metadata": {},
          "execution_count": 18
        }
      ]
    },
    {
      "cell_type": "markdown",
      "source": [
        "* 4 + 3 is 7\n",
        "* 7 - 2 is 5\n",
        "* 5 - 1 is 4"
      ],
      "metadata": {
        "id": "gV3tklMUluHk"
      }
    },
    {
      "cell_type": "code",
      "source": [
        "4 + 3 * 2 - 1"
      ],
      "metadata": {
        "colab": {
          "base_uri": "https://localhost:8080/"
        },
        "id": "5uuxgZSimXa3",
        "outputId": "21cf39e7-de7a-4c94-f707-0b410a23e20f"
      },
      "execution_count": null,
      "outputs": [
        {
          "output_type": "execute_result",
          "data": {
            "text/plain": [
              "9"
            ]
          },
          "metadata": {},
          "execution_count": 19
        }
      ]
    },
    {
      "cell_type": "markdown",
      "source": [
        "* Multiplication first: 3 * 2 is 6\n",
        "* 4 + 6 is 10\n",
        "* 10 - 1 is 9"
      ],
      "metadata": {
        "id": "V3Eyp0mImbXp"
      }
    },
    {
      "cell_type": "markdown",
      "source": [
        "Fortunately, it's possible to avoid spots where you need to figure out the order. You can either separate each step to a separate line:"
      ],
      "metadata": {
        "id": "XC5fnFxcmHQQ"
      }
    },
    {
      "cell_type": "code",
      "source": [
        "a = 4 + 3\n",
        "b = a * 2\n",
        "c = b - 1\n",
        "print(c)"
      ],
      "metadata": {
        "colab": {
          "base_uri": "https://localhost:8080/"
        },
        "id": "NLrN-XUlf-XL",
        "outputId": "d6f9f071-95d0-4e4d-e578-72e52d471237"
      },
      "execution_count": null,
      "outputs": [
        {
          "output_type": "stream",
          "name": "stdout",
          "text": [
            "13\n"
          ]
        }
      ]
    },
    {
      "cell_type": "markdown",
      "source": [
        "Or, you can use parentheses to group together the actions you want performed first:"
      ],
      "metadata": {
        "id": "iozx8TJdnLky"
      }
    },
    {
      "cell_type": "code",
      "source": [
        "(4 + 3) * (2 - 1)"
      ],
      "metadata": {
        "colab": {
          "base_uri": "https://localhost:8080/"
        },
        "id": "c3-Bj6bhl9li",
        "outputId": "2f7aff30-05f4-4482-ad53-7f0f6e4b2967"
      },
      "execution_count": null,
      "outputs": [
        {
          "output_type": "execute_result",
          "data": {
            "text/plain": [
              "7"
            ]
          },
          "metadata": {},
          "execution_count": 21
        }
      ]
    },
    {
      "cell_type": "markdown",
      "source": [
        "Notice how each of these cells have different results! Understanding the order of how code will execute is very important in making sure it's doing what you want."
      ],
      "metadata": {
        "id": "kI924F1CneHL"
      }
    },
    {
      "cell_type": "markdown",
      "source": [
        "# Word Problems"
      ],
      "metadata": {
        "id": "1ev4KLTJ3jAK"
      }
    },
    {
      "cell_type": "markdown",
      "source": [
        "Perhaps that title fills you with dread and/or trauma from math class at school, but I promise to give you some underhand tosses. Use the above operations to find the answer to these problems!"
      ],
      "metadata": {
        "id": "4861zDHZ3mrU"
      }
    },
    {
      "cell_type": "markdown",
      "source": [
        "* There are six full baskets of apples containing eight apiece. How many apples are there total?"
      ],
      "metadata": {
        "id": "3vWXU7LA4IQ0"
      }
    },
    {
      "cell_type": "code",
      "source": [
        "### YOUR CODE HERE ###\n"
      ],
      "metadata": {
        "id": "p-2aYvWvnd3b"
      },
      "execution_count": null,
      "outputs": []
    },
    {
      "cell_type": "markdown",
      "source": [
        "* 14 baskets contain a total of 211 apples. What is the average number of apples in each basket?"
      ],
      "metadata": {
        "id": "2A6jSEnl4oFl"
      }
    },
    {
      "cell_type": "code",
      "source": [
        "### YOUR CODE HERE ###\n"
      ],
      "metadata": {
        "id": "UFlx6dZX4ns8"
      },
      "execution_count": null,
      "outputs": []
    },
    {
      "cell_type": "markdown",
      "source": [
        "* There are four small baskets with seven apples apiece, and two large baskets with twelve apples apiece. How many apples do you have in total?"
      ],
      "metadata": {
        "id": "9omVZgHs5Gbz"
      }
    },
    {
      "cell_type": "code",
      "source": [
        "### YOUR CODE HERE ###\n"
      ],
      "metadata": {
        "id": "OJsVHsnznXSn"
      },
      "execution_count": null,
      "outputs": []
    },
    {
      "cell_type": "markdown",
      "source": [
        "* You have 91 apples. Each basket can only carry a total of eight apples. How many can you fill completely? How many apples will be left over?"
      ],
      "metadata": {
        "id": "ZdqzpUcg5fdn"
      }
    },
    {
      "cell_type": "code",
      "source": [
        "### YOUR CODE HERE ###\n"
      ],
      "metadata": {
        "id": "Vo1T-i7E5rom"
      },
      "execution_count": null,
      "outputs": []
    },
    {
      "cell_type": "markdown",
      "source": [
        "Don't forget to save your notebook!"
      ],
      "metadata": {
        "id": "bCU0U8NO4lGD"
      }
    }
  ]
}