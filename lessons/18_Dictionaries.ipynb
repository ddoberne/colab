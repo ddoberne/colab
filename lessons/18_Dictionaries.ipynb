{
  "nbformat": 4,
  "nbformat_minor": 0,
  "metadata": {
    "colab": {
      "provenance": [],
      "authorship_tag": "ABX9TyMlWIsnHgNxU+kcsaIxnEFc",
      "include_colab_link": true
    },
    "kernelspec": {
      "name": "python3",
      "display_name": "Python 3"
    },
    "language_info": {
      "name": "python"
    }
  },
  "cells": [
    {
      "cell_type": "markdown",
      "metadata": {
        "id": "view-in-github",
        "colab_type": "text"
      },
      "source": [
        "<a href=\"https://colab.research.google.com/github/ddoberne/colab/blob/main/lessons/18_Dictionaries.ipynb\" target=\"_parent\"><img src=\"https://colab.research.google.com/assets/colab-badge.svg\" alt=\"Open In Colab\"/></a>"
      ]
    },
    {
      "cell_type": "markdown",
      "source": [
        "# 18 Dictionaries"
      ],
      "metadata": {
        "id": "QN6vsvsIXCrF"
      }
    },
    {
      "cell_type": "markdown",
      "source": [
        "Brace yourself, this lesson is a big one. It will be hard to grasp at first, but feeling comfortable with **dictionaries** is a huge game changer in the world of Python. Take a moment to stretch, get something to drink, and get comfortable.\n",
        "\n",
        "Ok, let's get started.\n",
        "\n",
        "To make an empty dictionary, we will set a variable to ```{}```. Note that while we used curly braces for sets, this will make a dictionary instead. While that may be confusing, in practice it ends up being quite convenient."
      ],
      "metadata": {
        "id": "8QUcLm4zXFHm"
      }
    },
    {
      "cell_type": "code",
      "execution_count": 1,
      "metadata": {
        "id": "2j27f81JXAbv"
      },
      "outputs": [],
      "source": [
        "pokemon = {}"
      ]
    },
    {
      "cell_type": "markdown",
      "source": [
        "Dictionaries are a way of storing labeled data. Right now, we have an empty dictionary. To add data to this dictionary, we specify a \"key\" and assign it a value. The syntax is as follows:\n",
        "\n",
        "```<dictionary>[<key>] = <value>```"
      ],
      "metadata": {
        "id": "C_40Y9z_YYcM"
      }
    },
    {
      "cell_type": "code",
      "source": [
        "pokemon['name'] = 'Arcanine'"
      ],
      "metadata": {
        "id": "nrQo4eaAZGnS"
      },
      "execution_count": 2,
      "outputs": []
    },
    {
      "cell_type": "markdown",
      "source": [
        "Here, we are telling the dictionary that its value for ```'name'``` is ```'Arcanine'```. The key, ```'name'```, serves as a label for the data we want it to store. Keys can be only be integers or strings, while values can be anything. And while keys can be either integers or strings, I recommend sticking to strings only, as the whole point of dictionaries are to stay organized and label your data."
      ],
      "metadata": {
        "id": "iRZEj0KqaAmM"
      }
    },
    {
      "cell_type": "code",
      "source": [
        "print(pokemon['name'])"
      ],
      "metadata": {
        "id": "fVKgTmpWafFi",
        "colab": {
          "base_uri": "https://localhost:8080/"
        },
        "outputId": "567d67fd-0237-44a5-805b-beef82857fdb"
      },
      "execution_count": 3,
      "outputs": [
        {
          "output_type": "stream",
          "name": "stdout",
          "text": [
            "Arcanine\n"
          ]
        }
      ]
    },
    {
      "cell_type": "markdown",
      "source": [
        "When calling a dictionary in this way, it's like we're asking it, \"What is the name for ```pokemon```?\"\n",
        "\n",
        "Let's give Arcanine a few more traits."
      ],
      "metadata": {
        "id": "KrQv1bmZahLL"
      }
    },
    {
      "cell_type": "code",
      "source": [
        "pokemon['level'] = 45\n",
        "pokemon['hp'] = 100\n",
        "pokemon['moves'] = ['Flamethrower', 'Take Down']\n",
        "pokemon['type'] = 'Fire'\n",
        "pokemon['pokedex'] = '''A Pokemon that has long been admired for its beauty. It runs gracefully, as if on wings.'''\n",
        "print(pokemon)"
      ],
      "metadata": {
        "id": "thlEf0xcb9eP",
        "colab": {
          "base_uri": "https://localhost:8080/"
        },
        "outputId": "7a3d0d5e-f67d-4bb4-80c6-0a921c82a83d"
      },
      "execution_count": 4,
      "outputs": [
        {
          "output_type": "stream",
          "name": "stdout",
          "text": [
            "{'name': 'Arcanine', 'level': 45, 'hp': 100, 'moves': ['Flamethrower', 'Take Down'], 'type': 'Fire', 'pokedex': 'A Pokemon that has long been admired for its beauty. It runs gracefully, as if on wings.'}\n"
          ]
        }
      ]
    },
    {
      "cell_type": "markdown",
      "source": [
        "While it may be difficult to read the printout of the entire dictionary, it can be easy to get specific information stored within it if we are consistent with labeling.\n",
        "\n",
        "Let's make another dictionary."
      ],
      "metadata": {
        "id": "v31ov2HBZC8B"
      }
    },
    {
      "cell_type": "code",
      "source": [
        "pokemon2 = {} # Don't forget to start with an empty dictionary!\n",
        "pokemon2['name'] = 'Alakazam'\n",
        "pokemon2['level'] = 42\n",
        "pokemon2['hp'] = 80\n",
        "pokemon2['moves'] = ['Confuse Ray']\n",
        "pokemon2['type'] = 'Psychic'\n",
        "pokemon2['pokedex'] = '''Its brain can outperform a supercomputer. Its intelligence quotient is said to be 5000.'''"
      ],
      "metadata": {
        "id": "oKplO674dXVw"
      },
      "execution_count": 5,
      "outputs": []
    },
    {
      "cell_type": "markdown",
      "source": [
        "Now that we have two dictionaries that are labeled the same way, we can make comparisons between the two."
      ],
      "metadata": {
        "id": "L4s0Ho-cKcOE"
      }
    },
    {
      "cell_type": "code",
      "source": [
        "# Is the first pokemon a higher level than the second?\n",
        "print(f\"The first Pokemon's level is {pokemon['level']}\")\n",
        "print(f\"The second Pokemon's level is {pokemon2['level']}\")\n",
        "print(pokemon['level'] > pokemon2['level'])"
      ],
      "metadata": {
        "colab": {
          "base_uri": "https://localhost:8080/"
        },
        "id": "wHCbiz6sKb2s",
        "outputId": "7c12dcd2-9282-4c3c-a200-358197a66b39"
      },
      "execution_count": 6,
      "outputs": [
        {
          "output_type": "stream",
          "name": "stdout",
          "text": [
            "The first Pokemon's level is 45\n",
            "The second Pokemon's level is 42\n",
            "True\n"
          ]
        }
      ]
    },
    {
      "cell_type": "markdown",
      "source": [
        "Or, we can write functions that take advantage of the consistent structure we've established."
      ],
      "metadata": {
        "id": "b0R5-o4LLFTY"
      }
    },
    {
      "cell_type": "code",
      "source": [
        "def pokedex(p: dict) -> str:\n",
        "  \"\"\"Returns the Pokedex entry of a Pokemon p.\"\"\"\n",
        "  # We are going to ask the dictionary for its value under the 'pokedex' label.\n",
        "  return p['pokedex']"
      ],
      "metadata": {
        "id": "ss48q5NYLTc4"
      },
      "execution_count": 7,
      "outputs": []
    },
    {
      "cell_type": "code",
      "source": [
        "print(pokedex(pokemon))\n",
        "print(pokedex(pokemon2))"
      ],
      "metadata": {
        "colab": {
          "base_uri": "https://localhost:8080/"
        },
        "id": "T8owxhObLjff",
        "outputId": "ff8a47a0-e6d7-49f3-eb88-11fad89e4e6d"
      },
      "execution_count": 8,
      "outputs": [
        {
          "output_type": "stream",
          "name": "stdout",
          "text": [
            "A Pokemon that has long been admired for its beauty. It runs gracefully, as if on wings.\n",
            "Its brain can outperform a supercomputer. Its intelligence quotient is said to be 5000.\n"
          ]
        }
      ]
    },
    {
      "cell_type": "markdown",
      "source": [
        "There are many more applications of dictionaries in Python. What is important to understand for now is that dictionaries benefit from deliberate and consistent labeling, "
      ],
      "metadata": {
        "id": "IvKcudTqLukd"
      }
    },
    {
      "cell_type": "markdown",
      "source": [
        "# Practice"
      ],
      "metadata": {
        "id": "AWCvO3tQMUAH"
      }
    },
    {
      "cell_type": "markdown",
      "source": [
        "Write a function, ```get_level()```, that returns the level of a Pokemon dictionary defined in the same way as above. Feel free to make your own, or use the existing ```pokemon``` or ```pokemon2``` to test out the function."
      ],
      "metadata": {
        "id": "GGI2jVnNMbRj"
      }
    },
    {
      "cell_type": "code",
      "source": [
        "### YOUR CODE HERE ###"
      ],
      "metadata": {
        "id": "CD69YmYcMW5h"
      },
      "execution_count": 9,
      "outputs": []
    },
    {
      "cell_type": "code",
      "source": [
        "# Make sure this cell runs properly!\n",
        "print(get_level(pokemon))\n",
        "print(get_level(pokemon2))"
      ],
      "metadata": {
        "id": "Om3UnWnUMtjl"
      },
      "execution_count": null,
      "outputs": []
    },
    {
      "cell_type": "markdown",
      "source": [
        "Write a function, ```higher_level()```, that takes in two Pokemon dictionaries and returns the **name** of the Pokemon with the higher level."
      ],
      "metadata": {
        "id": "XKQxZlHgMzso"
      }
    },
    {
      "cell_type": "code",
      "source": [
        "### YOUR CODE HERE ###"
      ],
      "metadata": {
        "id": "kL6A-ZXDNIXR"
      },
      "execution_count": null,
      "outputs": []
    },
    {
      "cell_type": "code",
      "source": [
        "# This should print out Arcanine!\n",
        "print(higher_level(pokemon, pokemon2))"
      ],
      "metadata": {
        "id": "YJXZWKgQNJea"
      },
      "execution_count": null,
      "outputs": []
    }
  ]
}