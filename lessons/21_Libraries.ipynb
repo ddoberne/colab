{
  "nbformat": 4,
  "nbformat_minor": 0,
  "metadata": {
    "colab": {
      "provenance": [],
      "authorship_tag": "ABX9TyN6Kzin20qMeao8iYGbrxcG",
      "include_colab_link": true
    },
    "kernelspec": {
      "name": "python3",
      "display_name": "Python 3"
    },
    "language_info": {
      "name": "python"
    }
  },
  "cells": [
    {
      "cell_type": "markdown",
      "metadata": {
        "id": "view-in-github",
        "colab_type": "text"
      },
      "source": [
        "<a href=\"https://colab.research.google.com/github/ddoberne/colab/blob/main/lessons/21_Libraries.ipynb\" target=\"_parent\"><img src=\"https://colab.research.google.com/assets/colab-badge.svg\" alt=\"Open In Colab\"/></a>"
      ]
    },
    {
      "cell_type": "markdown",
      "source": [
        "# 21 Libraries"
      ],
      "metadata": {
        "id": "zkCvCkzxvFWv"
      }
    },
    {
      "cell_type": "markdown",
      "source": [
        "Have you ever written code for one program that you want to use in another? You may have copy and pasted functions or classes from one file to another at some point. While that works, it makes for bloated files, and if you want to make a change to some of the copied code, you would need to make the same exact change for each place you copied it to. Thankfully, making use of **libraries** gives us a way to streamline this process!\n",
        "\n",
        "We've actually used libraries before -- any time we ```import``` something, like ```random```, we are using a library. Today, we'll go through how to store and use your own libraries."
      ],
      "metadata": {
        "id": "AzvLdhrwvHiH"
      }
    },
    {
      "cell_type": "markdown",
      "source": [
        "First, we need to create a ```.py``` file with some code that would be useful in several different scenarios. Below is the contents of ```motivator.py```:\n",
        "\n",
        "```\n",
        "import random\n",
        "\n",
        "a = \"You're doing great. \"\n",
        "b = \"You've been awesome today. \"\n",
        "c = \"You're on a roll. \"\n",
        "\n",
        "x = \"Keep up the good work!\"\n",
        "y = \"Keep pushing!\"\n",
        "z = \"Let's keep at it!\"\n",
        "\n",
        "def motivate() -> str:\n",
        "  \"\"\"Returns a string with a randomly chosen motivator.\"\"\"\n",
        "  s = random.choice([a, b, c]) + random.choice([x, y, z])\n",
        "  return s\n",
        "```"
      ],
      "metadata": {
        "id": "cUvcixSwwpD_"
      }
    },
    {
      "cell_type": "markdown",
      "source": [
        "In order to import this library, we need to put this ```.py``` file in the same directory that we are working in. For colab, that means downloading the file and uploading it. Download the file by following these steps:\n",
        "\n",
        "1.   Access the file on GitHub at this link: [https://github.com/ddoberne/colab/blob/main/lessons/motivator.py](https://github.com/ddoberne/colab/blob/main/lessons/motivator.py)\n",
        "2.   Right click ```\"Raw\"``` on the upper right side, then click ```Save link as...```\n",
        "\n",
        "\n",
        "Alternatively, you can create a new notebook in colab, copy and paste the file's contents, then go to ```File -> Download -> Download .py```.\n",
        "\n",
        "Once the file is downloaded, you can upload it by clicking the folder icon at the far left of this window, then clicking the page with an up arrow to upload it. If everything went according to plan, you should be able to see the file on the left side of your screen.\n",
        "\n"
      ],
      "metadata": {
        "id": "g4Z4RWkPzQyj"
      }
    },
    {
      "cell_type": "markdown",
      "source": [
        "Now we can import ```motivator``` the same way we imported ```random``` previously. As a reminder, to access a function within an imported module, we have to first call the name we imported, then the function.\n",
        "\n",
        "```motivator.motivate()```"
      ],
      "metadata": {
        "id": "iOgPACkD1Bp5"
      }
    },
    {
      "cell_type": "code",
      "execution_count": 4,
      "metadata": {
        "colab": {
          "base_uri": "https://localhost:8080/"
        },
        "id": "9h1Za5PEhNX0",
        "outputId": "8f7e8bea-393d-46f4-c000-527fcab1599c"
      },
      "outputs": [
        {
          "output_type": "stream",
          "name": "stdout",
          "text": [
            "You're doing great. Let's keep at it!\n",
            "You're on a roll. Keep pushing!\n",
            "You're on a roll. Let's keep at it!\n",
            "You've been awesome today. Keep up the good work!\n",
            "You've been awesome today. Keep pushing!\n"
          ]
        }
      ],
      "source": [
        "import motivator\n",
        "\n",
        "for i in range(5):\n",
        "  s = motivator.motivate()\n",
        "  print(s)"
      ]
    },
    {
      "cell_type": "markdown",
      "source": [
        "We can also import specific functions from a library. If we do this, we will only get access to the functions or classes we specified."
      ],
      "metadata": {
        "id": "my2zWKMxBDkm"
      }
    },
    {
      "cell_type": "code",
      "source": [
        "from motivator import motivate\n",
        "\n",
        "motivate()"
      ],
      "metadata": {
        "id": "OmlQGrUU2V5b"
      },
      "execution_count": null,
      "outputs": []
    },
    {
      "cell_type": "markdown",
      "source": [
        "Finally, we can give an **alias** to things that we import. An alias is like a shortened nickname, so that we don't have to type out the name of a longer-named package several times. This comes in handy when importing full libraries from which we will use several different functions."
      ],
      "metadata": {
        "id": "aDoNsmHxBlOe"
      }
    },
    {
      "cell_type": "code",
      "source": [
        "import random as rd\n",
        "\n",
        "print(rd.randint(1, 7))\n",
        "print(rd.choice([1, 4, 9, 16]))\n",
        "print(rd.uniform(0, 1))"
      ],
      "metadata": {
        "colab": {
          "base_uri": "https://localhost:8080/"
        },
        "id": "lcXO1kPQCAUr",
        "outputId": "37aee9a4-7926-4e3d-bd4a-347ad27548f6"
      },
      "execution_count": 6,
      "outputs": [
        {
          "output_type": "stream",
          "name": "stdout",
          "text": [
            "6\n",
            "9\n",
            "0.2611742879180027\n"
          ]
        }
      ]
    },
    {
      "cell_type": "markdown",
      "source": [
        "# Practice!\n",
        "\n",
        "Create a ```wendys.py``` file with the function ```wendys()``` that welcomes two people into a Wendy's (from [05_Functions_with_Arguments](https://github.com/ddoberne/colab/blob/main/lessons/05_Functions_with_Arguments.ipynb)). Upload the file into the colab directory, and make sure the below code works as expected."
      ],
      "metadata": {
        "id": "r5KmzVQTCkxt"
      }
    },
    {
      "cell_type": "code",
      "source": [
        "# Make sure this cell runs as expected!\n",
        "import wendys\n",
        "\n",
        "wendys.wendys('Aether', 'Lumine')"
      ],
      "metadata": {
        "id": "ZwIaxGZlClG9"
      },
      "execution_count": null,
      "outputs": []
    }
  ]
}