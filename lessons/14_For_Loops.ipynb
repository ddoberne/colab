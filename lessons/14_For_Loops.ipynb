{
  "nbformat": 4,
  "nbformat_minor": 0,
  "metadata": {
    "colab": {
      "provenance": [],
      "authorship_tag": "ABX9TyPWn71xa/U+dwyqP1g8IIiL",
      "include_colab_link": true
    },
    "kernelspec": {
      "name": "python3",
      "display_name": "Python 3"
    },
    "language_info": {
      "name": "python"
    }
  },
  "cells": [
    {
      "cell_type": "markdown",
      "metadata": {
        "id": "view-in-github",
        "colab_type": "text"
      },
      "source": [
        "<a href=\"https://colab.research.google.com/github/ddoberne/colab/blob/main/lessons/14_For_Loops.ipynb\" target=\"_parent\"><img src=\"https://colab.research.google.com/assets/colab-badge.svg\" alt=\"Open In Colab\"/></a>"
      ]
    },
    {
      "cell_type": "markdown",
      "source": [
        "# 14 For Loops"
      ],
      "metadata": {
        "id": "qW7D08q5cGNM"
      }
    },
    {
      "cell_type": "markdown",
      "source": [
        "One of the big advantages of using computers to perform tasks is their ability to reuse code to automate a process so that we don't have to oversee every step along the way each time. When we define a function, that function can contain as many steps, or even other functions, as we'd like, saving us the time and space of copy and pasting every single instruction within each time we want to use it.\n",
        "\n",
        "Another way we can reuse code is with **loops**. Loops take a block of indented code and run it the specified number of times, immediately. Today we'll be looking at perhaps the most convenient loop, a **for loop**.\n",
        "\n",
        "Before we can make a **for loop**, we need to define a list."
      ],
      "metadata": {
        "id": "Iz0ELVZvcS16"
      }
    },
    {
      "cell_type": "code",
      "source": [
        "ash_team = ['Pikachu', 'Dracovish', 'Gengar', \"Sirfetch'd\", 'Lucario', 'Dragonite']"
      ],
      "metadata": {
        "id": "RdjbidC1dbhW"
      },
      "execution_count": null,
      "outputs": []
    },
    {
      "cell_type": "markdown",
      "source": [
        "A **for loop** takes a list, and runs the indented block of code once for each member of the list. When declaring a for loop, you will often want to set a variable for the current member. The syntax is:\n",
        "\n",
        "```for <member> in <list>:```\n",
        "\n",
        "This process of repeating code for each member of a list is often called **iterating**, and each time it runs through the loop is an **iteration**. In the below loop, we will be executing the code in the indent block once for each member in the list, where the member changes each time."
      ],
      "metadata": {
        "id": "Y8DpkMtLflfq"
      }
    },
    {
      "cell_type": "code",
      "source": [
        "for pokemon in ash_team:\n",
        "  # These three print statements will be repeated for each member of the list\n",
        "  print(f'{pokemon} helped Ash win the World Championship!')\n",
        "  print(f'Congratulations {pokemon}!')\n",
        "  print()"
      ],
      "metadata": {
        "colab": {
          "base_uri": "https://localhost:8080/"
        },
        "id": "OYWVdz4dgggv",
        "outputId": "130ebb91-58f4-4f85-9dad-e891ccabe290"
      },
      "execution_count": null,
      "outputs": [
        {
          "output_type": "stream",
          "name": "stdout",
          "text": [
            "Pikachu helped Ash win the World Championship!\n",
            "Congratulations Pikachu!\n",
            "\n",
            "Dracovish helped Ash win the World Championship!\n",
            "Congratulations Dracovish!\n",
            "\n",
            "Gengar helped Ash win the World Championship!\n",
            "Congratulations Gengar!\n",
            "\n",
            "Sirfetch'd helped Ash win the World Championship!\n",
            "Congratulations Sirfetch'd!\n",
            "\n",
            "Lucario helped Ash win the World Championship!\n",
            "Congratulations Lucario!\n",
            "\n",
            "Dragonite helped Ash win the World Championship!\n",
            "Congratulations Dragonite!\n",
            "\n"
          ]
        }
      ]
    },
    {
      "cell_type": "markdown",
      "source": [
        "Sometimes, we want to make a loop that just repeats a set number of times, without a preexisting list. For that, we can use the ```range()``` function, which generates a list of numbers equal to the argument we give it."
      ],
      "metadata": {
        "id": "bW-_FhgZhIIy"
      }
    },
    {
      "cell_type": "code",
      "source": [
        "# Often times, the variable we use in for loops is 'i', short for 'iteration'\n",
        "for i in range(20):\n",
        "  print(i)"
      ],
      "metadata": {
        "colab": {
          "base_uri": "https://localhost:8080/"
        },
        "id": "DtkTyuHyhFyz",
        "outputId": "9f70f9a2-beef-4e77-c857-18196fb546b5"
      },
      "execution_count": null,
      "outputs": [
        {
          "output_type": "stream",
          "name": "stdout",
          "text": [
            "0\n",
            "1\n",
            "2\n",
            "3\n",
            "4\n",
            "5\n",
            "6\n",
            "7\n",
            "8\n",
            "9\n",
            "10\n",
            "11\n",
            "12\n",
            "13\n",
            "14\n",
            "15\n",
            "16\n",
            "17\n",
            "18\n",
            "19\n"
          ]
        }
      ]
    },
    {
      "cell_type": "markdown",
      "source": [
        "In the above cell, we ran the indent block 20 times -- but never reached the number 20 itself! Keep in mind that ```range()``` is zero-indexed, starting with zero and going up to ```n - 1```.\n",
        "\n",
        "Using range can make solving math questions much easier. For example, if we wanted to find all numbers under 100 that were both odd and divisible by three, we could code it as follows:"
      ],
      "metadata": {
        "id": "QDjDxaXFiOaG"
      }
    },
    {
      "cell_type": "code",
      "source": [
        "for i in range(100):\n",
        "  if (i % 2 == 1) and (i % 3 == 0):\n",
        "    print(i)"
      ],
      "metadata": {
        "colab": {
          "base_uri": "https://localhost:8080/"
        },
        "id": "6mXY5Ff-iNc2",
        "outputId": "76d0328f-6f1f-44af-94d5-d9bbce44e34c"
      },
      "execution_count": null,
      "outputs": [
        {
          "output_type": "stream",
          "name": "stdout",
          "text": [
            "3\n",
            "9\n",
            "15\n",
            "21\n",
            "27\n",
            "33\n",
            "39\n",
            "45\n",
            "51\n",
            "57\n",
            "63\n",
            "69\n",
            "75\n",
            "81\n",
            "87\n",
            "93\n",
            "99\n"
          ]
        }
      ]
    },
    {
      "cell_type": "markdown",
      "source": [
        "Here, Python is checking every number from 0 to 99, and if it is both odd (leaves a remainder of 1 when divided by 2) and divisible by 3, it prints out the number."
      ],
      "metadata": {
        "id": "nWFj1iaKr41a"
      }
    },
    {
      "cell_type": "markdown",
      "source": [
        "# Practice!"
      ],
      "metadata": {
        "id": "B7ziYxJ9sPGU"
      }
    },
    {
      "cell_type": "markdown",
      "source": [
        "Write a function, ```squares()```, that takes in a number, then prints out all of the squares (a number times itself) from 1 to the number.\n",
        "\n",
        "Write a function, ```square_sum()```, that takes in the number, then returns the sum of all squares from 1 to that number. This should be a sum of all the numbers that would be printed by ```squares()```."
      ],
      "metadata": {
        "id": "AZBGXzAisSxW"
      }
    },
    {
      "cell_type": "code",
      "source": [
        "### YOUR CODE HERE ###"
      ],
      "metadata": {
        "id": "Iy9dJzH5sOs9"
      },
      "execution_count": null,
      "outputs": []
    },
    {
      "cell_type": "code",
      "source": [
        "# Make sure this cell runs properly without changes!\n",
        "squares(6)\n",
        "print(f'The sum of all those numbers is {square_sum(6)}.')"
      ],
      "metadata": {
        "id": "sKvivAbHrwae"
      },
      "execution_count": null,
      "outputs": []
    },
    {
      "cell_type": "markdown",
      "source": [
        "Write a function, ```square_list()```, that takes in a number, then returns a list of squares from one to that number.\n",
        "\n",
        "Write a function, ```even_audit()```, that takes in a list of numbers, then prints ```even``` or ```odd``` for each number."
      ],
      "metadata": {
        "id": "IYR287XitFSw"
      }
    },
    {
      "cell_type": "code",
      "source": [
        "a = square_list(8)\n",
        "print(a)\n",
        "even_audit(a)"
      ],
      "metadata": {
        "id": "4HnDkOjMteg8"
      },
      "execution_count": null,
      "outputs": []
    }
  ]
}