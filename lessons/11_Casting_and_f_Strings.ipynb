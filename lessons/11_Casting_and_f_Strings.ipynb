{
  "nbformat": 4,
  "nbformat_minor": 0,
  "metadata": {
    "colab": {
      "provenance": [],
      "authorship_tag": "ABX9TyMjQpVH/xnmN6EkyX/zJG3L",
      "include_colab_link": true
    },
    "kernelspec": {
      "name": "python3",
      "display_name": "Python 3"
    },
    "language_info": {
      "name": "python"
    }
  },
  "cells": [
    {
      "cell_type": "markdown",
      "metadata": {
        "id": "view-in-github",
        "colab_type": "text"
      },
      "source": [
        "<a href=\"https://colab.research.google.com/github/ddoberne/colab/blob/main/lessons/11_Casting_and_f_Strings.ipynb\" target=\"_parent\"><img src=\"https://colab.research.google.com/assets/colab-badge.svg\" alt=\"Open In Colab\"/></a>"
      ]
    },
    {
      "cell_type": "markdown",
      "source": [
        "# 11 Casting and f-Strings\n",
        "\n",
        "## Casting"
      ],
      "metadata": {
        "id": "RV4RlZOnSJ4-"
      }
    },
    {
      "cell_type": "markdown",
      "source": [
        "Keen observers may have noticed that we have never yet had any interactions between strings and numbers thus far in this course. Sure, we will print out numbers sometimes, but it is always written on its own separate line.\n",
        "\n",
        "Why is this? Well, behind the scenes, Python has different rules for different data types. We don't have to worry about the specifics too much, but just know that adding two strings together does something completely different from adding two numbers together. When we mix strings and numbers, Python gets confused at what we're asking it to do and throws an error."
      ],
      "metadata": {
        "id": "ju3Z4ZswSOPP"
      }
    },
    {
      "cell_type": "code",
      "execution_count": null,
      "metadata": {
        "id": "zmrwNfg3R_-a"
      },
      "outputs": [],
      "source": [
        "def introduction(name, age):\n",
        "  \"\"\"Prints an introduction with name and age.\"\"\"\n",
        "  output = 'Hello, my name is ' + name + ' and I am ' + age + ' years old.'\n",
        "  # Uh-oh, the above line adds strings with a number\n",
        "  print(output)"
      ]
    },
    {
      "cell_type": "code",
      "source": [
        "introduction('Ash', 10)"
      ],
      "metadata": {
        "colab": {
          "base_uri": "https://localhost:8080/",
          "height": 287
        },
        "id": "s3FrxP0TTqy1",
        "outputId": "40a79536-95e6-49ac-84dd-43a1a5c79558"
      },
      "execution_count": null,
      "outputs": [
        {
          "output_type": "error",
          "ename": "TypeError",
          "evalue": "ignored",
          "traceback": [
            "\u001b[0;31m---------------------------------------------------------------------------\u001b[0m",
            "\u001b[0;31mTypeError\u001b[0m                                 Traceback (most recent call last)",
            "\u001b[0;32m<ipython-input-2-62a96c936e85>\u001b[0m in \u001b[0;36m<module>\u001b[0;34m\u001b[0m\n\u001b[0;32m----> 1\u001b[0;31m \u001b[0mintroduction\u001b[0m\u001b[0;34m(\u001b[0m\u001b[0;34m'Ash'\u001b[0m\u001b[0;34m,\u001b[0m \u001b[0;36m10\u001b[0m\u001b[0;34m)\u001b[0m\u001b[0;34m\u001b[0m\u001b[0;34m\u001b[0m\u001b[0m\n\u001b[0m",
            "\u001b[0;32m<ipython-input-1-045d41357c56>\u001b[0m in \u001b[0;36mintroduction\u001b[0;34m(name, age)\u001b[0m\n\u001b[1;32m      1\u001b[0m \u001b[0;32mdef\u001b[0m \u001b[0mintroduction\u001b[0m\u001b[0;34m(\u001b[0m\u001b[0mname\u001b[0m\u001b[0;34m,\u001b[0m \u001b[0mage\u001b[0m\u001b[0;34m)\u001b[0m\u001b[0;34m:\u001b[0m\u001b[0;34m\u001b[0m\u001b[0;34m\u001b[0m\u001b[0m\n\u001b[1;32m      2\u001b[0m   \u001b[0;34m\"\"\"Prints an introduction with name and age.\"\"\"\u001b[0m\u001b[0;34m\u001b[0m\u001b[0;34m\u001b[0m\u001b[0m\n\u001b[0;32m----> 3\u001b[0;31m   \u001b[0moutput\u001b[0m \u001b[0;34m=\u001b[0m \u001b[0;34m'Hello, my name is '\u001b[0m \u001b[0;34m+\u001b[0m \u001b[0mname\u001b[0m \u001b[0;34m+\u001b[0m \u001b[0;34m' and I am '\u001b[0m \u001b[0;34m+\u001b[0m \u001b[0mage\u001b[0m \u001b[0;34m+\u001b[0m \u001b[0;34m' years old.'\u001b[0m\u001b[0;34m\u001b[0m\u001b[0;34m\u001b[0m\u001b[0m\n\u001b[0m\u001b[1;32m      4\u001b[0m   \u001b[0;31m# Uh-oh, the above line adds strings with a number\u001b[0m\u001b[0;34m\u001b[0m\u001b[0;34m\u001b[0m\u001b[0;34m\u001b[0m\u001b[0m\n\u001b[1;32m      5\u001b[0m   \u001b[0mprint\u001b[0m\u001b[0;34m(\u001b[0m\u001b[0moutput\u001b[0m\u001b[0;34m)\u001b[0m\u001b[0;34m\u001b[0m\u001b[0;34m\u001b[0m\u001b[0m\n",
            "\u001b[0;31mTypeError\u001b[0m: can only concatenate str (not \"int\") to str"
          ]
        }
      ]
    },
    {
      "cell_type": "markdown",
      "source": [
        "The error in this line of code happens when we try to add the number ```age``` to the strings around it in this line:\n",
        "\n",
        "```output = 'Hello, my name is ' + name + ' and I am ' + age + ' years old.'```\n",
        "\n",
        "Since Python has different rules for strings and numbers, it doesn't know which ones to follow for this addition."
      ],
      "metadata": {
        "id": "mNTf-9PSTRnM"
      }
    },
    {
      "cell_type": "markdown",
      "source": [
        "One way we can handle this is through **casting**. When we cast to a string, we're telling Python, \"Hey, I know this might not be a string normally, but just treat it like it's a string for this line of code.\n",
        "\n",
        "To cast, wrap the number in the ```str()``` function."
      ],
      "metadata": {
        "id": "cGPFaWCVT4U0"
      }
    },
    {
      "cell_type": "code",
      "source": [
        "str(10)"
      ],
      "metadata": {
        "colab": {
          "base_uri": "https://localhost:8080/",
          "height": 35
        },
        "id": "_KUBOBs9T11i",
        "outputId": "0206d69f-348e-4c60-abb0-1a89acc60b5f"
      },
      "execution_count": null,
      "outputs": [
        {
          "output_type": "execute_result",
          "data": {
            "text/plain": [
              "'10'"
            ],
            "application/vnd.google.colaboratory.intrinsic+json": {
              "type": "string"
            }
          },
          "metadata": {},
          "execution_count": 3
        }
      ]
    },
    {
      "cell_type": "markdown",
      "source": [
        "You may notice that the number above has quotations around it, telling us that Python thinks it's a string. It loses all of its properties as a number (adding, subtracting, multiplying, etc.) and can be used as text."
      ],
      "metadata": {
        "id": "FumI35lcUSFw"
      }
    },
    {
      "cell_type": "code",
      "source": [
        "# This won't work anymore\n",
        "str(10) + 25"
      ],
      "metadata": {
        "colab": {
          "base_uri": "https://localhost:8080/",
          "height": 183
        },
        "id": "pskU0Pb3URYZ",
        "outputId": "1abe397e-7709-4178-99d3-3347fe11318e"
      },
      "execution_count": null,
      "outputs": [
        {
          "output_type": "error",
          "ename": "TypeError",
          "evalue": "ignored",
          "traceback": [
            "\u001b[0;31m---------------------------------------------------------------------------\u001b[0m",
            "\u001b[0;31mTypeError\u001b[0m                                 Traceback (most recent call last)",
            "\u001b[0;32m<ipython-input-4-c4066a157230>\u001b[0m in \u001b[0;36m<module>\u001b[0;34m\u001b[0m\n\u001b[1;32m      1\u001b[0m \u001b[0;31m# This won't work anymore\u001b[0m\u001b[0;34m\u001b[0m\u001b[0;34m\u001b[0m\u001b[0;34m\u001b[0m\u001b[0m\n\u001b[0;32m----> 2\u001b[0;31m \u001b[0mstr\u001b[0m\u001b[0;34m(\u001b[0m\u001b[0;36m10\u001b[0m\u001b[0;34m)\u001b[0m \u001b[0;34m+\u001b[0m \u001b[0;36m25\u001b[0m\u001b[0;34m\u001b[0m\u001b[0;34m\u001b[0m\u001b[0m\n\u001b[0m",
            "\u001b[0;31mTypeError\u001b[0m: can only concatenate str (not \"int\") to str"
          ]
        }
      ]
    },
    {
      "cell_type": "code",
      "source": [
        "# This probably won't do what you want it to\n",
        "str(10) + str(25)"
      ],
      "metadata": {
        "colab": {
          "base_uri": "https://localhost:8080/",
          "height": 35
        },
        "id": "Eib9VH-RVBWv",
        "outputId": "4723e4c1-81ba-49b3-ef9a-187f5030b27c"
      },
      "execution_count": null,
      "outputs": [
        {
          "output_type": "execute_result",
          "data": {
            "text/plain": [
              "'1025'"
            ],
            "application/vnd.google.colaboratory.intrinsic+json": {
              "type": "string"
            }
          },
          "metadata": {},
          "execution_count": 5
        }
      ]
    },
    {
      "cell_type": "code",
      "source": [
        "# ... but now this will!\n",
        "'I am ' + str(10) + ' years old!'"
      ],
      "metadata": {
        "colab": {
          "base_uri": "https://localhost:8080/",
          "height": 35
        },
        "id": "lE6HOyiqUunG",
        "outputId": "fbdc215e-ad40-41c8-af50-9ebfc962c343"
      },
      "execution_count": null,
      "outputs": [
        {
          "output_type": "execute_result",
          "data": {
            "text/plain": [
              "'I am 10 years old!'"
            ],
            "application/vnd.google.colaboratory.intrinsic+json": {
              "type": "string"
            }
          },
          "metadata": {},
          "execution_count": 6
        }
      ]
    },
    {
      "cell_type": "markdown",
      "source": [
        "By casting the age to a string, we can fix the function from earlier."
      ],
      "metadata": {
        "id": "r5O-25DLU6WM"
      }
    },
    {
      "cell_type": "code",
      "source": [
        "def introduction(name, age):\n",
        "  \"\"\"Prints an introduction with name and age.\"\"\"\n",
        "  output = 'Hello, my name is ' + name + ' and I am ' + str(age) + ' years old.'\n",
        "  print(output)"
      ],
      "metadata": {
        "id": "9TDhf81zU0No"
      },
      "execution_count": null,
      "outputs": []
    },
    {
      "cell_type": "code",
      "source": [
        "introduction('Ash', 10)"
      ],
      "metadata": {
        "colab": {
          "base_uri": "https://localhost:8080/"
        },
        "id": "7cBCF479VN2e",
        "outputId": "563a5ea1-36b9-4669-94b0-8b2b67e53c01"
      },
      "execution_count": null,
      "outputs": [
        {
          "output_type": "stream",
          "name": "stdout",
          "text": [
            "Hello, my name is Ash and I am 10 years old.\n"
          ]
        }
      ]
    },
    {
      "cell_type": "markdown",
      "source": [
        "Going the other way works similarly, but there are two types of numbers that are commonly used:\n",
        "- ```int()``` for integers, like 6, -200, or 0\n",
        "- ```float()``` for decimals, like 5.1 or -3.14159"
      ],
      "metadata": {
        "id": "wCHhPphRVdu9"
      }
    },
    {
      "cell_type": "code",
      "source": [
        "s = '151'\n",
        "print(s + ' is a string')\n",
        "print('...but with casting we can make it a number!')\n",
        "n = int(s)\n",
        "print(n + 100)"
      ],
      "metadata": {
        "colab": {
          "base_uri": "https://localhost:8080/"
        },
        "id": "IVa__6C_VQoO",
        "outputId": "bb96fc13-7e24-4477-c60d-1c5253a1be21"
      },
      "execution_count": null,
      "outputs": [
        {
          "output_type": "stream",
          "name": "stdout",
          "text": [
            "151 is a string\n",
            "...but with casting we can make it a number!\n",
            "251\n"
          ]
        }
      ]
    },
    {
      "cell_type": "markdown",
      "source": [
        "In the above example, we made a string and joined it with another string, but we were able to cast it to a number to perform arithmetic addition.\n",
        "\n",
        "Casting probably won't often be necessary, but it's useful to know how to handle it for when it does come up."
      ],
      "metadata": {
        "id": "gkfUcXzzXgzV"
      }
    },
    {
      "cell_type": "markdown",
      "source": [
        "## f-Strings"
      ],
      "metadata": {
        "id": "OueL3gNbYUOu"
      }
    },
    {
      "cell_type": "markdown",
      "source": [
        "When adding strings and variables, there are often many ```+``` symbols involved, and it can get tiresome. Take the below example of writing out the date as where our current method for constructing strings feels clunky:"
      ],
      "metadata": {
        "id": "h-d7r5Y7YLOS"
      }
    },
    {
      "cell_type": "code",
      "source": [
        "def date(dow, month, dom, year):\n",
        "  \"\"\"Prints out today's date.\"\"\"\n",
        "  output = 'Today is ' + dow + ', ' + month + ' ' + str(dom) + ', ' + str(year) + '.'\n",
        "  print(output)"
      ],
      "metadata": {
        "id": "WOpeVb4wXbar"
      },
      "execution_count": null,
      "outputs": []
    },
    {
      "cell_type": "code",
      "source": [
        "date('Thursday', 'December', 1, 2022)"
      ],
      "metadata": {
        "colab": {
          "base_uri": "https://localhost:8080/"
        },
        "id": "jD2W8jxjafHa",
        "outputId": "8dd8791b-1a67-4b7f-ff06-0b80c3889f93"
      },
      "execution_count": null,
      "outputs": [
        {
          "output_type": "stream",
          "name": "stdout",
          "text": [
            "Today is Thursday, December 1, 2022.\n"
          ]
        }
      ]
    },
    {
      "cell_type": "markdown",
      "source": [
        "It works, but there's definitely a better way to do it without all the ```+``` symbols.\n",
        "\n",
        "**f-Strings** are strings formatted to include variables. They behave like normal strings, but anything inside curly braces will be executed as code and automatically casted to strings. See the below example:"
      ],
      "metadata": {
        "id": "p4c1wUUQaoFt"
      }
    },
    {
      "cell_type": "code",
      "source": [
        "variable = 20\n",
        "s = f'This is an f-string including the variable {variable}.'\n",
        "print(s)"
      ],
      "metadata": {
        "colab": {
          "base_uri": "https://localhost:8080/"
        },
        "id": "awLRdrUTakJD",
        "outputId": "a62b80c9-d916-4eaf-b9df-3be0fc7067d4"
      },
      "execution_count": null,
      "outputs": [
        {
          "output_type": "stream",
          "name": "stdout",
          "text": [
            "This is an f-string including the variable 20.\n"
          ]
        }
      ]
    },
    {
      "cell_type": "markdown",
      "source": [
        "No extra symbols!\n",
        "\n",
        "Notice how the code within the curly braces doesn't have the special coloration that strings have, reminding you that it is being executed as code. Anything we can do in code, we can do in an f-string, including function calls and arithmetic."
      ],
      "metadata": {
        "id": "DHWe6M64bnLM"
      }
    },
    {
      "cell_type": "code",
      "source": [
        "import random\n",
        "s = f'{random.random() + 5} is a random decimal plus 5.'\n",
        "print(s)"
      ],
      "metadata": {
        "colab": {
          "base_uri": "https://localhost:8080/"
        },
        "id": "lTf8MlY8bmAM",
        "outputId": "2a4b031f-411c-4734-ac3f-de7813657f5e"
      },
      "execution_count": null,
      "outputs": [
        {
          "output_type": "stream",
          "name": "stdout",
          "text": [
            "5.431113890789124 is a random decimal plus 5.\n"
          ]
        }
      ]
    },
    {
      "cell_type": "markdown",
      "source": [
        "Rewriting the earlier function in a more concise manner, it looks like this:"
      ],
      "metadata": {
        "id": "QsLHOtFbcxJB"
      }
    },
    {
      "cell_type": "code",
      "source": [
        "def date(dow, month, dom, year):\n",
        "  \"\"\"Prints out today's date.\"\"\"\n",
        "  output = f'Today is {dow}, {month} {dom}, {year}.'\n",
        "  print(output)"
      ],
      "metadata": {
        "id": "-cnmJRhecpyV"
      },
      "execution_count": null,
      "outputs": []
    },
    {
      "cell_type": "code",
      "source": [
        "date('Thursday', 'December', 1, 2022)"
      ],
      "metadata": {
        "colab": {
          "base_uri": "https://localhost:8080/"
        },
        "id": "zcjNEm3hc94n",
        "outputId": "f8bb754e-d924-4b74-e345-09772564036d"
      },
      "execution_count": null,
      "outputs": [
        {
          "output_type": "stream",
          "name": "stdout",
          "text": [
            "Today is Thursday, December 1, 2022.\n"
          ]
        }
      ]
    },
    {
      "cell_type": "markdown",
      "source": [
        "Much better! Conclusion: make use of f-strings!"
      ],
      "metadata": {
        "id": "S5MxM-xwdBpR"
      }
    },
    {
      "cell_type": "markdown",
      "source": [
        "# Practice"
      ],
      "metadata": {
        "id": "uq0AoRrhdDWq"
      }
    },
    {
      "cell_type": "markdown",
      "source": [
        "Write a function ```intro()``` that prints an introduction given the following information:\n",
        "\n",
        "- Name\n",
        "- Age\n",
        "- Number of pets\n",
        "\n",
        "If the number of pets is greater than 0, also include:\n",
        "\n",
        "- Favorite animal"
      ],
      "metadata": {
        "id": "1GCABjmDkvWA"
      }
    },
    {
      "cell_type": "code",
      "source": [
        "### YOUR CODE HERE ###"
      ],
      "metadata": {
        "id": "rJT4pSEgkvGI"
      },
      "execution_count": null,
      "outputs": []
    },
    {
      "cell_type": "code",
      "source": [
        "# Don't change the contents of this cell!\n",
        "# The output should be something like:\n",
        "# 'Hi, my name is Gary! I am 10 years old.'\n",
        "# 'I have 6 pets. My favorite animal is a dog!'\n",
        "\n",
        "intro(name = 'Gary', age = 10, pets = 6, animal = 'dog')\n",
        "intro(name = 'Delia', age = 32, pets = 0, animal = 'cat')"
      ],
      "metadata": {
        "id": "jLsKNw1cdA9Y"
      },
      "execution_count": null,
      "outputs": []
    }
  ]
}