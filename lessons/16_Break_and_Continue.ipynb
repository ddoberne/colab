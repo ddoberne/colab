{
  "nbformat": 4,
  "nbformat_minor": 0,
  "metadata": {
    "colab": {
      "provenance": [],
      "authorship_tag": "ABX9TyPd1CIJecxzcLNj8cx0uiYU",
      "include_colab_link": true
    },
    "kernelspec": {
      "name": "python3",
      "display_name": "Python 3"
    },
    "language_info": {
      "name": "python"
    }
  },
  "cells": [
    {
      "cell_type": "markdown",
      "metadata": {
        "id": "view-in-github",
        "colab_type": "text"
      },
      "source": [
        "<a href=\"https://colab.research.google.com/github/ddoberne/colab/blob/main/lessons/16_Break_and_Continue.ipynb\" target=\"_parent\"><img src=\"https://colab.research.google.com/assets/colab-badge.svg\" alt=\"Open In Colab\"/></a>"
      ]
    },
    {
      "cell_type": "markdown",
      "source": [
        "# 16 Break and Continue"
      ],
      "metadata": {
        "id": "bFD06qKTVACt"
      }
    },
    {
      "cell_type": "markdown",
      "source": [
        "In the last two lessons, we learned powerful tools for making the computer do things over and over again. However, if you've ever watched *The Sorcerer's Apprentice* from *Fantasia*, you know that before getting the ball rolling, you want to know how to stop it. This lesson will go over two tools to help control how much you loop: **break** and **continue**."
      ],
      "metadata": {
        "id": "mO2Gni1wWAo1"
      }
    },
    {
      "cell_type": "markdown",
      "source": [
        "## Break"
      ],
      "metadata": {
        "id": "xL_NmABqVI8B"
      }
    },
    {
      "cell_type": "markdown",
      "source": [
        "When you want to exit from a loop completely, use ```break```. When Python sees ```break```, it will immediately jump out of the current loop. Like so:"
      ],
      "metadata": {
        "id": "U-_BQHxvVMx6"
      }
    },
    {
      "cell_type": "code",
      "source": [
        "boredom = 0\n",
        "for i in range(10000):\n",
        "  print(i)\n",
        "  boredom += 1\n",
        "  if boredom > 10:\n",
        "    print(\"You're not going to make me keep going, are you?\")\n",
        "    break"
      ],
      "metadata": {
        "colab": {
          "base_uri": "https://localhost:8080/"
        },
        "id": "TuLsrZ8CVMcC",
        "outputId": "1ac62abb-38ff-46bb-9b7c-f701ed7af7bc"
      },
      "execution_count": null,
      "outputs": [
        {
          "output_type": "stream",
          "name": "stdout",
          "text": [
            "0\n",
            "1\n",
            "2\n",
            "3\n",
            "4\n",
            "5\n",
            "6\n",
            "7\n",
            "8\n",
            "9\n",
            "10\n",
            "You're not going to make me keep going, are you?\n"
          ]
        }
      ]
    },
    {
      "cell_type": "markdown",
      "source": [
        "It's useful for stopping when you find what you're looking for."
      ],
      "metadata": {
        "id": "Nt108dSjWx6t"
      }
    },
    {
      "cell_type": "code",
      "execution_count": null,
      "metadata": {
        "id": "UIkYp3ifU8S7"
      },
      "outputs": [],
      "source": [
        "# Making a haystack\n",
        "import random\n",
        "seed = random.randint(1, 20)\n",
        "haystack = ['hay'] * seed\n",
        "haystack.extend(['needle'])\n",
        "haystack.extend(['hay'] * (20 - seed))"
      ]
    },
    {
      "cell_type": "code",
      "source": [
        "for find in haystack:\n",
        "  if find == 'hay':\n",
        "    print('More hay to shovel...')\n",
        "  if find == 'needle':\n",
        "    print(\"Look, it's a needle!\")\n",
        "    break"
      ],
      "metadata": {
        "colab": {
          "base_uri": "https://localhost:8080/"
        },
        "id": "2Qk44NZnXacw",
        "outputId": "eff8c5a1-061e-498c-ad69-19a5322eec71"
      },
      "execution_count": null,
      "outputs": [
        {
          "output_type": "stream",
          "name": "stdout",
          "text": [
            "More hay to shovel...\n",
            "More hay to shovel...\n",
            "More hay to shovel...\n",
            "More hay to shovel...\n",
            "More hay to shovel...\n",
            "More hay to shovel...\n",
            "More hay to shovel...\n",
            "More hay to shovel...\n",
            "More hay to shovel...\n",
            "More hay to shovel...\n",
            "More hay to shovel...\n",
            "More hay to shovel...\n",
            "More hay to shovel...\n",
            "Look, it's a needle!\n"
          ]
        }
      ]
    },
    {
      "cell_type": "markdown",
      "source": [
        "It's also worth noting that ```break``` will only exit one layer of a loop, if you have a nested loop."
      ],
      "metadata": {
        "id": "PiWdNNSJX37X"
      }
    },
    {
      "cell_type": "code",
      "source": [
        "for i in range(5):\n",
        "  print(f'Outer loop iteration {i}')\n",
        "  for j in range(5):\n",
        "    print(f'Inner loop iteration {j}')\n",
        "    if i == j:\n",
        "      print('Same iteration for both loops! Breaking out of the inner loop.')\n",
        "      break\n",
        "  print()"
      ],
      "metadata": {
        "colab": {
          "base_uri": "https://localhost:8080/"
        },
        "id": "FxZ0MB8ry69r",
        "outputId": "8c51b0b1-77ec-4017-b156-32f771b06b79"
      },
      "execution_count": 1,
      "outputs": [
        {
          "output_type": "stream",
          "name": "stdout",
          "text": [
            "Outer loop iteration 0\n",
            "Inner loop iteration 0\n",
            "Same iteration for both loops! Breaking out of the inner loop.\n",
            "Outer loop iteration 1\n",
            "Inner loop iteration 0\n",
            "Inner loop iteration 1\n",
            "Same iteration for both loops! Breaking out of the inner loop.\n",
            "Outer loop iteration 2\n",
            "Inner loop iteration 0\n",
            "Inner loop iteration 1\n",
            "Inner loop iteration 2\n",
            "Same iteration for both loops! Breaking out of the inner loop.\n",
            "Outer loop iteration 3\n",
            "Inner loop iteration 0\n",
            "Inner loop iteration 1\n",
            "Inner loop iteration 2\n",
            "Inner loop iteration 3\n",
            "Same iteration for both loops! Breaking out of the inner loop.\n",
            "Outer loop iteration 4\n",
            "Inner loop iteration 0\n",
            "Inner loop iteration 1\n",
            "Inner loop iteration 2\n",
            "Inner loop iteration 3\n",
            "Inner loop iteration 4\n",
            "Same iteration for both loops! Breaking out of the inner loop.\n"
          ]
        }
      ]
    },
    {
      "cell_type": "markdown",
      "source": [
        "## Continue"
      ],
      "metadata": {
        "id": "28DkZv4By4li"
      }
    },
    {
      "cell_type": "markdown",
      "source": [
        "Sometimes, you may want to end the current iteration of the loop, but not break from the loop completely. For those cases, we have ```continue```. Functionally, ```continue``` is pretty similar to a big ```if```/```else``` statement, but it can make code easier to interpret.\n",
        "\n",
        "Here's an example of a big ```if``` statement being replaced with continue:"
      ],
      "metadata": {
        "id": "PRUJLESrzzbG"
      }
    },
    {
      "cell_type": "code",
      "source": [
        "position = -1\n",
        "birds = ['duck', 'duck', 'duck', 'goose', 'duck', 'duck', 'goose']\n",
        "for bird in birds:\n",
        "  position += 1\n",
        "  print(f'Checking the duck in position {position}...')\n",
        "  if bird == 'duck':\n",
        "    pass\n",
        "  else:\n",
        "    print(f'Hey! Where did this {bird} come from?')\n",
        "    print(f'Replacing position {position} with a duck...')\n",
        "    birds[position] = 'duck'\n",
        "print(birds)"
      ],
      "metadata": {
        "id": "vRs14BSBXryJ",
        "colab": {
          "base_uri": "https://localhost:8080/"
        },
        "outputId": "0d03bb8e-7957-471f-e0e5-0c7b5bac913c"
      },
      "execution_count": 1,
      "outputs": [
        {
          "output_type": "stream",
          "name": "stdout",
          "text": [
            "Checking the duck in position 0...\n",
            "Checking the duck in position 1...\n",
            "Checking the duck in position 2...\n",
            "Checking the duck in position 3...\n",
            "Hey! Where did this goose come from?\n",
            "Replacing position 3 with a duck...\n",
            "Checking the duck in position 4...\n",
            "Checking the duck in position 5...\n",
            "Checking the duck in position 6...\n",
            "Hey! Where did this goose come from?\n",
            "Replacing position 6 with a duck...\n",
            "['duck', 'duck', 'duck', 'duck', 'duck', 'duck', 'duck']\n"
          ]
        }
      ]
    },
    {
      "cell_type": "markdown",
      "source": [
        "The last ```else``` indent block can be unindented with continue. It may not seem like much, but when you have a lot of nested indent blocks, cleaning them up where possible helps a lot."
      ],
      "metadata": {
        "id": "I1m-RkuqWMLB"
      }
    },
    {
      "cell_type": "code",
      "source": [
        "position = -1\n",
        "birds = ['duck', 'duck', 'duck', 'goose', 'duck', 'duck', 'goose']\n",
        "for bird in birds:\n",
        "  position += 1\n",
        "  print(f'Checking the duck in position {position}...')\n",
        "  if bird == 'duck':\n",
        "    continue\n",
        "  # No need for an else statement anymore\n",
        "  print(f'Hey! Where did this {bird} come from?')\n",
        "  print(f'Replacing position {position} with a duck...')\n",
        "  birds[position] = 'duck'\n",
        "print(birds)"
      ],
      "metadata": {
        "id": "Ohnrf_ToWKVo"
      },
      "execution_count": null,
      "outputs": []
    },
    {
      "cell_type": "markdown",
      "source": [
        "# Practice"
      ],
      "metadata": {
        "id": "MlqJi3UVWp2P"
      }
    },
    {
      "cell_type": "markdown",
      "source": [
        "Write a function, ```find_multiple()``` that takes in a list and a number, and returns the first member of a list that is a multiple of that number. For example:\n",
        "\n",
        "```\n",
        "mylist = [2, 4, 6, 8, 10, 12]\n",
        "myint = 3\n",
        "find_multiple(mylist, myint)\n",
        "```\n",
        "\n",
        "Should return 6, because it is the first number in the list that is a multiple of 3."
      ],
      "metadata": {
        "id": "LECsUTH3XJZE"
      }
    },
    {
      "cell_type": "code",
      "source": [
        "### YOUR CODE HERE ###"
      ],
      "metadata": {
        "id": "VDrWNPcTWq2H"
      },
      "execution_count": null,
      "outputs": []
    },
    {
      "cell_type": "code",
      "source": [
        "# Make sure this cell runs without error!\n",
        "mylist = [2, 4, 6, 8, 10, 12]\n",
        "myint = 3\n",
        "assert(find_multiple(mylist, myint) == 6)"
      ],
      "metadata": {
        "id": "yUEHEETIZOIZ"
      },
      "execution_count": null,
      "outputs": []
    },
    {
      "cell_type": "markdown",
      "source": [
        "Write a function, ```find_multiples()```, that takes in a list of lists and a number, and returns the product of each first number in each list that is a multiple of the number. Basically, it should do ```find_multiple()``` for each list, and then multiply all the  numbers together. For example:\n",
        "\n",
        "```\n",
        "mylist1 = [2, 4, 6, 8, 10, 12]\n",
        "mylist2 = [3, 6, 9, 12, 15, 18]\n",
        "mylist3 = [4, 8, 12, 16, 20, 24]\n",
        "myint = 3\n",
        "find_multiples([mylist1, mylist2, mylist3], myint)\n",
        "```\n",
        "\n",
        "... should return 216, because it takes 6 from ```mylist1```, 3 from ```mylist2```, and 12 from ```mylist3```, then multiples those three numbers together."
      ],
      "metadata": {
        "id": "GpwSuxDwX4Yq"
      }
    },
    {
      "cell_type": "code",
      "source": [
        "### YOUR CODE HERE ###"
      ],
      "metadata": {
        "id": "RE0LksCGYSk-"
      },
      "execution_count": null,
      "outputs": []
    },
    {
      "cell_type": "code",
      "source": [
        "# Make sure this cell runs without error!\n",
        "mylist1 = [2, 4, 6, 8, 10, 12]\n",
        "mylist2 = [3, 6, 9, 12, 15, 18]\n",
        "mylist3 = [4, 8, 12, 16, 20, 24]\n",
        "myint = 3\n",
        "assert(find_multiples([mylist1, mylist2, mylist3], myint) == 216)"
      ],
      "metadata": {
        "id": "KEBnxFFDZT1T"
      },
      "execution_count": null,
      "outputs": []
    }
  ]
}