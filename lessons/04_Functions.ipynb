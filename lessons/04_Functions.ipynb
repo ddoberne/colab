{
  "nbformat": 4,
  "nbformat_minor": 0,
  "metadata": {
    "colab": {
      "provenance": [],
      "authorship_tag": "ABX9TyOz5HXPM6OxHJHCXr7H91Qr",
      "include_colab_link": true
    },
    "kernelspec": {
      "name": "python3",
      "display_name": "Python 3"
    },
    "language_info": {
      "name": "python"
    }
  },
  "cells": [
    {
      "cell_type": "markdown",
      "metadata": {
        "id": "view-in-github",
        "colab_type": "text"
      },
      "source": [
        "<a href=\"https://colab.research.google.com/github/ddoberne/colab/blob/main/lessons/04_Functions.ipynb\" target=\"_parent\"><img src=\"https://colab.research.google.com/assets/colab-badge.svg\" alt=\"Open In Colab\"/></a>"
      ]
    },
    {
      "cell_type": "markdown",
      "source": [
        "# 04 Functions"
      ],
      "metadata": {
        "id": "i29fyfgUfWQ9"
      }
    },
    {
      "cell_type": "markdown",
      "source": [
        "When coding, we are always looking for shortcuts to reuse existing code as often as possible. There are several reasons for this:\n",
        "\n",
        "\n",
        "* Code is easier to read when there is less of it\n",
        "* Changes can be made to one spot that is applied to the entire program\n",
        "* Future additions and changes are easier when code is packaged for reuse\n",
        "\n",
        "\n",
        "\n",
        "**Functions** allow us to reuse code without having to type or cut and paste it in several areas. We've used one function already:"
      ],
      "metadata": {
        "id": "u1L7YYRZfycr"
      }
    },
    {
      "cell_type": "code",
      "execution_count": null,
      "metadata": {
        "colab": {
          "base_uri": "https://localhost:8080/"
        },
        "id": "kVOyMzl4fTUt",
        "outputId": "2a57d424-ea77-46da-8a9a-3ca3ca09bbcf"
      },
      "outputs": [
        {
          "output_type": "stream",
          "name": "stdout",
          "text": [
            "Remember me?\n"
          ]
        }
      ],
      "source": [
        "print('Remember me?')"
      ]
    },
    {
      "cell_type": "markdown",
      "source": [
        "You may have noticed that whenever I refer to this function, I've included the parentheses with it: ```print()```. The contents within the parentheses are called **arguments** (often **args** for short), and they can affect what happens when the function is called. For instance, if we were to call ```print('Hello!')```, we would expect a different result than if we called ```print('Goodbye!')```, even though it's the same function. That's because of the arguments!"
      ],
      "metadata": {
        "id": "Pp4h8Wk6iHmU"
      }
    },
    {
      "cell_type": "markdown",
      "source": [
        "You can define functions with the command ``` def ```. First, let's define a function without arguments. Say you're a moderator in a Twitch chat, and you need to remind the streamer and audience to drink plenty of water. Some people might need convincing, so perhaps it's best to attach some fun facts to the reminder."
      ],
      "metadata": {
        "id": "7Uaqtnqbicb_"
      }
    },
    {
      "cell_type": "code",
      "source": [
        "def hydrate():\n",
        "  \"\"\"Prints a reminder for people to hydrate\"\"\"\n",
        "  print('Did you know that 75% of people are chronically dehydrated?')\n",
        "  print('Proper hydration improves performance in all tasks physical and mental!')\n",
        "  print(\"If you haven't already, go ahead and take a sip of your water!\")\n",
        "\n",
        "print('Function successfully defined!')"
      ],
      "metadata": {
        "colab": {
          "base_uri": "https://localhost:8080/"
        },
        "id": "2qBe8MDGh7mo",
        "outputId": "948f4fe0-be7d-4c12-b7b4-84ceaca6bf95"
      },
      "execution_count": null,
      "outputs": [
        {
          "output_type": "stream",
          "name": "stdout",
          "text": [
            "Function successfully defined!\n"
          ]
        }
      ]
    },
    {
      "cell_type": "markdown",
      "source": [
        "Once the function is defined, it can be called very succinctly, anytime:"
      ],
      "metadata": {
        "id": "hJiuywymkvkP"
      }
    },
    {
      "cell_type": "code",
      "source": [
        "hydrate()"
      ],
      "metadata": {
        "colab": {
          "base_uri": "https://localhost:8080/"
        },
        "id": "qWLasS4ukHFV",
        "outputId": "3c879e9c-15b1-4b76-9165-494cb2160416"
      },
      "execution_count": null,
      "outputs": [
        {
          "output_type": "stream",
          "name": "stdout",
          "text": [
            "Did you know that 75% of people are chronically dehydrated?\n",
            "Proper hydration improves performance in all tasks physical and mental!\n",
            "If you haven't already, go ahead and take a sip of your water!\n"
          ]
        }
      ]
    },
    {
      "cell_type": "markdown",
      "source": [
        "Ok, there's a lot going on here, so I'll break it down piece by piece.\n",
        "\n",
        "```def hydrate():```\n",
        "\n",
        "This tells Python that we are defining a new function. The parentheses indicate the arguments we are expecting when this function is called, which is none in this case. Finally, we have a colon and an indent block. Everything that shares the same indentation after the colon will be the contents of the function, and will be executed when that function is called. You may notice that the code:\n",
        "\n",
        "```print('Function successfully defined')```\n",
        "\n",
        "... was back to the original indentation, so it was *not* part of the function when we called it in the next cell. Instead, it executed after defining the function and let us know that the above lines of code had been completed.\n",
        "\n",
        "```\"\"\"Prints a reminder for people to hydrate\"\"\"```\n",
        "\n",
        "This is called a **docstring**, and its purpose is to give the reader a summary of what the function does. It's not strictly necessary, but it's good to get in the habit of.\n",
        "\n",
        "After the docstring, the rest of the indent block is the code that you wish to be executed any time the function is called. This can be anything, from print statements to variable assignments to calling other functions.\n",
        "\n",
        "Now that the functioned is defined, we can call it as often as we'd like. Every time Python sees ```hydrate()```, it will execute the all the code we defined for the function."
      ],
      "metadata": {
        "id": "pe6YDO0RklDy"
      }
    },
    {
      "cell_type": "code",
      "source": [
        "hydrate()\n",
        "hydrate()\n",
        "hydrate()"
      ],
      "metadata": {
        "colab": {
          "base_uri": "https://localhost:8080/"
        },
        "id": "vhW2opq9kkkb",
        "outputId": "68396d6b-4b3e-4999-c948-52095bc65f51"
      },
      "execution_count": null,
      "outputs": [
        {
          "output_type": "stream",
          "name": "stdout",
          "text": [
            "Did you know that 75% of people are chronically dehydrated?\n",
            "Proper hydration improves performance in all tasks physical and mental!\n",
            "If you haven't already, go ahead and take a sip of your water!\n",
            "Did you know that 75% of people are chronically dehydrated?\n",
            "Proper hydration improves performance in all tasks physical and mental!\n",
            "If you haven't already, go ahead and take a sip of your water!\n",
            "Did you know that 75% of people are chronically dehydrated?\n",
            "Proper hydration improves performance in all tasks physical and mental!\n",
            "If you haven't already, go ahead and take a sip of your water!\n"
          ]
        }
      ]
    },
    {
      "cell_type": "markdown",
      "source": [
        "You can even define functions that call other functions:"
      ],
      "metadata": {
        "id": "HLJsyVnI-OgN"
      }
    },
    {
      "cell_type": "code",
      "source": [
        "def spam_hydrate():\n",
        "  \"\"\"Calls hydrate() three times\"\"\"\n",
        "  hydrate()\n",
        "  hydrate()\n",
        "  hydrate()\n",
        "\n",
        "spam_hydrate()"
      ],
      "metadata": {
        "colab": {
          "base_uri": "https://localhost:8080/"
        },
        "id": "kfhUzmZZ-UmI",
        "outputId": "170e70aa-eb61-40ec-ca84-2a9bc1b3786a"
      },
      "execution_count": null,
      "outputs": [
        {
          "output_type": "stream",
          "name": "stdout",
          "text": [
            "Did you know that 75% of people are chronically dehydrated?\n",
            "Proper hydration improves performance in all tasks physical and mental!\n",
            "If you haven't already, go ahead and take a sip of your water!\n",
            "Did you know that 75% of people are chronically dehydrated?\n",
            "Proper hydration improves performance in all tasks physical and mental!\n",
            "If you haven't already, go ahead and take a sip of your water!\n",
            "Did you know that 75% of people are chronically dehydrated?\n",
            "Proper hydration improves performance in all tasks physical and mental!\n",
            "If you haven't already, go ahead and take a sip of your water!\n"
          ]
        }
      ]
    },
    {
      "cell_type": "markdown",
      "source": [
        "You may notice that when you type a function, like ```hydrate(```, and pause, a little popup will appear with the docstring you created earlier. This is incredibly handy! Just for fun, try it for ```print(```."
      ],
      "metadata": {
        "id": "FzWntkHxq1fJ"
      }
    },
    {
      "cell_type": "code",
      "source": [
        "### Type print( and wait and see:\n"
      ],
      "metadata": {
        "id": "avA-Zkzrkjya"
      },
      "execution_count": null,
      "outputs": []
    },
    {
      "cell_type": "markdown",
      "source": [
        "Good documentation is crucial for communicating how your code should be used to others! In this course, you won't be doing much of that, but in real applications of coding often you will be working with others who appreciate good documentation."
      ],
      "metadata": {
        "id": "winGM0O2rZBT"
      }
    },
    {
      "cell_type": "markdown",
      "source": [
        "# Your Turn"
      ],
      "metadata": {
        "id": "A75qo__Xr3z6"
      }
    },
    {
      "cell_type": "markdown",
      "source": [
        "Let's print the lyrics to a song! Most songs have lyrics that repeat, and we're going to take advantage of functions so that we don't have to type out the same lyrics multiple times or copy and paste. Define three functions ```verse1()```, ```verse2()```, and ```chorus()``` that print out the lyrics for your song.\n",
        "\n",
        "The first cell below is for you to define your functions, which will be called in the second cell."
      ],
      "metadata": {
        "id": "H99lHhSPsAgW"
      }
    },
    {
      "cell_type": "code",
      "source": [
        "### YOUR CODE HERE ###\n",
        "\n",
        "def verse1():\n",
        "  \"\"\"Prints the lyrics to verse 1\"\"\"\n",
        "  print('This will be the first line of the song')\n",
        "  # What else should be part of verse1? \n",
        "  print()\n",
        "\n",
        "\n",
        "# Continue defining functions for verse2 and chorus!"
      ],
      "metadata": {
        "id": "LlhHkPUgss0b"
      },
      "execution_count": null,
      "outputs": []
    },
    {
      "cell_type": "code",
      "source": [
        "### RUN THIS CELL AFTER FINISHING DEFINING THESE FUNCTIONS ABOVE ###\n",
        "# Don't change the contents of this cell!\n",
        "verse1()\n",
        "chorus()\n",
        "verse2()\n",
        "chorus()\n",
        "verse1()\n",
        "chorus()"
      ],
      "metadata": {
        "id": "fTCfDGfWr3La"
      },
      "execution_count": null,
      "outputs": []
    }
  ]
}