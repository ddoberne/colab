{
  "nbformat": 4,
  "nbformat_minor": 0,
  "metadata": {
    "colab": {
      "provenance": [],
      "authorship_tag": "ABX9TyMmg6sVq3Nw4Nl/xvmACYa9",
      "include_colab_link": true
    },
    "kernelspec": {
      "name": "python3",
      "display_name": "Python 3"
    },
    "language_info": {
      "name": "python"
    }
  },
  "cells": [
    {
      "cell_type": "markdown",
      "metadata": {
        "id": "view-in-github",
        "colab_type": "text"
      },
      "source": [
        "<a href=\"https://colab.research.google.com/github/ddoberne/colab/blob/main/lessons/09_Else_and_Elif.ipynb\" target=\"_parent\"><img src=\"https://colab.research.google.com/assets/colab-badge.svg\" alt=\"Open In Colab\"/></a>"
      ]
    },
    {
      "cell_type": "markdown",
      "source": [
        "# 09 Else and Elif\n",
        "\n",
        "## - Else"
      ],
      "metadata": {
        "id": "UCdxTQg00Kde"
      }
    },
    {
      "cell_type": "markdown",
      "source": [
        "Pop quiz! Look at the below code, and tell me what the problem is:"
      ],
      "metadata": {
        "id": "nlaHslWW1MpO"
      }
    },
    {
      "cell_type": "code",
      "execution_count": null,
      "metadata": {
        "id": "d2n78XBX0I_G"
      },
      "outputs": [],
      "source": [
        "def signage(n):\n",
        "  \"\"\"Prints whether your number is positive or negative.\"\"\"\n",
        "  if n > 0:\n",
        "    sign = 'Positive'\n",
        "  if n < 0:\n",
        "    sign = 'Negative'\n",
        "  return sign"
      ]
    },
    {
      "cell_type": "code",
      "source": [
        "# Look, it totally works!\n",
        "n = 7\n",
        "print(n)\n",
        "print(signage(n))\n",
        "print()\n",
        "n = -23\n",
        "print(n)\n",
        "print(signage(n))"
      ],
      "metadata": {
        "colab": {
          "base_uri": "https://localhost:8080/"
        },
        "id": "tvDKYJGzVuxA",
        "outputId": "2b599bf4-873e-4869-d682-a332570c8792"
      },
      "execution_count": null,
      "outputs": [
        {
          "output_type": "stream",
          "name": "stdout",
          "text": [
            "7\n",
            "Positive\n",
            "\n",
            "-23\n",
            "Negative\n"
          ]
        }
      ]
    },
    {
      "cell_type": "code",
      "source": [
        "# Use this cell for any testing you'd like to do\n"
      ],
      "metadata": {
        "id": "quWelbOjVBWh"
      },
      "execution_count": null,
      "outputs": []
    },
    {
      "cell_type": "markdown",
      "source": [
        "A standard ```if``` statement, or sequence of statements, can cause some issues if not carefully coded. In the above example, there is a case where the variable returned by the function is never created, leading to an error as Python tries to return a variable it doesn't recognize.\n",
        "\n",
        "Often times, using ```else``` alongside ```if``` is a concise way of preventing problems from arising. Using an ```if```/```else``` statement is like making a fork in the road, and the program **must** go down one of the paths, which can help you keep track of where the code is going.\n",
        "\n",
        "To add ```else``` to an ```if``` statement, see the below example:"
      ],
      "metadata": {
        "id": "WZupHLD-WABw"
      }
    },
    {
      "cell_type": "code",
      "source": [
        "# Feel free to modify this cell\n",
        "condition = False"
      ],
      "metadata": {
        "id": "rXHJWFEja2f5"
      },
      "execution_count": null,
      "outputs": []
    },
    {
      "cell_type": "code",
      "source": [
        "if condition:\n",
        "  print('Looks like the condition was true!')\n",
        "else:\n",
        "  print('The condition was false after all!')"
      ],
      "metadata": {
        "colab": {
          "base_uri": "https://localhost:8080/"
        },
        "id": "2-K3RqmAabw0",
        "outputId": "8cdad97b-a504-4257-b5a6-c530bdd5019f"
      },
      "execution_count": null,
      "outputs": [
        {
          "output_type": "stream",
          "name": "stdout",
          "text": [
            "The condition was false after all!\n"
          ]
        }
      ]
    },
    {
      "cell_type": "markdown",
      "source": [
        "Following an ```if``` statement, ```else:``` followed by an indent block will be excecuted if and only if the condition is ```False```. Here's another example:"
      ],
      "metadata": {
        "id": "4hp6FQRoa5HL"
      }
    },
    {
      "cell_type": "code",
      "source": [
        "def signage(n):\n",
        "  \"\"\"Prints whether your number is positive\"\"\"\n",
        "  if n > 0:\n",
        "    sign = 'Positive'\n",
        "  else:\n",
        "    sign = 'Not positive'\n",
        "  return sign"
      ],
      "metadata": {
        "id": "4qbS_ix_bpob"
      },
      "execution_count": null,
      "outputs": []
    },
    {
      "cell_type": "code",
      "source": [
        "print(signage(0))"
      ],
      "metadata": {
        "colab": {
          "base_uri": "https://localhost:8080/"
        },
        "id": "dDfAMBcIcfLd",
        "outputId": "0bb59dad-7243-4822-f18e-dea368a82e97"
      },
      "execution_count": null,
      "outputs": [
        {
          "output_type": "stream",
          "name": "stdout",
          "text": [
            "Not positive\n"
          ]
        }
      ]
    },
    {
      "cell_type": "markdown",
      "source": [
        "Now, when we use ```0``` as an argument for ```signage()```, there's no error*! That's because ```else``` guarantees that the variable ```sign``` is declared for any value passed through the ```if``` statement.\n",
        "\n",
        "*In case you missed it, that was the error case for the original declaration of ```signage()```!\n"
      ],
      "metadata": {
        "id": "LzYeWQa-cZ2L"
      }
    },
    {
      "cell_type": "markdown",
      "source": [
        "## - Elif"
      ],
      "metadata": {
        "id": "EohtFHp2dF9Q"
      }
    },
    {
      "cell_type": "markdown",
      "source": [
        "Sometimes, you want a forked path with more than two possible paths. That's where ```elif``` comes into play, short for ```else if```. When you put an ```elif``` statement between ```if``` and ```else``` statements, you can write a third (or fourth, fifth, or however many) option all tied into the original ```if``` statement."
      ],
      "metadata": {
        "id": "hnw2n_sAsBOZ"
      }
    },
    {
      "cell_type": "code",
      "source": [
        "def signage(n):\n",
        "  \"\"\"Prints whether your number is positive\"\"\"\n",
        "  if n > 0:\n",
        "    sign = 'Positive'\n",
        "  elif n == 0:\n",
        "    sign = 'Neither positive nor negative'\n",
        "  else:\n",
        "    sign = 'Negative'\n",
        "  return sign"
      ],
      "metadata": {
        "id": "MpPpy9CBcDtf"
      },
      "execution_count": null,
      "outputs": []
    },
    {
      "cell_type": "code",
      "source": [
        "n = 0\n",
        "print(n)\n",
        "print(signage(n))\n",
        "print()\n",
        "n = -55\n",
        "print(n)\n",
        "print(signage(n))"
      ],
      "metadata": {
        "colab": {
          "base_uri": "https://localhost:8080/"
        },
        "id": "kE91cO6ntEBr",
        "outputId": "7a87a9e1-059d-431f-8ebc-9b1824e44e7c"
      },
      "execution_count": null,
      "outputs": [
        {
          "output_type": "stream",
          "name": "stdout",
          "text": [
            "0\n",
            "Neither positive nor negative\n",
            "\n",
            "-55\n",
            "Negative\n"
          ]
        }
      ]
    },
    {
      "cell_type": "markdown",
      "source": [
        "You can have as many ```elif``` statements as you'd like, and there's no strict requirement for a final ```else``` statement."
      ],
      "metadata": {
        "id": "NWURP7nGtouU"
      }
    },
    {
      "cell_type": "markdown",
      "source": [
        "## Pass"
      ],
      "metadata": {
        "id": "XoZF39Z0tkGi"
      }
    },
    {
      "cell_type": "markdown",
      "source": [
        "The ```pass``` statement tells Python to do nothing. So why is it useful? Sometimes it can be helpful for the readability of your code."
      ],
      "metadata": {
        "id": "TqFUPbqet50l"
      }
    },
    {
      "cell_type": "code",
      "source": [
        "def absolute(n):\n",
        "  \"\"\"Returns the absolute value of a number.\"\"\"\n",
        "  if signage(n) == 'Positive':\n",
        "    pass\n",
        "  else:\n",
        "    n = -n\n",
        "  return n"
      ],
      "metadata": {
        "id": "7l5Ez7ZmtdXu"
      },
      "execution_count": null,
      "outputs": []
    },
    {
      "cell_type": "markdown",
      "source": [
        "What we are saying in the above code is: \"If n is positive, do nothing, but if it's not positive flip its sign\". Frequently, ```pass``` is used in ```if```/```else``` statements when you don't want to forget about one of the possibilities."
      ],
      "metadata": {
        "id": "vxGIbXZpvfP3"
      }
    },
    {
      "cell_type": "code",
      "source": [
        "print(absolute(20))\n",
        "print(absolute(-13))"
      ],
      "metadata": {
        "colab": {
          "base_uri": "https://localhost:8080/"
        },
        "id": "qVgnzaoWvHlO",
        "outputId": "21adf3cf-95f8-47bd-ad96-7a76fb35746c"
      },
      "execution_count": null,
      "outputs": [
        {
          "output_type": "stream",
          "name": "stdout",
          "text": [
            "20\n",
            "13\n"
          ]
        }
      ]
    },
    {
      "cell_type": "markdown",
      "source": [
        "# Your Turn"
      ],
      "metadata": {
        "id": "UENMXJq2wNxG"
      }
    },
    {
      "cell_type": "markdown",
      "source": [
        "Write a function ```shoot()``` that returns how many points a shot is worth in basketball. The function takes in two boolean arguments:\n",
        "\n",
        "- ```made```, whether the shot goes in or not\n",
        "- ```three```, whether the shot was from behind the three point line\n",
        "\n",
        "A shot is worth 0 points if it is not made, 3 points if it is made behind the three point line, and 2 points if it is made but not outside the three point line."
      ],
      "metadata": {
        "id": "FZSIBm91wnmb"
      }
    },
    {
      "cell_type": "code",
      "source": [
        "### YOUR CODE HERE ###\n"
      ],
      "metadata": {
        "id": "moVzvMv_wIVt"
      },
      "execution_count": null,
      "outputs": []
    },
    {
      "cell_type": "code",
      "source": [
        "# Don't change the contents of this cell!\n",
        "print(shoot(made = True, three = True))\n",
        "print(shoot(made = True, three = False))\n",
        "print(shoot(made = False, three = True))\n",
        "print(shoot(made = False, three = False))"
      ],
      "metadata": {
        "id": "eZnBTovaxhDR"
      },
      "execution_count": null,
      "outputs": []
    },
    {
      "cell_type": "markdown",
      "source": [
        "Write a function ```costco_pizza()``` that takes in a customer's pizza order at Costco. This function should have one argument, a string. They only serve cheese and pepperoni, so:\n",
        "\n",
        "- If the argument is ```'cheese'```, tell the customer that their pizza is ready.\n",
        "- If the argument is ```'pepperoni'```, tell the customer that their pizza is in the oven.\n",
        "- If the argument is anything else, apologize and tell the customer that that type of pizza isn't served here."
      ],
      "metadata": {
        "id": "UvlW14Vxx-sf"
      }
    },
    {
      "cell_type": "code",
      "source": [
        "### YOUR CODE HERE ###"
      ],
      "metadata": {
        "id": "FPC1x722zMMd"
      },
      "execution_count": null,
      "outputs": []
    },
    {
      "cell_type": "code",
      "source": [
        "# Don't change the contents of this cell!\n",
        "costco_pizza('cheese')\n",
        "costco_pizza('pepperoni')\n",
        "costco_pizza('pineapple')"
      ],
      "metadata": {
        "id": "MGmhtEKszOn2"
      },
      "execution_count": null,
      "outputs": []
    }
  ]
}