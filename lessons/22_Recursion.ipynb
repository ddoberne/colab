{
  "nbformat": 4,
  "nbformat_minor": 0,
  "metadata": {
    "colab": {
      "provenance": [],
      "authorship_tag": "ABX9TyOhFPn+ZqHrFBDW7tQmXhr8",
      "include_colab_link": true
    },
    "kernelspec": {
      "name": "python3",
      "display_name": "Python 3"
    },
    "language_info": {
      "name": "python"
    }
  },
  "cells": [
    {
      "cell_type": "markdown",
      "metadata": {
        "id": "view-in-github",
        "colab_type": "text"
      },
      "source": [
        "<a href=\"https://colab.research.google.com/github/ddoberne/colab/blob/main/lessons/22_Recursion.ipynb\" target=\"_parent\"><img src=\"https://colab.research.google.com/assets/colab-badge.svg\" alt=\"Open In Colab\"/></a>"
      ]
    },
    {
      "cell_type": "markdown",
      "source": [
        "# Recursion"
      ],
      "metadata": {
        "id": "mw5vL2lp8bUW"
      }
    },
    {
      "cell_type": "markdown",
      "source": [
        "Often, there are tricky ways to save yourself from writing extra lines of code. **Recursion** is one such method, where you have a function call itself in order to avoid writing a ```for``` or ```while``` loop.\n",
        "\n",
        "Let's start with what we already know. If you were asked to write a function that computes the **factorial** of a counting number, it would look something like this:"
      ],
      "metadata": {
        "id": "zduaWgxC8eQe"
      }
    },
    {
      "cell_type": "code",
      "execution_count": 1,
      "metadata": {
        "id": "qTWlN---8ZGn"
      },
      "outputs": [],
      "source": [
        "def looped_factorial(x: int) -> int:\n",
        "  \"\"\"Uses a while loop to calculate the factorial of x.\"\"\"\n",
        "  output = 1\n",
        "  while x > 0:\n",
        "    output = output * x\n",
        "    x -= 1\n",
        "  return output"
      ]
    },
    {
      "cell_type": "code",
      "source": [
        "# Should print 4 * 3 * 2 * 1\n",
        "print(looped_factorial(4))\n",
        "# Should print 7 * 6 * 5 * 4 * 3 * 2 * 1\n",
        "print(looped_factorial(7))"
      ],
      "metadata": {
        "colab": {
          "base_uri": "https://localhost:8080/"
        },
        "id": "w8fKSp6l9vyv",
        "outputId": "05eb7d01-cf86-4f42-dd51-7da1ba15d3dc"
      },
      "execution_count": 2,
      "outputs": [
        {
          "output_type": "stream",
          "name": "stdout",
          "text": [
            "24\n",
            "5040\n"
          ]
        }
      ]
    },
    {
      "cell_type": "markdown",
      "source": [
        "It turns out you can have a function in Python call *itself*. Of course, this is dangerous, as you can run into an infinite loop, so there are a few guidelines for when you write a recursive function:\n",
        "\n",
        "* There needs to be an ```if``` statement to see if it's time to stop\n",
        "* Make sure the arguments of the subsequent calls are modified from the original!\n",
        "\n",
        "For factorial, it would look something like this:"
      ],
      "metadata": {
        "id": "Eva22Ksz9qm0"
      }
    },
    {
      "cell_type": "code",
      "source": [
        "def recursive_factorial(x: int) -> int:\n",
        "  \"\"\"Uses recursion to calculate the factorail of x.\"\"\"\n",
        "  if x == 1: # Checking to see if we should stop\n",
        "    return 1\n",
        "  else:\n",
        "    return x * recursive_factorial(x - 1) # Calling itself with different arguments"
      ],
      "metadata": {
        "id": "kX5boG9a9qVE"
      },
      "execution_count": 3,
      "outputs": []
    },
    {
      "cell_type": "code",
      "source": [
        "# Should print 4 * 3 * 2 * 1\n",
        "print(recursive_factorial(4))\n",
        "# Should print 7 * 6 * 5 * 4 * 3 * 2 * 1\n",
        "print(recursive_factorial(7))"
      ],
      "metadata": {
        "colab": {
          "base_uri": "https://localhost:8080/"
        },
        "id": "PFm9cHER_EH6",
        "outputId": "5ceeb4aa-9199-43dc-9b22-dc31cc9ac869"
      },
      "execution_count": 4,
      "outputs": [
        {
          "output_type": "stream",
          "name": "stdout",
          "text": [
            "24\n",
            "5040\n"
          ]
        }
      ]
    },
    {
      "cell_type": "markdown",
      "source": [
        "The line that is probably throwing you off is this one:\n",
        "\n",
        "```return x * recursive_factorial(x - 1)```\n",
        "\n",
        "What's going on here? Let's say we started with ```4```. When we get to that line, we will set ```output``` to ```4``` times the return value of ```recursive_factorial(3)```. Before we can move further, we need to figure out what the value of ```recursive_factorial(3)``` is. So it starts up another instance of the function, this time starting with 3. Sure enough, when we go through this time, we will be returning ```3``` times the return value of ```recursive_factorial(2)```. This happens one more time and we get ```2``` times the return value for ```recursive_factorial(1)```, which is 1 (no more recursion).\n",
        "\n",
        "```recursive_factorial(4)```\n",
        "\n",
        "```4 * recursive_factorial(3)```\n",
        "\n",
        "```4 * (3 * recursive_factorial(2))```\n",
        "\n",
        "```4 * (3 * (2 * recursive_factorial(1)))```\n",
        "\n",
        "```4 * (3 * (2 * 1))```\n",
        "\n",
        "Once we've reached the stopping point, we can finally compute the return values. In this case, it's easy to envision how the multiplication is evaluated, but it can be tricky at times."
      ],
      "metadata": {
        "id": "tvas4ObH_Ox_"
      }
    },
    {
      "cell_type": "markdown",
      "source": [
        "# Practice"
      ],
      "metadata": {
        "id": "S7FYDk9WEd6_"
      }
    },
    {
      "cell_type": "markdown",
      "source": [
        "Write a function, ```digitsum()``` that takes in a number and uses recursion to calculate the sum of its digits. Hint: use ```x // 10``` and ```x % 10```."
      ],
      "metadata": {
        "id": "0zG5qvA7EfcP"
      }
    },
    {
      "cell_type": "code",
      "source": [
        "### YOUR CODE HERE ###"
      ],
      "metadata": {
        "id": "SAf0ymyj_Ink"
      },
      "execution_count": null,
      "outputs": []
    }
  ]
}