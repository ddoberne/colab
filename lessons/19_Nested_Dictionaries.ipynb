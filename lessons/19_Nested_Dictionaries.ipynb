{
  "nbformat": 4,
  "nbformat_minor": 0,
  "metadata": {
    "colab": {
      "provenance": [],
      "authorship_tag": "ABX9TyPGKkO9lopYWQ553XYrZ3Y+",
      "include_colab_link": true
    },
    "kernelspec": {
      "name": "python3",
      "display_name": "Python 3"
    },
    "language_info": {
      "name": "python"
    }
  },
  "cells": [
    {
      "cell_type": "markdown",
      "metadata": {
        "id": "view-in-github",
        "colab_type": "text"
      },
      "source": [
        "<a href=\"https://colab.research.google.com/github/ddoberne/colab/blob/main/lessons/19_Nested_Dictionaries.ipynb\" target=\"_parent\"><img src=\"https://colab.research.google.com/assets/colab-badge.svg\" alt=\"Open In Colab\"/></a>"
      ]
    },
    {
      "cell_type": "markdown",
      "source": [
        "# 19 Nested Dictionaries"
      ],
      "metadata": {
        "id": "y5WdNavC5VhH"
      }
    },
    {
      "cell_type": "markdown",
      "source": [
        "In our last lesson, we learend about **dictionaries** and how they can be used to store **labeled data**. Recall that the labels, or **keys** of dictionaries must be integers or strings (preferably strings), but the values can be any data type.\n",
        "\n",
        "If the data can be of any type... that means that dictionaries can store other dictionaries. If that sounds like the most confusing thing ever, it is, but hopefully by the end of this lesson it starts to make sense.\n",
        "\n",
        "Let's start off with the dictionaries we used in the last lesson:"
      ],
      "metadata": {
        "id": "W2Q1EMJG5Z4G"
      }
    },
    {
      "cell_type": "code",
      "execution_count": 2,
      "metadata": {
        "id": "1VpDz1KWc2XD"
      },
      "outputs": [],
      "source": [
        "arcanine = {}\n",
        "arcanine['name'] = 'Arcanine'\n",
        "arcanine['level'] = 45\n",
        "arcanine['hp'] = 100\n",
        "arcanine['moves'] = ['Flamethrower', 'Take Down', 'Extremespeed']\n",
        "arcanine['type'] = 'Fire'\n",
        "arcanine['pokedex'] = '''A Pokemon that has long been admired for its beauty. It runs gracefully, as if on wings.'''\n",
        "\n",
        "alakazam = {}\n",
        "alakazam['name'] = 'Alakazam'\n",
        "alakazam['level'] = 42\n",
        "alakazam['hp'] = 80\n",
        "alakazam['moves'] = ['Confuse Ray', 'Psychic', 'Recover']\n",
        "alakazam['type'] = 'Psychic'\n",
        "alakazam['pokedex'] = '''Its brain can outperform a supercomputer. Its intelligence quotient is said to be 5000.'''"
      ]
    },
    {
      "cell_type": "markdown",
      "source": [
        "Again, when keeping track of dictionaries, labels are your friends. The dict ```arcanine``` has data stored about its ```name```, ```level```, ```hp```, ```moves```, ```type```, and ```pokedex```. When we want to access data about ```arcanine```, we can specify the key to get the information we want. For instance, ```arcanine['type']``` will give us the data we stored under that key.\n",
        "\n",
        "Now, let's make a dictionary that stores these two."
      ],
      "metadata": {
        "id": "JqlzYP4k9lvL"
      }
    },
    {
      "cell_type": "code",
      "source": [
        "pokemon = {}\n",
        "pokemon['arcanine'] = arcanine\n",
        "pokemon['alakazam'] = alakazam"
      ],
      "metadata": {
        "id": "cM-CgvGd_oq6"
      },
      "execution_count": 3,
      "outputs": []
    },
    {
      "cell_type": "markdown",
      "source": [
        "Here, we made a dictionary named ```pokemon``` to store other dictionaries with the same format as ```arcanine``` and ```alakazam```. Technically, the formatting doesn't have to be consistent, but proper organization will make your life much easier.\n",
        "\n",
        "Within ```pokemon```, we now have a labeled way of accessing any of the information within either dictionary we put in it."
      ],
      "metadata": {
        "id": "CN5ECVieBmk3"
      }
    },
    {
      "cell_type": "code",
      "source": [
        "print(pokemon['arcanine'])"
      ],
      "metadata": {
        "colab": {
          "base_uri": "https://localhost:8080/"
        },
        "id": "FpNp01T12f4K",
        "outputId": "0c1b5090-4468-424d-98f8-c7b630131b1d"
      },
      "execution_count": 4,
      "outputs": [
        {
          "output_type": "stream",
          "name": "stdout",
          "text": [
            "{'name': 'Arcanine', 'level': 45, 'hp': 100, 'moves': ['Flamethrower', 'Take Down', 'Extremespeed'], 'type': 'Fire', 'pokedex': 'A Pokemon that has long been admired for its beauty. It runs gracefully, as if on wings.'}\n"
          ]
        }
      ]
    },
    {
      "cell_type": "markdown",
      "source": [
        "```>>> pokemon['arcanine']```\n",
        "\n",
        "This will tell Python to access the dictionary we stored when we made the assignment earlier:\n",
        "\n",
        "```pokemon['arcanine'] = arcanine```\n",
        "\n",
        "Once we access that, we can further access any of the fields we stored earlier.\n",
        "\n",
        "```>>> pokemon['arcanine']['pokedex']```\n",
        "\n",
        "This would access the ```pokedex``` field within the ```arcanine``` dictionary."
      ],
      "metadata": {
        "id": "N4KYCGb-2khb"
      }
    },
    {
      "cell_type": "code",
      "source": [
        "print(pokemon['arcanine']['pokedex'])"
      ],
      "metadata": {
        "colab": {
          "base_uri": "https://localhost:8080/"
        },
        "id": "PZ6J8eJj2ib7",
        "outputId": "a5bccf13-717f-4ddb-a7c2-08831bcb887f"
      },
      "execution_count": 5,
      "outputs": [
        {
          "output_type": "stream",
          "name": "stdout",
          "text": [
            "A Pokemon that has long been admired for its beauty. It runs gracefully, as if on wings.\n"
          ]
        }
      ]
    },
    {
      "cell_type": "markdown",
      "source": [
        "## Practice"
      ],
      "metadata": {
        "id": "X6eRrBYO3jF7"
      }
    },
    {
      "cell_type": "markdown",
      "source": [
        "Declare another dictionary and add it to ```pokemon```. Then write a function that takes in ```pokemon``` and a string, and returns the data stored in ```moves``` of the inner dictionary. For example:\n",
        "\n",
        "```get_moves(pokemon, 'alakazam')```\n",
        "\n",
        "... should return ```['Confuse Ray', 'Psychic', 'Recover']```."
      ],
      "metadata": {
        "id": "zB4ypmqM3oYm"
      }
    },
    {
      "cell_type": "code",
      "source": [
        "### YOUR CODE HERE ###"
      ],
      "metadata": {
        "id": "KE2_QIkg3Ya2"
      },
      "execution_count": null,
      "outputs": []
    },
    {
      "cell_type": "markdown",
      "source": [
        "Write a function that takes in a dictionary of dictionaries (like ```pokemon```) and prints out all of the information within in an organized fashion. The output should be something like this:\n",
        "\n",
        "```\n",
        "POKEMON 1\n",
        "name: Arcanine\n",
        "level: 45\n",
        "moves: ['Flamethrower', 'Take Down', 'Extremespeed']\n",
        "...\n",
        "\n",
        "POKEMON 2\n",
        "name: Alakazam\n",
        "...\n",
        "```\n",
        "\n",
        "In order to do this, you will need to iterate through the dictionary. When you do so, with something like:\n",
        "```\n",
        "for p in pokemon:\n",
        "  ...\n",
        "```\n",
        "\n",
        "```p``` will be the **keys**, not the values. So if I follow the above with:\n",
        "\n",
        "```\n",
        "for p in pokemon:\n",
        "  print(p)\n",
        "```\n",
        "\n",
        "... I will get the two (or more) keys stored in ```pokemon```, including ```arcanine``` and ```alakazam```. If I want to access data within ```pokemon```, I might do something like:\n",
        "\n",
        "```\n",
        "for p in pokemon:\n",
        "  inner_dict = pokemon[p]\n",
        "  print(inner_dict['name'])\n",
        "```\n",
        "\n",
        "... which will access the labeled data of the inner dictionary."
      ],
      "metadata": {
        "id": "4RQ3el0a5sA3"
      }
    },
    {
      "cell_type": "code",
      "source": [
        "### YOUR CODE HERE ###"
      ],
      "metadata": {
        "id": "ytFXgiYo7KW2"
      },
      "execution_count": null,
      "outputs": []
    }
  ]
}