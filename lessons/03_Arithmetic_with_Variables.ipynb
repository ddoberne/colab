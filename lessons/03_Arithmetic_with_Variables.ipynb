{
  "nbformat": 4,
  "nbformat_minor": 0,
  "metadata": {
    "colab": {
      "provenance": [],
      "authorship_tag": "ABX9TyMGW8ydnaaHSV2jHfIe0/qL",
      "include_colab_link": true
    },
    "kernelspec": {
      "name": "python3",
      "display_name": "Python 3"
    },
    "language_info": {
      "name": "python"
    }
  },
  "cells": [
    {
      "cell_type": "markdown",
      "metadata": {
        "id": "view-in-github",
        "colab_type": "text"
      },
      "source": [
        "<a href=\"https://colab.research.google.com/github/ddoberne/colab/blob/main/03_Arithmetic_with_Variables.ipynb\" target=\"_parent\"><img src=\"https://colab.research.google.com/assets/colab-badge.svg\" alt=\"Open In Colab\"/></a>"
      ]
    },
    {
      "cell_type": "markdown",
      "source": [
        "# 03 Arithmetic with Variables"
      ],
      "metadata": {
        "id": "b0bynzJd7Csq"
      }
    },
    {
      "cell_type": "markdown",
      "source": [
        "In the last lesson, we used Python as a glorified calculator. The advantage that programming gives, however, is that you can easily repeat the same calculation process for a variety of different inputs."
      ],
      "metadata": {
        "id": "LLd9hXwx7MRu"
      }
    },
    {
      "cell_type": "markdown",
      "source": [
        "For example, pretend you're coding a video game where you need to frequently calculate how much damage a sword attack is going to do. If the damage dealt is equal to the attacker's attack stat times the sword's damage modifier, then minus the defender's armor. Let's try a calculation for the following scenario:"
      ],
      "metadata": {
        "id": "e_EqAG6J9BEY"
      }
    },
    {
      "cell_type": "markdown",
      "source": [
        "* Attack stat is 23\n",
        "* Sword damage modifier is 8\n",
        "* Defender armor is 41"
      ],
      "metadata": {
        "id": "UTx8UjQxAchG"
      }
    },
    {
      "cell_type": "code",
      "source": [
        "dmg = (23 * 8) - 41\n",
        "print(dmg)"
      ],
      "metadata": {
        "colab": {
          "base_uri": "https://localhost:8080/"
        },
        "id": "tYZpsxOoAlpC",
        "outputId": "0d4967c0-b819-4f0d-af67-8e55b9b35bcc"
      },
      "execution_count": null,
      "outputs": [
        {
          "output_type": "stream",
          "name": "stdout",
          "text": [
            "143\n"
          ]
        }
      ]
    },
    {
      "cell_type": "markdown",
      "source": [
        "How about a different scenario:"
      ],
      "metadata": {
        "id": "nBRxWkceAus3"
      }
    },
    {
      "cell_type": "markdown",
      "source": [
        "* Attack stat is 25\n",
        "* Sword damage modifier is 11\n",
        "* Defender armor is 50"
      ],
      "metadata": {
        "id": "nWBTFkyKBVSS"
      }
    },
    {
      "cell_type": "code",
      "source": [
        "dmg = (25 * 11) - 50\n",
        "print(dmg)"
      ],
      "metadata": {
        "colab": {
          "base_uri": "https://localhost:8080/"
        },
        "id": "kmTnTR9RBs0u",
        "outputId": "346a4134-1a79-4098-dba9-65808bc07faa"
      },
      "execution_count": null,
      "outputs": [
        {
          "output_type": "stream",
          "name": "stdout",
          "text": [
            "225\n"
          ]
        }
      ]
    },
    {
      "cell_type": "markdown",
      "source": [
        "And if we want to do the same thing with variables, it will look like this:"
      ],
      "metadata": {
        "id": "A3FZ8NJ0E3Cq"
      }
    },
    {
      "cell_type": "code",
      "source": [
        "# Attacker stat\n",
        "a = 25\n",
        "# Sword damage modifier\n",
        "s = 11\n",
        "# Defender armor stat\n",
        "d = 50\n",
        "\n",
        "dmg = (a * s) - d\n",
        "print(dmg)"
      ],
      "metadata": {
        "colab": {
          "base_uri": "https://localhost:8080/"
        },
        "id": "MuLHjfjQE7G8",
        "outputId": "96a63476-18fb-474c-b5cf-64d4dc536601"
      },
      "execution_count": null,
      "outputs": [
        {
          "output_type": "stream",
          "name": "stdout",
          "text": [
            "225\n"
          ]
        }
      ]
    },
    {
      "cell_type": "markdown",
      "source": [
        "You may be thinking \"Ok... what's the big idea here? I can just redo the calculation with different stats each time!\" Let's take a look at a real damage formula, from Final Fantasy VI:"
      ],
      "metadata": {
        "id": "U9P9o8JyB3o6"
      }
    },
    {
      "cell_type": "markdown",
      "source": [
        "* `DMG = ((ATK + (WPN * 3/4)) * (255 - DEF)/256) + 1`"
      ],
      "metadata": {
        "id": "Xhi_HmivCd1u"
      }
    },
    {
      "cell_type": "markdown",
      "source": [
        "If your reaction to that is \"Wow, I don't want to have to read and/or type that!\"... that's where variables come in handy! Instead of typing that whole mess each time we want to calculate for different variables, which comes with the risk of changing the formula accidentally, there's another solution. We can have a cell where variable values are established, and another cell with the formula which we don't touch."
      ],
      "metadata": {
        "id": "HnzAH1NmDIbU"
      }
    },
    {
      "cell_type": "code",
      "source": [
        "# Attacker stat\n",
        "a = 23\n",
        "# Sword damage modifier\n",
        "s = 8\n",
        "# Defender armor stat\n",
        "d = 12"
      ],
      "metadata": {
        "id": "b8N34MEsCdeu"
      },
      "execution_count": null,
      "outputs": []
    },
    {
      "cell_type": "markdown",
      "source": [
        "We still have to write out the entire formula somewhere, but fortunately, only once."
      ],
      "metadata": {
        "id": "1NetWnnzfDdb"
      }
    },
    {
      "cell_type": "code",
      "source": [
        "# Damage formula\n",
        "dmg = ((a + (s * 3/4)) * (255 - d)/256) + 1\n",
        "print(dmg)"
      ],
      "metadata": {
        "colab": {
          "base_uri": "https://localhost:8080/"
        },
        "id": "yHKjxxwOEVcy",
        "outputId": "f714fd8a-3bd2-46da-8209-74101c582eb0"
      },
      "execution_count": null,
      "outputs": [
        {
          "output_type": "stream",
          "name": "stdout",
          "text": [
            "27.6259765625\n"
          ]
        }
      ]
    },
    {
      "cell_type": "markdown",
      "source": [
        "Now, if we want to change the attack, weapon, or armor values, we can do so in the corresponding cell (or a new cell), then when we run the above cell again we get an updated calculation. Try it!"
      ],
      "metadata": {
        "id": "YYyQAlg0ElzR"
      }
    },
    {
      "cell_type": "code",
      "source": [
        "# Run this cell, then run the above cell again. Notice the difference!\n",
        "a = 25\n",
        "s = 11\n",
        "d = 50"
      ],
      "metadata": {
        "id": "gZ7RpJp7FW2D"
      },
      "execution_count": null,
      "outputs": []
    },
    {
      "cell_type": "markdown",
      "source": [
        "This makes everything so much easier to change! Sometimes, you will have a program with three or four variables that you might want to change, followed by dozens or even *hundreds* of lines of code to execute based off those few variables. It's good to get in the habit of establishing any variables early and clearly so that it's easy to make changes."
      ],
      "metadata": {
        "id": "tMlORtCuA_-Y"
      }
    },
    {
      "cell_type": "markdown",
      "source": [
        "In the next lesson, we'll go over another way to save typing: functions."
      ],
      "metadata": {
        "id": "3MnOyPVuHvIm"
      }
    },
    {
      "cell_type": "markdown",
      "source": [
        "# Practice"
      ],
      "metadata": {
        "id": "vOC5l3G3GS-Q"
      }
    },
    {
      "cell_type": "markdown",
      "source": [
        "Back to apples and baskets! For the below problems, small baskets hold 4 apples and large baskets hold 7 apples, and each basket is full. Use variables wisely to make this exercise a walk in the park!\n",
        "\n",
        "How many apples do you have if you have...\n",
        "* 3 small baskets and 5 large baskets?\n",
        "* 8 small baskets and 2 large baskets?\n",
        "* 14 small baskets and 12 large baskets?\n",
        "* 501 small baskets and 123 large baskets?\n"
      ],
      "metadata": {
        "id": "AE4vu5MoH78t"
      }
    },
    {
      "cell_type": "code",
      "source": [
        "### YOUR CODE HERE ###\n",
        "# Use this cell for variable assignments!"
      ],
      "metadata": {
        "id": "-_6oWzUOGWOK"
      },
      "execution_count": null,
      "outputs": []
    },
    {
      "cell_type": "code",
      "source": [
        "### YOUR CODE HERE ###\n",
        "# Use this cell for the formula!"
      ],
      "metadata": {
        "id": "xzZ3erGGIBV_"
      },
      "execution_count": null,
      "outputs": []
    },
    {
      "cell_type": "markdown",
      "source": [
        "How many baskets can you fill and how many apples will you have left over if...\n",
        "* Baskets hold 4 apples and you have 11 total?\n",
        "* Baskets hold 10 appples and you have 23 total?\n",
        "* Baskets hold 8 apples and you have 121 total?\n",
        "* Baskets hold 24 apples and you have 433 total?"
      ],
      "metadata": {
        "id": "rQtabPl0JiZI"
      }
    },
    {
      "cell_type": "code",
      "source": [
        "### YOUR CODE HERE ###\n",
        "# Use this cell for variable assignments!"
      ],
      "metadata": {
        "id": "npHzh2_UJisw"
      },
      "execution_count": null,
      "outputs": []
    },
    {
      "cell_type": "code",
      "source": [
        "### YOUR CODE HERE ###\n",
        "# Use this cell for the formula!"
      ],
      "metadata": {
        "id": "nxpvWfpHJjBg"
      },
      "execution_count": null,
      "outputs": []
    }
  ]
}