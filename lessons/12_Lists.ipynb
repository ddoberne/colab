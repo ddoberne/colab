{
  "nbformat": 4,
  "nbformat_minor": 0,
  "metadata": {
    "colab": {
      "provenance": [],
      "authorship_tag": "ABX9TyM422P2GMbSdiEWWRSqe87r",
      "include_colab_link": true
    },
    "kernelspec": {
      "name": "python3",
      "display_name": "Python 3"
    },
    "language_info": {
      "name": "python"
    }
  },
  "cells": [
    {
      "cell_type": "markdown",
      "metadata": {
        "id": "view-in-github",
        "colab_type": "text"
      },
      "source": [
        "<a href=\"https://colab.research.google.com/github/ddoberne/colab/blob/main/12_Lists.ipynb\" target=\"_parent\"><img src=\"https://colab.research.google.com/assets/colab-badge.svg\" alt=\"Open In Colab\"/></a>"
      ]
    },
    {
      "cell_type": "markdown",
      "source": [
        "# 12 Lists"
      ],
      "metadata": {
        "id": "JwdnTQqnUmf1"
      }
    },
    {
      "cell_type": "markdown",
      "source": [
        "So far, we've worked with a small number of variables, where each one corresponds to one string or number. If somebody were to ask you to store 10 numbers for them, it would look something like this:"
      ],
      "metadata": {
        "id": "JZeiyxwTUx4z"
      }
    },
    {
      "cell_type": "code",
      "source": [
        "n1 = 1\n",
        "n2 = 1\n",
        "n3 = 2\n",
        "n4 = 3\n",
        "n5 = 5\n",
        "n6 = 8\n",
        "n7 = 13\n",
        "n8 = 21\n",
        "n9 = 34\n",
        "n10 = 55\n"
      ],
      "metadata": {
        "id": "Bb95-NjIXIpG"
      },
      "execution_count": null,
      "outputs": []
    },
    {
      "cell_type": "markdown",
      "source": [
        "It works, but if somebody were to ask you to store 100 numbers, you would have to:\n",
        "\n",
        "- Write 100 lines of code\n",
        "- Keep track of all 100 variable names you used\n",
        "\n",
        "**Lists** help us avoid both of these issues! A list can contain numbers, strings, other lists, and other data types we will see in the future. They can be virtually any length and have any combination of data types within them, so they are super convenient. We'll learn more about automating processes in the future, but in this lesson we'll go over how to use lists to organize data.\n",
        "\n",
        "To declare a list, separate a group of items with commas and enclose them with square brackets."
      ],
      "metadata": {
        "id": "eP5h2JxfXelw"
      }
    },
    {
      "cell_type": "code",
      "source": [
        "fibonaccis = [1, 1, 2, 3, 5, 8, 13, 21, 34, 55]\n",
        "fruits = ['apple', 'peach', 'pear', 'cherry', 'orange']\n",
        "print(fibonaccis)\n",
        "print(fruits)"
      ],
      "metadata": {
        "colab": {
          "base_uri": "https://localhost:8080/"
        },
        "id": "uKED8zEDdsUt",
        "outputId": "3bfc298c-8eff-4506-9c68-a01b030ec9e3"
      },
      "execution_count": null,
      "outputs": [
        {
          "output_type": "stream",
          "name": "stdout",
          "text": [
            "[1, 1, 2, 3, 5, 8, 13, 21, 34, 55]\n",
            "['apple', 'peach', 'pear', 'cherry', 'orange']\n"
          ]
        }
      ]
    },
    {
      "cell_type": "markdown",
      "source": [
        "If we want to see how many members are in our list, we can use the ```len()``` (short for 'length') function, like so:"
      ],
      "metadata": {
        "id": "mbtUSHmH2lX0"
      }
    },
    {
      "cell_type": "code",
      "source": [
        "len(fruits)"
      ],
      "metadata": {
        "colab": {
          "base_uri": "https://localhost:8080/"
        },
        "id": "kJZszEnn21yU",
        "outputId": "6c6fb855-8cc6-4c35-893f-29487805866e"
      },
      "execution_count": null,
      "outputs": [
        {
          "output_type": "execute_result",
          "data": {
            "text/plain": [
              "5"
            ]
          },
          "metadata": {},
          "execution_count": 4
        }
      ]
    },
    {
      "cell_type": "markdown",
      "source": [
        "You can also store variables in your lists."
      ],
      "metadata": {
        "id": "KpVurVwXeoSb"
      }
    },
    {
      "cell_type": "code",
      "source": [
        "another_list = [n1, n2, n3, n4, n5, n6, n7, n8, n9, n10]\n",
        "nested_lists = [fibonaccis, fruits, another_list]\n",
        "print(another_list)\n",
        "print(nested_lists)"
      ],
      "metadata": {
        "colab": {
          "base_uri": "https://localhost:8080/"
        },
        "id": "yrdiu6DafdOV",
        "outputId": "4983a812-2dd6-47db-9d9c-61e7e4753ea3"
      },
      "execution_count": null,
      "outputs": [
        {
          "output_type": "stream",
          "name": "stdout",
          "text": [
            "[1, 1, 2, 3, 5, 8, 13, 21, 34, 55]\n",
            "[[1, 1, 2, 3, 5, 8, 13, 21, 34, 55], ['apple', 'peach', 'pear', 'cherry', 'orange'], [1, 1, 2, 3, 5, 8, 13, 21, 34, 55]]\n"
          ]
        }
      ]
    },
    {
      "cell_type": "markdown",
      "source": [
        "Note the second pair of brackets around the list of lists! We will get into those more in future lessons."
      ],
      "metadata": {
        "id": "D8m6eQr9fta9"
      }
    },
    {
      "cell_type": "markdown",
      "source": [
        "## Indexing"
      ],
      "metadata": {
        "id": "Tju3ZaF11qWP"
      }
    },
    {
      "cell_type": "markdown",
      "source": [
        "Now that we have a list, we need a way to access its members. If we write ```[5]``` after our list, we will access just the member numbered 5. Python is **zero-indexed** which means that **a list's first member is labeled zero**, and counts up from there. Most things in programming are zero-indexed, which takes some time to get used to!\n",
        "\n",
        "Take our above list of fruit as an example:"
      ],
      "metadata": {
        "id": "EulEVUIs1rpg"
      }
    },
    {
      "cell_type": "code",
      "source": [
        "print(fruits)\n",
        "print(fruits[1]) # This will access the second member!\n",
        "print(fruits[0]) # This is how you can access the first member."
      ],
      "metadata": {
        "id": "ej2guoGwfsn8",
        "colab": {
          "base_uri": "https://localhost:8080/"
        },
        "outputId": "6c9541e1-2b0f-4331-a2bb-f972f0f1926d"
      },
      "execution_count": null,
      "outputs": [
        {
          "output_type": "stream",
          "name": "stdout",
          "text": [
            "['apple', 'peach', 'pear', 'cherry', 'orange']\n",
            "peach\n",
            "apple\n"
          ]
        }
      ]
    },
    {
      "cell_type": "markdown",
      "source": [
        "Be very careful that you don't try to index outside of the list! Here is a very common error:"
      ],
      "metadata": {
        "id": "XJWJynTt4qte"
      }
    },
    {
      "cell_type": "code",
      "source": [
        "print(f'Our list of fruits has length {len(fruits)}')\n",
        "print(f'But if we try to access the index {len(fruits)}...')\n",
        "print(fruits[5]) # Since indexing starts at 0, it only goes up to 4."
      ],
      "metadata": {
        "colab": {
          "base_uri": "https://localhost:8080/",
          "height": 246
        },
        "id": "yb3hRQb546we",
        "outputId": "a95e617b-5ba2-48b5-b22b-86d010d83842"
      },
      "execution_count": null,
      "outputs": [
        {
          "output_type": "stream",
          "name": "stdout",
          "text": [
            "Our list of fruits has length 5\n",
            "But if we try to access the index 5...\n"
          ]
        },
        {
          "output_type": "error",
          "ename": "IndexError",
          "evalue": "ignored",
          "traceback": [
            "\u001b[0;31m---------------------------------------------------------------------------\u001b[0m",
            "\u001b[0;31mIndexError\u001b[0m                                Traceback (most recent call last)",
            "\u001b[0;32m<ipython-input-7-4d35eb74a4bb>\u001b[0m in \u001b[0;36m<module>\u001b[0;34m\u001b[0m\n\u001b[1;32m      1\u001b[0m \u001b[0mprint\u001b[0m\u001b[0;34m(\u001b[0m\u001b[0;34mf'Our list of fruits has length {len(fruits)}'\u001b[0m\u001b[0;34m)\u001b[0m\u001b[0;34m\u001b[0m\u001b[0;34m\u001b[0m\u001b[0m\n\u001b[1;32m      2\u001b[0m \u001b[0mprint\u001b[0m\u001b[0;34m(\u001b[0m\u001b[0;34mf'But if we try to access the index {len(fruits)}...'\u001b[0m\u001b[0;34m)\u001b[0m\u001b[0;34m\u001b[0m\u001b[0;34m\u001b[0m\u001b[0m\n\u001b[0;32m----> 3\u001b[0;31m \u001b[0mprint\u001b[0m\u001b[0;34m(\u001b[0m\u001b[0mfruits\u001b[0m\u001b[0;34m[\u001b[0m\u001b[0;36m5\u001b[0m\u001b[0;34m]\u001b[0m\u001b[0;34m)\u001b[0m \u001b[0;31m# Since indexing starts at 0, it only goes up to 4.\u001b[0m\u001b[0;34m\u001b[0m\u001b[0;34m\u001b[0m\u001b[0m\n\u001b[0m",
            "\u001b[0;31mIndexError\u001b[0m: list index out of range"
          ]
        }
      ]
    },
    {
      "cell_type": "markdown",
      "source": [
        "Whenever you try to access something that doesn't exist, you will get an error like the one above. This happens very often when using ```len()``` to find the length of a list, but not stopping one before that number."
      ],
      "metadata": {
        "id": "wXIplGIU5IDl"
      }
    },
    {
      "cell_type": "markdown",
      "source": [
        "You can also use negative numbers, starting from -1, to count from the end of the list!"
      ],
      "metadata": {
        "id": "BP9x3EZn4d0w"
      }
    },
    {
      "cell_type": "code",
      "source": [
        "print(fruits)\n",
        "print(fruits[-1])\n",
        "print(fruits[-2])"
      ],
      "metadata": {
        "id": "t1Ksy0WH6k1D",
        "colab": {
          "base_uri": "https://localhost:8080/"
        },
        "outputId": "1d63dd8b-4abc-4421-c0d4-ba91a87e3b0a"
      },
      "execution_count": null,
      "outputs": [
        {
          "output_type": "stream",
          "name": "stdout",
          "text": [
            "['apple', 'peach', 'pear', 'cherry', 'orange']\n",
            "orange\n",
            "cherry\n"
          ]
        }
      ]
    },
    {
      "cell_type": "markdown",
      "source": [
        "# Practice!"
      ],
      "metadata": {
        "id": "kkCtZMZX5WhG"
      }
    },
    {
      "cell_type": "markdown",
      "source": [
        "Write a function, ```doubles_list()```, that takes in two arguments and returns a list with the first element, second element, first again, and then second again. For example:\n",
        "\n",
        "```doubles_list(a, b)```\n",
        "\n",
        "...should return:\n",
        "\n",
        "```[a, b, a, b]```"
      ],
      "metadata": {
        "id": "ErMfvBzk8gqG"
      }
    },
    {
      "cell_type": "code",
      "source": [
        "### YOUR CODE HERE ###"
      ],
      "metadata": {
        "id": "CyIUtFMo8JNV"
      },
      "execution_count": 3,
      "outputs": []
    },
    {
      "cell_type": "code",
      "source": [
        "# Make sure this cell runs properly without changes!\n",
        "a = doubles_list('Kuro', 'Shriek')\n",
        "print(a)\n",
        "# Output should be ['Kuro', 'Shriek', 'Kuro', 'Shriek']"
      ],
      "metadata": {
        "id": "hUeTXXO68Jj7"
      },
      "execution_count": null,
      "outputs": []
    },
    {
      "cell_type": "markdown",
      "source": [
        "Write two functions, ```check_third()``` and ```check_last()```, that print the third and last member in a list, respectively.\n",
        "\n",
        "Be prepared for the possibility of indexing errors that may occur and stop the function from causing them. If the user provides a list that isn't long enough, print a message telling the user."
      ],
      "metadata": {
        "id": "9heqNG7w8gKV"
      }
    },
    {
      "cell_type": "code",
      "source": [
        "### YOUR CODE HERE ###"
      ],
      "metadata": {
        "id": "uy5_IgkD5ZAt"
      },
      "execution_count": 1,
      "outputs": []
    },
    {
      "cell_type": "code",
      "source": [
        "# Make sure this cell runs properly without changes!\n",
        "my_list = ['Ori', 'Naru', 'Ku', 'Gumo', 'Opher']\n",
        "short_list = ['The Blind Forest', 'The Will of the Wisps']\n",
        "another_list = ['Wall Jump', 'Stomp', 'Spirit Flame', 'Bash']\n",
        "check_third(my_list)\n",
        "check_third(short_list)\n",
        "check_third(another_list)\n",
        "\n",
        "check_last(my_list)\n",
        "check_last(short_list)\n",
        "check_last(another_list)\n",
        "# Output should be:\n",
        "# Ku\n",
        "# List not long enough!\n",
        "# Spirit Flame\n",
        "# Opher\n",
        "# The Will of the Wisps\n",
        "# Bash"
      ],
      "metadata": {
        "id": "00ljCHsR5dM-"
      },
      "execution_count": null,
      "outputs": []
    },
    {
      "cell_type": "markdown",
      "source": [
        "Write a function, ```compare_seconds()```, that takes in two list and checks the second member of each. If they are the same, print ```'Match!'```, and if not, print ```'Not a match'```.\n",
        "\n",
        "Again, if the user provides a list that is too short, print a message to the user telling them that their list is too short."
      ],
      "metadata": {
        "id": "w2fENCMG6nIn"
      }
    },
    {
      "cell_type": "code",
      "source": [
        "### YOUR CODE HERE ###"
      ],
      "metadata": {
        "id": "PPE3pj8n7t1r"
      },
      "execution_count": null,
      "outputs": []
    },
    {
      "cell_type": "code",
      "source": [
        "# Make sure this cell runs properly without changes!\n",
        "fourth_list = ['New Horizons', 'The Will of the Wisps', 'Genshin Impact', 'Hades']\n",
        "compare_seconds(my_list, short_list)\n",
        "compare_seconds(short_list, fourth_list)\n",
        "compare_seconds(short_list, ['Tower of Fantasy'])\n",
        "# Output should be:\n",
        "# Not a match\n",
        "# Match!\n",
        "# List error"
      ],
      "metadata": {
        "id": "H7Dj0-p66kXi"
      },
      "execution_count": null,
      "outputs": []
    }
  ]
}