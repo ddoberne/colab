{
  "nbformat": 4,
  "nbformat_minor": 0,
  "metadata": {
    "colab": {
      "provenance": [],
      "authorship_tag": "ABX9TyN5ravngAB28db1ZFU2lbez",
      "include_colab_link": true
    },
    "kernelspec": {
      "name": "python3",
      "display_name": "Python 3"
    },
    "language_info": {
      "name": "python"
    }
  },
  "cells": [
    {
      "cell_type": "markdown",
      "metadata": {
        "id": "view-in-github",
        "colab_type": "text"
      },
      "source": [
        "<a href=\"https://colab.research.google.com/github/ddoberne/colab/blob/main/07_Boolean_Operators.ipynb\" target=\"_parent\"><img src=\"https://colab.research.google.com/assets/colab-badge.svg\" alt=\"Open In Colab\"/></a>"
      ]
    },
    {
      "cell_type": "markdown",
      "source": [
        "# 07 Boolean Operators"
      ],
      "metadata": {
        "id": "EF2Nz1kzI8Bz"
      }
    },
    {
      "cell_type": "markdown",
      "source": [
        "A **boolean** (or **bool**) refers to either a ```True``` or ```False```. Boolean operators can help us check to see whether something is true or not. This will become very useful in future lessons where we have code that we only want to execute given a certain condition. For this lesson, we'll be talking about how to compare numbers to each other and how to compare booleans to each other."
      ],
      "metadata": {
        "id": "87e8J2ywJBEE"
      }
    },
    {
      "cell_type": "markdown",
      "source": [
        "During this lesson, there will be several cells with True/False statements. Try to predict whether each cell is true (or false) before running them!"
      ],
      "metadata": {
        "id": "M24ojcLRTphm"
      }
    },
    {
      "cell_type": "markdown",
      "source": [
        "## Comparing Numbers"
      ],
      "metadata": {
        "id": "n_G2Ver7LX4H"
      }
    },
    {
      "cell_type": "markdown",
      "source": [
        "For comparing numbers, we have inequalities you may have learned about in math class:\n",
        "* Is ```x``` greater than ```y```?\n",
        "  * ```x > y```\n",
        "* Is ```x``` less than ```y```?\n",
        "  * ```x < y```\n",
        "* Is ```x``` greater than or equal to ```y```?\n",
        "  * ```x >= y```\n",
        "* Is ```x``` less than or equal to ```y```?\n",
        "  * ```x <= y```\n",
        "\n",
        "Remember, the alligator's mouth wants to eat the bigger number!"
      ],
      "metadata": {
        "id": "MrY1rmfFLaPI"
      }
    },
    {
      "cell_type": "code",
      "execution_count": null,
      "metadata": {
        "id": "bpNXzjVcIrXM"
      },
      "outputs": [],
      "source": [
        "# 5 is greater than 4...\n",
        "5 > 4"
      ]
    },
    {
      "cell_type": "code",
      "source": [
        "# ... but 4 is not greater than 4\n",
        "4 > 4"
      ],
      "metadata": {
        "id": "5mIvJkudMBIk"
      },
      "execution_count": null,
      "outputs": []
    },
    {
      "cell_type": "code",
      "source": [
        "# 4 is less than or equal to 4\n",
        "4 <= 4"
      ],
      "metadata": {
        "id": "x3nKZUhDMIPu"
      },
      "execution_count": null,
      "outputs": []
    },
    {
      "cell_type": "markdown",
      "source": [
        "Next, we have operators that check for equality:\n",
        "\n",
        "* Does ```x``` equal ```y```?\n",
        "  * ```x == y```\n",
        "* Is ```x``` not equal to ```y```?\n",
        "  * ```x != y```\n",
        "\n",
        "\n"
      ],
      "metadata": {
        "id": "B73UOeuPMbHo"
      }
    },
    {
      "cell_type": "code",
      "source": [
        "12 == 12"
      ],
      "metadata": {
        "id": "jxvT06sVMZE_"
      },
      "execution_count": null,
      "outputs": []
    },
    {
      "cell_type": "code",
      "source": [
        "12 != 13"
      ],
      "metadata": {
        "id": "WrS74iJ1RfMJ"
      },
      "execution_count": null,
      "outputs": []
    },
    {
      "cell_type": "markdown",
      "source": [
        "Note that the double equal sign checks for equality, while a single equal sign would be the operator for variable assignment. This is a mistake that happens by accident all the time!"
      ],
      "metadata": {
        "id": "KaIiABugRzui"
      }
    },
    {
      "cell_type": "code",
      "source": [
        "# Don't do this\n",
        "12 = 12"
      ],
      "metadata": {
        "id": "0BDgQapmRzF6"
      },
      "execution_count": null,
      "outputs": []
    },
    {
      "cell_type": "markdown",
      "source": [
        "## Comparing Booleans"
      ],
      "metadata": {
        "id": "E-yYA_bYShNx"
      }
    },
    {
      "cell_type": "markdown",
      "source": [
        "Sometimes, we want to compare boolean statements with ```and``` or ```or```.\n",
        "\n",
        "* ```and``` is only true when **both** boolean statements are true\n",
        "* ```or``` is true if either **boolean** statement is true\n",
        "\n",
        "Also, ```not``` can be used to turn a ```True``` into a ```False``` or vice versa."
      ],
      "metadata": {
        "id": "x6kQtYRJSz_C"
      }
    },
    {
      "cell_type": "code",
      "source": [
        "True and True"
      ],
      "metadata": {
        "id": "37dQlTEOSNB_"
      },
      "execution_count": null,
      "outputs": []
    },
    {
      "cell_type": "code",
      "source": [
        "True and False"
      ],
      "metadata": {
        "id": "14s3fs3OTcNQ"
      },
      "execution_count": null,
      "outputs": []
    },
    {
      "cell_type": "code",
      "source": [
        "True and not True"
      ],
      "metadata": {
        "id": "6BC5ZuT_cEKo"
      },
      "execution_count": null,
      "outputs": []
    },
    {
      "cell_type": "code",
      "source": [
        "False and False"
      ],
      "metadata": {
        "id": "eOUBvuwsTdCG"
      },
      "execution_count": null,
      "outputs": []
    },
    {
      "cell_type": "code",
      "source": [
        "True or True"
      ],
      "metadata": {
        "id": "CgKkswULTd6X"
      },
      "execution_count": null,
      "outputs": []
    },
    {
      "cell_type": "code",
      "source": [
        "True or False"
      ],
      "metadata": {
        "id": "D7GDXUHYTfJo"
      },
      "execution_count": null,
      "outputs": []
    },
    {
      "cell_type": "code",
      "source": [
        "False or False"
      ],
      "metadata": {
        "id": "Jtqc82Q6TgMA"
      },
      "execution_count": null,
      "outputs": []
    },
    {
      "cell_type": "code",
      "source": [
        "False or not False"
      ],
      "metadata": {
        "id": "4cevPYCmcHs5"
      },
      "execution_count": null,
      "outputs": []
    },
    {
      "cell_type": "markdown",
      "source": [
        "There are also two functions available to check multiple booleans at once:\n",
        "* ```any()``` checks to see if **any** of the arguments are ```True```\n",
        "* ```all()``` checks to see if **all** of the arguments are ```True```\n",
        "\n",
        "For these two functions, you need to wrap your arguments in a **list**, which we haven't yet talked about. For now, you can make any group of arguments a list by wrapping them in square brackets ```[]```."
      ],
      "metadata": {
        "id": "8UimnzO4Utcn"
      }
    },
    {
      "cell_type": "code",
      "source": [
        "any([True, True, True])"
      ],
      "metadata": {
        "id": "thejbq6YTg_A"
      },
      "execution_count": null,
      "outputs": []
    },
    {
      "cell_type": "code",
      "source": [
        "any([False, False, False])"
      ],
      "metadata": {
        "id": "UHExKXrAVRYY"
      },
      "execution_count": null,
      "outputs": []
    },
    {
      "cell_type": "code",
      "source": [
        "any([False, True, False, False])"
      ],
      "metadata": {
        "id": "JN0srkD8VT6Z"
      },
      "execution_count": null,
      "outputs": []
    },
    {
      "cell_type": "code",
      "source": [
        "all([True, True, True, True])"
      ],
      "metadata": {
        "id": "g2xcLa9wU9--"
      },
      "execution_count": null,
      "outputs": []
    },
    {
      "cell_type": "code",
      "source": [
        "all([True, True, True, False])"
      ],
      "metadata": {
        "id": "m5fvhJeCVdLe"
      },
      "execution_count": null,
      "outputs": []
    },
    {
      "cell_type": "markdown",
      "source": [
        "# Example Functions"
      ],
      "metadata": {
        "id": "dK--6eD4V440"
      }
    },
    {
      "cell_type": "markdown",
      "source": [
        "Ok, let's put some of this into practice! Below, I will define a function to checks to see if a number is greater than 99."
      ],
      "metadata": {
        "id": "HnpOxd2FV781"
      }
    },
    {
      "cell_type": "code",
      "source": [
        "def is_big(n):\n",
        "  \"\"\"Returns True if the number is greater than 99\"\"\"\n",
        "  output = (n > 99)\n",
        "  return output"
      ],
      "metadata": {
        "id": "ofFbYTtcV6OM"
      },
      "execution_count": null,
      "outputs": []
    },
    {
      "cell_type": "markdown",
      "source": [
        "Say you give it 100 as an argument. Since Python recognizes ```(n > 99)``` as ```True``` for this case, it replaces the statement within the parentheses with ```True```. Then, that line of code will look like we are setting the variable ```output``` to ```True```:\n",
        "\n",
        "```output = True```\n",
        "\n",
        "This function can also be defined like so:"
      ],
      "metadata": {
        "id": "SvwRTBmxWnJL"
      }
    },
    {
      "cell_type": "code",
      "source": [
        "def is_big(n):\n",
        "  \"\"\"Returns True if the number is greater than 99\"\"\"\n",
        "  return n > 99"
      ],
      "metadata": {
        "id": "aPw1SfxEXJ7E"
      },
      "execution_count": null,
      "outputs": []
    },
    {
      "cell_type": "markdown",
      "source": [
        "Both ways are functionally equivalent, and whichever makes more sense to you is what you should use.\n",
        "\n",
        "Ok, let's test this function out!"
      ],
      "metadata": {
        "id": "SOjWDp6lXQbX"
      }
    },
    {
      "cell_type": "code",
      "source": [
        "print('Is 40 greater than 99?')\n",
        "print(is_big(40))\n",
        "print('Is 4000 greater than 99?')\n",
        "print(is_big(4000))"
      ],
      "metadata": {
        "id": "jtyXG9H0XgcZ"
      },
      "execution_count": null,
      "outputs": []
    },
    {
      "cell_type": "markdown",
      "source": [
        "Another function to check if a number is less than 1000:"
      ],
      "metadata": {
        "id": "OXnp1yMDYT35"
      }
    },
    {
      "cell_type": "code",
      "source": [
        "def but_not_huge(n):\n",
        "  \"\"\"Returns True if the number is less than 1000\"\"\"\n",
        "  return n < 1000"
      ],
      "metadata": {
        "id": "WmMbufeFXpX1"
      },
      "execution_count": null,
      "outputs": []
    },
    {
      "cell_type": "markdown",
      "source": [
        "... and finally, a function that uses our existing functions to check that a number is greater than 99 but less than 1000."
      ],
      "metadata": {
        "id": "kbJTD3S3YrBU"
      }
    },
    {
      "cell_type": "code",
      "source": [
        "def just_right(n):\n",
        "  \"\"\"Returns True if the number is between 99 and 1000\"\"\"\n",
        "  output = (is_big(n) and but_not_huge(n))\n",
        "  return output"
      ],
      "metadata": {
        "id": "z6sYnCGzYqhM"
      },
      "execution_count": null,
      "outputs": []
    },
    {
      "cell_type": "code",
      "source": [
        "print(\"Is 1 just right?\")\n",
        "print(just_right(1))\n",
        "print(\"Is 100 just right?\")\n",
        "print(just_right(100))\n",
        "print(\"Is 10000 just right?\")\n",
        "print(just_right(10000))"
      ],
      "metadata": {
        "id": "9k1w1e8fZIcS"
      },
      "execution_count": null,
      "outputs": []
    },
    {
      "cell_type": "markdown",
      "source": [
        "# Exercises"
      ],
      "metadata": {
        "id": "BbcDkTrdZhLw"
      }
    },
    {
      "cell_type": "markdown",
      "source": [
        "Write the following functions:\n",
        "\n",
        "* ```is_huge()```, which checks to see if a number is greater than 999\n",
        "* ```is_even()```, which checks to see if a number is divisible by 2\n",
        "  * Hint: use modulus (```%```)!\n",
        "* ```is_unlucky()```, which checks to see if a number is **not** divisible by 7\n",
        "* ```huge_even_and_unlucky()```, which uses the above functions to check if **all** three are true\n",
        "* ```huge_even_or_unlucky()```, which uses the above functions to check if **any** three are true"
      ],
      "metadata": {
        "id": "XJSnm4o7aN0u"
      }
    },
    {
      "cell_type": "code",
      "source": [
        "### YOUR CODE HERE ###"
      ],
      "metadata": {
        "id": "u03-lSraZaSl"
      },
      "execution_count": null,
      "outputs": []
    },
    {
      "cell_type": "code",
      "source": [
        "# This cell checks to make sure is_huge(), is_even(), and is_unlucky() are working properly\n",
        "assert is_huge(12345)\n",
        "assert not is_huge(678)\n",
        "assert is_even(90)\n",
        "assert not is_even(123)\n",
        "assert is_unlucky(45)\n",
        "assert not is_lucky(84)"
      ],
      "metadata": {
        "id": "WqqXSm4Mch4W"
      },
      "execution_count": null,
      "outputs": []
    },
    {
      "cell_type": "code",
      "source": [
        "# This cell checks to make sure huge_even_and/or_unlucky() are working properly\n",
        "assert huge_even_and_unlucky(7778)\n",
        "assert not huge_even_and_unlucky(778)\n",
        "assert not huge_even_and_unlucky(7777)\n",
        "assert huge_even_or_unlucky(7778)\n",
        "assert not huge_even_or_unlucky(777)\n",
        "assert huge_even_or_unlucky(4)"
      ],
      "metadata": {
        "id": "7z-9609ucgEe"
      },
      "execution_count": null,
      "outputs": []
    }
  ]
}