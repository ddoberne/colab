{
  "nbformat": 4,
  "nbformat_minor": 0,
  "metadata": {
    "colab": {
      "provenance": [],
      "authorship_tag": "ABX9TyMjoNJQAttsN6g29nCRstX/",
      "include_colab_link": true
    },
    "kernelspec": {
      "name": "python3",
      "display_name": "Python 3"
    },
    "language_info": {
      "name": "python"
    }
  },
  "cells": [
    {
      "cell_type": "markdown",
      "metadata": {
        "id": "view-in-github",
        "colab_type": "text"
      },
      "source": [
        "<a href=\"https://colab.research.google.com/github/ddoberne/colab/blob/main/13_Modifying_Lists.ipynb\" target=\"_parent\"><img src=\"https://colab.research.google.com/assets/colab-badge.svg\" alt=\"Open In Colab\"/></a>"
      ]
    },
    {
      "cell_type": "markdown",
      "source": [
        "# 13 Modifying Lists"
      ],
      "metadata": {
        "id": "cHd2swQol7kR"
      }
    },
    {
      "cell_type": "markdown",
      "source": [
        "We've learned how to make a list and access its members, but we'll also need to know how to modify an existing list. There are so many different things that can be done to a list that it's definitely overwhelming, but we'll just be focusing on four methods:\n",
        "\n",
        "* ```append()``` for adding an item at the end of a list\n",
        "* ```extend()``` for adding another list at the end of a list\n",
        "* ```insert()``` for adding an item at any spot in a list\n",
        "* ```pop()``` for removing an item at any spot in a list\n",
        "\n",
        "Let's start by building the ```fruits``` list from before with ```append()```. First, we'll create an empty list with square brackets."
      ],
      "metadata": {
        "id": "Z4NzfcYamApa"
      }
    },
    {
      "cell_type": "code",
      "execution_count": 1,
      "metadata": {
        "id": "mwNWXON8l4FC"
      },
      "outputs": [],
      "source": [
        "# This creates an empty list\n",
        "fruits = [] "
      ]
    },
    {
      "cell_type": "markdown",
      "source": [
        "Then, we'll append each of the fruits to the end of the list one by one."
      ],
      "metadata": {
        "id": "Q3xjQ7W8mGGF"
      }
    },
    {
      "cell_type": "code",
      "source": [
        "fruits.append('apple')\n",
        "fruits.append('peach')\n",
        "fruits.append('pear')\n",
        "fruits.append('cherry')\n",
        "fruits.append('orange')"
      ],
      "metadata": {
        "id": "UsbwMbWrmIAG"
      },
      "execution_count": 2,
      "outputs": []
    },
    {
      "cell_type": "markdown",
      "source": [
        "Wait a minute! That looks different from how we've used functions in the past. Whenever you're modifying a list, you need to use the above notation to call a **method** associated with that list. Methods and functions behave similarly, but modifying complex data types like lists will often require a method with syntax like the cell above. The syntax to call a method follows the format:\n",
        "\n",
        "```<object>.<method>(<arguments>)```\n",
        "\n",
        "In the above example, the ```object``` is ```fruits``` and the ```method``` is ```append()```.\n",
        "\n",
        "Right, so let's now check to see if ```fruits``` is working the way we think it is:"
      ],
      "metadata": {
        "id": "p71nSqsImJ2H"
      }
    },
    {
      "cell_type": "code",
      "source": [
        "print(fruits)"
      ],
      "metadata": {
        "colab": {
          "base_uri": "https://localhost:8080/"
        },
        "id": "SBVsAt3GmKiH",
        "outputId": "5fc251c9-da68-4c49-c7a2-4a4fa17e0275"
      },
      "execution_count": 3,
      "outputs": [
        {
          "output_type": "stream",
          "name": "stdout",
          "text": [
            "['apple', 'peach', 'pear', 'cherry', 'orange']\n"
          ]
        }
      ]
    },
    {
      "cell_type": "markdown",
      "source": [
        "Great, all of the fruits are in the list in the order we added them.\n",
        "\n",
        "If we have another fruit to add to the end of the list, we can use ```append()``` again."
      ],
      "metadata": {
        "id": "CI_33CROmi_b"
      }
    },
    {
      "cell_type": "code",
      "source": [
        "fruits.append('coconut')\n",
        "print(fruits)"
      ],
      "metadata": {
        "colab": {
          "base_uri": "https://localhost:8080/"
        },
        "id": "2XwPsJOWBDTa",
        "outputId": "0d38ac74-f4e4-48bd-8574-bfca625b5846"
      },
      "execution_count": 4,
      "outputs": [
        {
          "output_type": "stream",
          "name": "stdout",
          "text": [
            "['apple', 'peach', 'pear', 'cherry', 'orange', 'coconut']\n"
          ]
        }
      ]
    },
    {
      "cell_type": "markdown",
      "source": [
        "Note that ```append()``` won't combine two lists. See what happens when we try to use ```append()``` to combine two lists:"
      ],
      "metadata": {
        "id": "qydtn0p-BhcR"
      }
    },
    {
      "cell_type": "code",
      "source": [
        "a = ['apple', 'peach', 'pear']\n",
        "b = ['cherry', 'orange', 'coconut']\n",
        "a.append(b)\n",
        "print(a)"
      ],
      "metadata": {
        "colab": {
          "base_uri": "https://localhost:8080/"
        },
        "id": "6sy-nzvKBwgl",
        "outputId": "a88da649-6ab2-4707-d97a-bebc167cfcbb"
      },
      "execution_count": 5,
      "outputs": [
        {
          "output_type": "stream",
          "name": "stdout",
          "text": [
            "['apple', 'peach', 'pear', ['cherry', 'orange', 'coconut']]\n"
          ]
        }
      ]
    },
    {
      "cell_type": "markdown",
      "source": [
        "As shown above, ```append()``` will only add one member for the list, so when it sees that you're trying to append a list, it will interpret it that you want the entire list as one member. To combine lists, instead use ```extend()```:"
      ],
      "metadata": {
        "id": "7rjxXnYDBQBG"
      }
    },
    {
      "cell_type": "code",
      "source": [
        "a = ['apple', 'peach', 'pear']\n",
        "b = ['cherry', 'orange', 'coconut']\n",
        "a.extend(b)\n",
        "print(a)"
      ],
      "metadata": {
        "colab": {
          "base_uri": "https://localhost:8080/"
        },
        "id": "FSvfD3kUCR-g",
        "outputId": "4e1d92cb-cac1-4b5b-d3cf-d185f80fca7c"
      },
      "execution_count": 6,
      "outputs": [
        {
          "output_type": "stream",
          "name": "stdout",
          "text": [
            "['apple', 'peach', 'pear', 'cherry', 'orange', 'coconut']\n"
          ]
        }
      ]
    },
    {
      "cell_type": "markdown",
      "source": [
        "In order to add a member to a list, but not necessarily at the end of it, use ```insert()```. It takes two arguments: the position to insert into, and the member you want to insert. Keep in mind the indexing rules we went over in the last lesson; the first member is index 0!"
      ],
      "metadata": {
        "id": "NFxA9tyKEVZR"
      }
    },
    {
      "cell_type": "code",
      "source": [
        "print(a)\n",
        "a.insert(0, 'banana') # Inserting at 0 will insert at the beginning of the list\n",
        "print(a)\n",
        "a.insert(4, 'strawberry') # Inserting at index 4\n",
        "print(a)\n",
        "a.insert(len(a), 'durian') # Inserts at the end of the list, functionally similar to append()\n",
        "print(a)"
      ],
      "metadata": {
        "colab": {
          "base_uri": "https://localhost:8080/"
        },
        "id": "BrmU1TXDF3zz",
        "outputId": "2c5b1e07-c596-4bc0-8c34-c6aa23aa059e"
      },
      "execution_count": 7,
      "outputs": [
        {
          "output_type": "stream",
          "name": "stdout",
          "text": [
            "['apple', 'peach', 'pear', 'cherry', 'orange', 'coconut']\n",
            "['banana', 'apple', 'peach', 'pear', 'cherry', 'orange', 'coconut']\n",
            "['banana', 'apple', 'peach', 'pear', 'strawberry', 'cherry', 'orange', 'coconut']\n",
            "['banana', 'apple', 'peach', 'pear', 'strawberry', 'cherry', 'orange', 'coconut', 'durian']\n"
          ]
        }
      ]
    },
    {
      "cell_type": "markdown",
      "source": [
        "Finally, if you want to remove a member of a list, you can use ```pop()```. This method will remove the member at the index you specify, and if you don't give it an argument it will remove the last one in the list. Conveniently, it will also return the member it is removing, which is useful if you want to catch it and use it for something.\n",
        "\n",
        "If we don't specify an index to ```pop()``` from, it will default to the last member of the list."
      ],
      "metadata": {
        "id": "2_3MX7nGG5So"
      }
    },
    {
      "cell_type": "code",
      "source": [
        "a.pop()"
      ],
      "metadata": {
        "id": "JVxMeYcVGn3-",
        "colab": {
          "base_uri": "https://localhost:8080/",
          "height": 36
        },
        "outputId": "aa635d66-0a99-43e4-9d91-d0093a11d2eb"
      },
      "execution_count": 8,
      "outputs": [
        {
          "output_type": "execute_result",
          "data": {
            "text/plain": [
              "'durian'"
            ],
            "application/vnd.google.colaboratory.intrinsic+json": {
              "type": "string"
            }
          },
          "metadata": {},
          "execution_count": 8
        }
      ]
    },
    {
      "cell_type": "markdown",
      "source": [
        "Above, we can see that the last element, ```'durian'``` is returned form the ```pop()``` method. After we do that, we can see that it is no longer part of the list."
      ],
      "metadata": {
        "id": "xzdAHMeCY8HA"
      }
    },
    {
      "cell_type": "code",
      "source": [
        "print(a)"
      ],
      "metadata": {
        "colab": {
          "base_uri": "https://localhost:8080/"
        },
        "id": "UyaRjSGtYpTF",
        "outputId": "dd3bf935-dfb5-45c5-88dc-df75333d2f47"
      },
      "execution_count": 9,
      "outputs": [
        {
          "output_type": "stream",
          "name": "stdout",
          "text": [
            "['banana', 'apple', 'peach', 'pear', 'strawberry', 'cherry', 'orange', 'coconut']\n"
          ]
        }
      ]
    },
    {
      "cell_type": "markdown",
      "source": [
        "Sometimes, we might want to catch the element we ```pop()``` off the list, like so:"
      ],
      "metadata": {
        "id": "JpU_owe3ZKXe"
      }
    },
    {
      "cell_type": "code",
      "source": [
        "fruit = a.pop(0)\n",
        "print(fruit)\n",
        "print(a)"
      ],
      "metadata": {
        "colab": {
          "base_uri": "https://localhost:8080/"
        },
        "id": "0ZRAXiGFZQsJ",
        "outputId": "6f6fac89-2fd8-4b6c-a6ec-8ec052a4fac1"
      },
      "execution_count": 10,
      "outputs": [
        {
          "output_type": "stream",
          "name": "stdout",
          "text": [
            "banana\n",
            "['apple', 'peach', 'pear', 'strawberry', 'cherry', 'orange', 'coconut']\n"
          ]
        }
      ]
    },
    {
      "cell_type": "markdown",
      "source": [
        "# Practice Problems"
      ],
      "metadata": {
        "id": "SRpg-Ev0ZeVo"
      }
    },
    {
      "cell_type": "markdown",
      "source": [
        "Write a function, ```triple()```, that takes in a number, then returns a list of length three where each member is that number.\n",
        "\n",
        "Write a function, ```pad()```, that takes a list, puts 0s at the beginning and end, then returns the list.\n",
        "\n",
        "Write a function, ```shave()```, that removes the first and last elements of a list, then returns it."
      ],
      "metadata": {
        "id": "ao2kgZj_Zgep"
      }
    },
    {
      "cell_type": "code",
      "source": [
        "### YOUR CODE HERE ###"
      ],
      "metadata": {
        "id": "9yIeYTOvZf3x"
      },
      "execution_count": 11,
      "outputs": []
    },
    {
      "cell_type": "code",
      "source": [
        "# Make sure this cell runs properly without changes!\n",
        "tester = triple(7)\n",
        "print(tester)\n",
        "print(pad(tester))\n",
        "beard = ['b', 'e', 'a', 'r', 'd']\n",
        "print(shave(beard))"
      ],
      "metadata": {
        "id": "LKP0H5-GaJk2"
      },
      "execution_count": null,
      "outputs": []
    }
  ]
}