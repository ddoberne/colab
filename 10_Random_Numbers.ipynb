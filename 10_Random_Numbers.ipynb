{
  "nbformat": 4,
  "nbformat_minor": 0,
  "metadata": {
    "colab": {
      "provenance": [],
      "authorship_tag": "ABX9TyNNU1NMqk8Ti8LeUrHf0XAO",
      "include_colab_link": true
    },
    "kernelspec": {
      "name": "python3",
      "display_name": "Python 3"
    },
    "language_info": {
      "name": "python"
    }
  },
  "cells": [
    {
      "cell_type": "markdown",
      "metadata": {
        "id": "view-in-github",
        "colab_type": "text"
      },
      "source": [
        "<a href=\"https://colab.research.google.com/github/ddoberne/colab/blob/main/10_Random_Numbers.ipynb\" target=\"_parent\"><img src=\"https://colab.research.google.com/assets/colab-badge.svg\" alt=\"Open In Colab\"/></a>"
      ]
    },
    {
      "cell_type": "markdown",
      "source": [
        "# Random Numbers\n",
        "\n",
        "## ```randint()```"
      ],
      "metadata": {
        "id": "-bUIl7JhcuAU"
      }
    },
    {
      "cell_type": "markdown",
      "source": [
        "Often when playing a game, a situation comes up where you need to roll a die or flip a coin to determine an outcome. In this lesson, we're going to go over how to do exactly that!\n",
        "\n",
        "First off, we need to ```import random```. Using ```import``` allows us to use objects and functions that have already been written somewhere else. Companies often employ teams of programmers just to write packages for people all around the world to use with ```import```. It's incredibly useful for saving time and energy! We'll go over it in more detail much later, so for now just know that you always need to ```import random``` when you want random numbers."
      ],
      "metadata": {
        "id": "gyHsGDnyc1CX"
      }
    },
    {
      "cell_type": "code",
      "execution_count": 1,
      "metadata": {
        "id": "Vmqq-mNPcjJR"
      },
      "outputs": [],
      "source": [
        "import random"
      ]
    },
    {
      "cell_type": "markdown",
      "source": [
        "If we want to simulate the roll of a 6-sided die, we can use random's ```randint()``` to give us a **rand**om **int**eger between 1 and 6. However, when using something that we imported, we need to specify where it came from. So, we write it in the form:\n",
        "\n",
        "```random.randint()```\n",
        "\n",
        "... to tell Python to look in ```random``` to find the function ```randint()```. First, let's see what happens when we call ```randint()``` several times."
      ],
      "metadata": {
        "id": "jijTOJ-ce0cv"
      }
    },
    {
      "cell_type": "code",
      "source": [
        "print(random.randint(1,6))\n",
        "print(random.randint(1,6))\n",
        "print(random.randint(1,6))\n",
        "print(random.randint(1,6))\n",
        "print(random.randint(1,6))\n",
        "print(random.randint(1,6))"
      ],
      "metadata": {
        "colab": {
          "base_uri": "https://localhost:8080/"
        },
        "id": "3HjrngmKhPEq",
        "outputId": "cd035150-a2b1-424b-99e2-bed2e9b64ab0"
      },
      "execution_count": 5,
      "outputs": [
        {
          "output_type": "stream",
          "name": "stdout",
          "text": [
            "5\n",
            "2\n",
            "4\n",
            "2\n",
            "4\n",
            "4\n"
          ]
        }
      ]
    },
    {
      "cell_type": "markdown",
      "source": [
        "Good, those are all numbers that are believable if we rolled a die that many times. Now let's use it in a function."
      ],
      "metadata": {
        "id": "1iEpTgoLhMAB"
      }
    },
    {
      "cell_type": "code",
      "source": [
        "def d6():\n",
        "  \"\"\"Simulates the roll of a 6-sided die.\"\"\"\n",
        "  output = random.randint(1, 6)\n",
        "  return output"
      ],
      "metadata": {
        "id": "e1Hva7kEetuT"
      },
      "execution_count": 3,
      "outputs": []
    },
    {
      "cell_type": "markdown",
      "source": [
        "In this function, we are assigning the variable ```output``` to the return value of ```random.randint()```, which gives us a random number. Each time we call it, it should give us a different random number."
      ],
      "metadata": {
        "id": "ZJm4QPGdgSpd"
      }
    },
    {
      "cell_type": "code",
      "source": [
        "print(d6())\n",
        "print(d6())\n",
        "print(d6())\n",
        "print(d6())\n",
        "print(d6())\n",
        "print(d6())"
      ],
      "metadata": {
        "colab": {
          "base_uri": "https://localhost:8080/"
        },
        "id": "rcZstbUxghKM",
        "outputId": "32de2b29-8188-4a16-997b-be3bb1543973"
      },
      "execution_count": 4,
      "outputs": [
        {
          "output_type": "stream",
          "name": "stdout",
          "text": [
            "6\n",
            "4\n",
            "4\n",
            "5\n",
            "2\n",
            "2\n"
          ]
        }
      ]
    },
    {
      "cell_type": "markdown",
      "source": [
        "## ```random()```"
      ],
      "metadata": {
        "id": "PweULRLBsmOr"
      }
    },
    {
      "cell_type": "markdown",
      "source": [
        "In the original Pokemon games, when encountering a wild Pokemon on Route 1, there would be a 50% chance to find Pidgey, and a 50% chance to find Rattata. This coin flip probability can be determined in the same way as rolling a dice, like so:"
      ],
      "metadata": {
        "id": "NutQDdFbkOBC"
      }
    },
    {
      "cell_type": "code",
      "source": [
        "dieroll = random.randint(1,2)\n",
        "if dieroll == 1:\n",
        "  print('Heads!')\n",
        "else:\n",
        "  print('Tails!')"
      ],
      "metadata": {
        "colab": {
          "base_uri": "https://localhost:8080/"
        },
        "id": "zMyI0WK6gkfO",
        "outputId": "012e10bb-36a6-4186-c36b-d3dd5b7570db"
      },
      "execution_count": 6,
      "outputs": [
        {
          "output_type": "stream",
          "name": "stdout",
          "text": [
            "Heads!\n"
          ]
        }
      ]
    },
    {
      "cell_type": "markdown",
      "source": [
        "... but a more flexible way to calculate percentage probabilities is with ```random()```. This function gives you a random decimal between 0 and 1, and the outcome can be determined by checking that number by your probability thresholds.\n",
        "\n",
        "Let's first try ```random()``` a few times:"
      ],
      "metadata": {
        "id": "5o6bDLaUlDX9"
      }
    },
    {
      "cell_type": "markdown",
      "source": [
        "Going back to the Pokemon example above, we can randomly determine whether a Pidgey or Rattata is encountered by checking the random number with 50%. In order to write a percentage as a decimal, we take the percentage number and move the decimal two places to the left.\n",
        "\n",
        "```50. -> 5.0 -> .50```\n",
        "\n",
        "Another example, for 8%:\n",
        "\n",
        "```8. -> .8 -> .08```\n",
        "\n",
        "So, for a 50% chance, we would use 0.5 as our probability threshold."
      ],
      "metadata": {
        "id": "hHYdhXqQmntF"
      }
    },
    {
      "cell_type": "code",
      "source": [
        "def route1():\n",
        "  \"\"\"Generates a random Pokemon encounter for Route 1.\"\"\"\n",
        "  r = random.random()\n",
        "  if r < 0.5:\n",
        "    return('Pidgey')\n",
        "  else:\n",
        "    return('Rattata')"
      ],
      "metadata": {
        "id": "xg8a1SvblC6c"
      },
      "execution_count": 15,
      "outputs": []
    },
    {
      "cell_type": "code",
      "source": [
        "print(route1())\n",
        "print(route1())\n",
        "print(route1())"
      ],
      "metadata": {
        "colab": {
          "base_uri": "https://localhost:8080/"
        },
        "id": "TITxViwUnB57",
        "outputId": "f3e96ed7-c8a5-44ec-8861-f8bd5d08e99a"
      },
      "execution_count": 16,
      "outputs": [
        {
          "output_type": "stream",
          "name": "stdout",
          "text": [
            "Pidgey\n",
            "Rattata\n",
            "Rattata\n"
          ]
        }
      ]
    },
    {
      "cell_type": "markdown",
      "source": [
        "Using ```elif``` statements, we can extend this to give us a random result out of a group of possibilities. For example, in Viridian Forest, 5 different Pokemon may appear at different rates:\n",
        "\n",
        "- 5% Caterpie\n",
        "- 5% Metapod\n",
        "- 45% Weedle\n",
        "- 40% Kakuna\n",
        "- 5% Pikachu\n",
        "\n",
        "In order to figure out which of these Pokemon appear, we will generate **one** random number. Since 0.05 is 5%, anything below 0.05 will be Caterpie. Then, anything between 0.05 and 0.10 will be Metapod, giving it the same likelihood as Caterpie. Weedle gets 45%, so it will be numbers between 0.10 and 0.55. Kakuna will be 0.55 to 0.95, and Pikachu will be numbers greater than 0.95.\n",
        "\n",
        "I'd recommend going over that last paragraph again to make sure the decimal ranges line up with the percentages! It's easy to make addition mistakes when doing something like this."
      ],
      "metadata": {
        "id": "BUetxI9lnBX6"
      }
    },
    {
      "cell_type": "code",
      "source": [
        "def viridianforest():\n",
        "  \"\"\"Generates a random Pokemon encounter for Viridian Forest.\"\"\"\n",
        "  r = random.random()\n",
        "  if r < 0.05:\n",
        "    return 'Caterpie'\n",
        "  elif r < 0.10:\n",
        "    return 'Metapod'\n",
        "  elif r < 0.55:\n",
        "    return 'Weedle'\n",
        "  elif r < 0.95:\n",
        "    return 'Kakuna'\n",
        "  else:\n",
        "    return 'Pikachu'"
      ],
      "metadata": {
        "id": "0g2KV4R5tvk4"
      },
      "execution_count": 18,
      "outputs": []
    },
    {
      "cell_type": "code",
      "source": [
        "print(viridianforest())\n",
        "print(viridianforest())\n",
        "print(viridianforest())\n",
        "print(viridianforest())\n",
        "print(viridianforest())\n"
      ],
      "metadata": {
        "colab": {
          "base_uri": "https://localhost:8080/"
        },
        "id": "wW1hJmNOu0iq",
        "outputId": "ba26267a-7b96-48c2-fe2d-91e0a7077237"
      },
      "execution_count": 19,
      "outputs": [
        {
          "output_type": "stream",
          "name": "stdout",
          "text": [
            "Kakuna\n",
            "Weedle\n",
            "Pikachu\n",
            "Kakuna\n",
            "Kakuna\n"
          ]
        }
      ]
    },
    {
      "cell_type": "markdown",
      "source": [
        "The line ```elif r < 0.55``` for Weedle may be unnerving, but recall that the code only gets to that point if the number generated is greater or equal to 0.10. We're only generating **one** random number. It's important not to generate random numbers for each check -- that will lead to probability weirdness."
      ],
      "metadata": {
        "id": "hpOIcqm5uS-R"
      }
    },
    {
      "cell_type": "code",
      "source": [
        "# Don't do this\n",
        "def weirdforest():\n",
        "  \"\"\"Poorly generates a random Pokemon encounter for Viridian Forest.\"\"\"\n",
        "  if random.random() < 0.05:\n",
        "    return 'Caterpie'\n",
        "  elif random.random() < 0.10:\n",
        "    return 'Metapod'\n",
        "  elif random.random() < 0.55:\n",
        "    return 'Weedle'\n",
        "  elif random.random() < 0.95:\n",
        "    return 'Kakuna'\n",
        "  else:\n",
        "    return 'Pikachu'"
      ],
      "metadata": {
        "id": "xPVr5k2Dtuoo"
      },
      "execution_count": null,
      "outputs": []
    },
    {
      "cell_type": "markdown",
      "source": [
        "# Practice Problems"
      ],
      "metadata": {
        "id": "pQMP_uBXvQEY"
      }
    },
    {
      "cell_type": "markdown",
      "source": [
        "Write a function ```roll()``` that takes in an argument ```n``` and rolls a die with that many sides, returning the result. For example, ```roll(8)``` would roll an 8-sided die, and ```roll(20)``` would roll a 20-sided die. Assume each die is fair, and don't worry about geometrically impossible numbers of sides."
      ],
      "metadata": {
        "id": "ZZ8g7J2evSYR"
      }
    },
    {
      "cell_type": "code",
      "source": [
        "### YOUR CODE HERE ###"
      ],
      "metadata": {
        "id": "ZED8FPxAvRrY"
      },
      "execution_count": 20,
      "outputs": []
    },
    {
      "cell_type": "code",
      "source": [
        "# Don't change the contents of this cell!\n",
        "print('Dayv is playing Dungeons and Dragons. He swings his mighty claymore!')\n",
        "\n",
        "r = roll(20)\n",
        "if r == 20:\n",
        "  print('Critical hit! He lands a blow for massive damage!')\n",
        "  print(3 *  (roll(6) + roll(6)))\n",
        "elif r >= 8:\n",
        "  print('The blow finds its mark.')\n",
        "  print(roll(6) + roll(6))\n",
        "elif r > 1:\n",
        "  print('He takes a hefty swing... but misses!')\n",
        "else:\n",
        "  print('Oh no, he rolled a 1! Critical miss!')"
      ],
      "metadata": {
        "id": "JrNETrIdvrI-"
      },
      "execution_count": null,
      "outputs": []
    },
    {
      "cell_type": "markdown",
      "source": [
        "Write a function ```hydropump()``` that calculates the amount of damage Hydro Pump will do. Hydro Pump has a base damage of 120. It has an accuracy of 85%, so there is a 15% it does nothing. If it hits, there's a 5% chance of a critical hit, dealing 1.5x damage."
      ],
      "metadata": {
        "id": "UlW97gu6xpTs"
      }
    },
    {
      "cell_type": "code",
      "source": [
        "### YOUR CODE HERE ###"
      ],
      "metadata": {
        "id": "gXuQLehByFvi"
      },
      "execution_count": 21,
      "outputs": []
    },
    {
      "cell_type": "code",
      "source": [
        "# Don't change the contents of this cell!\n",
        "print(hydropump())\n",
        "print(hydropump())\n",
        "print(hydropump())"
      ],
      "metadata": {
        "id": "jxvwCHqxyJIU"
      },
      "execution_count": null,
      "outputs": []
    }
  ]
}