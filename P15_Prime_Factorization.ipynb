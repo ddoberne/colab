{
  "nbformat": 4,
  "nbformat_minor": 0,
  "metadata": {
    "colab": {
      "provenance": [],
      "authorship_tag": "ABX9TyMhGss6zxDUtPc+TIpH6PBx",
      "include_colab_link": true
    },
    "kernelspec": {
      "name": "python3",
      "display_name": "Python 3"
    },
    "language_info": {
      "name": "python"
    }
  },
  "cells": [
    {
      "cell_type": "markdown",
      "metadata": {
        "id": "view-in-github",
        "colab_type": "text"
      },
      "source": [
        "<a href=\"https://colab.research.google.com/github/ddoberne/colab/blob/main/P15_Prime_Factorization.ipynb\" target=\"_parent\"><img src=\"https://colab.research.google.com/assets/colab-badge.svg\" alt=\"Open In Colab\"/></a>"
      ]
    },
    {
      "cell_type": "markdown",
      "source": [
        "# P15 Prime Factorization"
      ],
      "metadata": {
        "id": "hqHyfSvU41AW"
      }
    },
    {
      "cell_type": "markdown",
      "source": [
        "The **prime factorization** of a number is a list of prime numbers that multiply together to equal the original number. For example, the prime factorization of 20 is:\n",
        "\n",
        "```2 x 2 x 5```\n",
        "\n",
        "2 and 5 are prime numbers, and when you multiply the three above numbers together, you get the orignal number of 20. To find the prime factorization of a number, you can try dividing it by 2, then 3, then 5, and so on, checking each prime number. You wouldn't need to try dividing it by 4 or 6, because if it were divisible by one of those numbers, it would be divisible by 2. Then repeat this process until you are left with prime numbers.\n",
        "\n",
        "For the example of 20 above, the process would go something like this:\n",
        "```\n",
        "20\n",
        "2 x 10\n",
        "2 x 2 x 5\n",
        "```\n",
        "\n",
        "Write a function, ```factorize()``` that takes in a number, then returns a list with the prime factorization of that number. For example, ```factorize(42)``` should return ```[2, 3, 7]```."
      ],
      "metadata": {
        "id": "jU5tHArJ43ti"
      }
    },
    {
      "cell_type": "code",
      "execution_count": 1,
      "metadata": {
        "id": "UFZ7kalg4vQ2"
      },
      "outputs": [],
      "source": [
        "### YOUR CODE HERE ###"
      ]
    }
  ]
}