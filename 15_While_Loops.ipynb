{
  "nbformat": 4,
  "nbformat_minor": 0,
  "metadata": {
    "colab": {
      "provenance": [],
      "authorship_tag": "ABX9TyNcrUZbZawK3g1+tdUXVRkS",
      "include_colab_link": true
    },
    "kernelspec": {
      "name": "python3",
      "display_name": "Python 3"
    },
    "language_info": {
      "name": "python"
    }
  },
  "cells": [
    {
      "cell_type": "markdown",
      "metadata": {
        "id": "view-in-github",
        "colab_type": "text"
      },
      "source": [
        "<a href=\"https://colab.research.google.com/github/ddoberne/colab/blob/main/15_While_Loops.ipynb\" target=\"_parent\"><img src=\"https://colab.research.google.com/assets/colab-badge.svg\" alt=\"Open In Colab\"/></a>"
      ]
    },
    {
      "cell_type": "markdown",
      "source": [
        "# 15 While Loops\n",
        "\n"
      ],
      "metadata": {
        "id": "uYrb2m02LyyN"
      }
    },
    {
      "cell_type": "markdown",
      "source": [
        "In the last lesson, we learned about **for loops**, which are great for going through a list and doing the same thing to each member. That's useful when you have a defined start and end point to your loop, but sometimes you won't know how many times you need to loop until you want to stop. For those cases, we can use **while loops**.\n",
        "\n",
        "When writing a **while loop**, we use the following syntax:\n",
        "\n",
        "```while <boolean>:```\n",
        "\n",
        "The boolean can be either a variable or statement that will be checked at the beginning of the loop each time to determine whether it should continue or not. Like with **for loops**, the indent block that follows the colon will be looped through. Here's an example:"
      ],
      "metadata": {
        "id": "Cp7cvTFVMjIU"
      }
    },
    {
      "cell_type": "code",
      "source": [
        "iron = 0\n",
        "while iron < 10: # This block will loop as long as this is True\n",
        "  print(\"Gotta keep mining, I don't have 10 ore yet!\")\n",
        "  iron += 1\n",
        "  print(f'I swing my pickaxe at the rock and mine ore number {iron}!')\n",
        "\n",
        "print('Looks like I have enough iron for now.')"
      ],
      "metadata": {
        "id": "N2xWex5lMizs"
      },
      "execution_count": null,
      "outputs": []
    },
    {
      "cell_type": "markdown",
      "source": [
        "The code block will execute repeatedly, increasing ```iron``` by one each time, and when ```iron``` is 10 or greater, it will finally stop looping and continue with the code beneath it.\n",
        "\n",
        "When writing ```while``` loops, you have to be very careful to make sure that it will eventually end! It is very easy to accidentally write something like this, for example:"
      ],
      "metadata": {
        "id": "ivZHBk9COLtX"
      }
    },
    {
      "cell_type": "code",
      "execution_count": null,
      "metadata": {
        "id": "pMVi6LaQLs0i"
      },
      "outputs": [],
      "source": [
        "iron = 0\n",
        "while iron < 10:\n",
        "  print(\"Gotta keep mining, I don't have 10 ore yet!\")\n",
        "  print(f'I swing my pickaxe at the rock and mine ore number {iron}!')\n",
        "  \n",
        "print('Looks like I have enough iron for now.')"
      ]
    },
    {
      "cell_type": "markdown",
      "source": [
        "Here we have the dreaded infinite loop. Text is printing out, but since ```iron``` is just going to stay at 0 the entire time, the code will continue to execute endlessly. Fortunately, Colab will eventually shut it down, but it's definitely something that you need to be very careful about when writing ```while``` loops. This is one big advantage for ```for``` loops; since they have a defined endpoint, they're a lot less susceptible to infinite loops.\n",
        "\n",
        "Back to common practices, here's another way people tend to write their ```while``` loops:\n",
        "\n"
      ],
      "metadata": {
        "id": "UvXs_XW2O4yt"
      }
    },
    {
      "cell_type": "code",
      "source": [
        "# Rolling a die until I get a 6\n",
        "import random\n",
        "\n",
        "# Setting a variable to be checked, then updating it each iteration\n",
        "keepgoing = True\n",
        "while keepgoing:\n",
        "  roll = random.randint(1, 6) \n",
        "  print(f'I rolled a {roll}.')\n",
        "  if roll == 6:\n",
        "    print(\"Looks like I'm done!\")\n",
        "    keepgoing = False\n",
        "    print('Once we get here, the loop will no longer start over.')\n",
        "  else:\n",
        "    print('Gotta keep rolling.')\n",
        "    print()"
      ],
      "metadata": {
        "colab": {
          "base_uri": "https://localhost:8080/"
        },
        "id": "5w_D0OJ9P61m",
        "outputId": "d0cd06c0-689c-4b14-d2d3-903ac624cb61"
      },
      "execution_count": 3,
      "outputs": [
        {
          "output_type": "stream",
          "name": "stdout",
          "text": [
            "I rolled a 2.\n",
            "Gotta keep rolling.\n",
            "I rolled a 5.\n",
            "Gotta keep rolling.\n",
            "I rolled a 3.\n",
            "Gotta keep rolling.\n",
            "I rolled a 2.\n",
            "Gotta keep rolling.\n",
            "I rolled a 6.\n",
            "Looks like I'm done!\n"
          ]
        }
      ]
    },
    {
      "cell_type": "markdown",
      "source": [
        "It's worth mentioning that in a setup like this, ```keepgoing``` won't be checked continuously, only between iterations of the indent block. As you saw above, the statement after ```keepgoing``` was set to ```False``` still printed, so keep that in mind."
      ],
      "metadata": {
        "id": "xIMtH29ERY4D"
      }
    },
    {
      "cell_type": "markdown",
      "source": [
        "# Practice, Not Busywork"
      ],
      "metadata": {
        "id": "FkNsBYeySAvn"
      }
    },
    {
      "cell_type": "markdown",
      "source": [
        "Write a function, ```busywork()``` that takes in one integer and prints it. If that number is not divisible by 10, it adds 7 to the number and repeats the process until it lands on a number that is divisible by 10. For example:\n",
        "\n",
        "```busywork(5)```\n",
        "\n",
        "... would print:\n",
        "\n",
        "```\n",
        ">> 5\n",
        ">> 12\n",
        ">> 19\n",
        ">> 26\n",
        ">> 33\n",
        ">> 40\n",
        "```\n",
        "\n",
        "The last number printed should be a multiple of 10."
      ],
      "metadata": {
        "id": "HlVeVFemSF2R"
      }
    },
    {
      "cell_type": "code",
      "source": [
        "### YOUR CODE HERE ###"
      ],
      "metadata": {
        "id": "uwAWsH4jSLRM"
      },
      "execution_count": null,
      "outputs": []
    },
    {
      "cell_type": "code",
      "source": [
        "# Make sure this cell runs properly without changes!\n",
        "busywork(5)\n",
        "print()\n",
        "busywork(10)\n",
        "print()\n",
        "busywork(7)"
      ],
      "metadata": {
        "id": "YEKHaaW4Q5Y9"
      },
      "execution_count": null,
      "outputs": []
    }
  ]
}