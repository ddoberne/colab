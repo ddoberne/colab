{
  "nbformat": 4,
  "nbformat_minor": 0,
  "metadata": {
    "colab": {
      "provenance": [],
      "authorship_tag": "ABX9TyO5HiH1/jYt1edhsGiowYRy",
      "include_colab_link": true
    },
    "kernelspec": {
      "name": "python3",
      "display_name": "Python 3"
    },
    "language_info": {
      "name": "python"
    }
  },
  "cells": [
    {
      "cell_type": "markdown",
      "metadata": {
        "id": "view-in-github",
        "colab_type": "text"
      },
      "source": [
        "<a href=\"https://colab.research.google.com/github/ddoberne/colab/blob/main/solutions/S02.ipynb\" target=\"_parent\"><img src=\"https://colab.research.google.com/assets/colab-badge.svg\" alt=\"Open In Colab\"/></a>"
      ]
    },
    {
      "cell_type": "markdown",
      "source": [
        "# 02 Arithmetic"
      ],
      "metadata": {
        "id": "me2mwGZJkQ3H"
      }
    },
    {
      "cell_type": "markdown",
      "source": [
        "* There are six full baskets of apples containing eight apiece. How many apples are there total?"
      ],
      "metadata": {
        "id": "1G3J8whHkVR4"
      }
    },
    {
      "cell_type": "code",
      "source": [
        "### SOLUTION ###\n",
        "apples = 8\n",
        "baskets = 6\n",
        "print(apples * baskets)"
      ],
      "metadata": {
        "colab": {
          "base_uri": "https://localhost:8080/"
        },
        "id": "M6AzQoSdkVEx",
        "outputId": "37f0f25d-a1b9-4ce7-f08c-d79b2478c00b"
      },
      "execution_count": 1,
      "outputs": [
        {
          "output_type": "stream",
          "name": "stdout",
          "text": [
            "48\n"
          ]
        }
      ]
    },
    {
      "cell_type": "markdown",
      "source": [
        "* 14 baskets contain a total of 211 apples. What is the average number of apples in each basket?"
      ],
      "metadata": {
        "id": "CU0OCCM9kg_m"
      }
    },
    {
      "cell_type": "code",
      "execution_count": 2,
      "metadata": {
        "colab": {
          "base_uri": "https://localhost:8080/"
        },
        "id": "Q5LLnQUxkChf",
        "outputId": "cf25fd6f-eceb-4851-ef71-b81a245df2ff"
      },
      "outputs": [
        {
          "output_type": "stream",
          "name": "stdout",
          "text": [
            "15.071428571428571\n"
          ]
        }
      ],
      "source": [
        "### SOLUTION ###\n",
        "apples = 211\n",
        "baskets = 14\n",
        "average = apples / baskets\n",
        "print(average)"
      ]
    },
    {
      "cell_type": "markdown",
      "source": [
        "* There are four small baskets with seven apples apiece, and two large baskets with twelve apples apiece. How many apples do you have in total?"
      ],
      "metadata": {
        "id": "-xe0lesBkhf_"
      }
    },
    {
      "cell_type": "code",
      "source": [
        "### SOLUTION ###\n",
        "small = 7\n",
        "large = 12\n",
        "total = (4 * small) + (2 * large)\n",
        "print(total)"
      ],
      "metadata": {
        "colab": {
          "base_uri": "https://localhost:8080/"
        },
        "id": "fEUH-tc6khy3",
        "outputId": "dbf4abc5-d01d-45b2-c9e5-bed1bef993bd"
      },
      "execution_count": 3,
      "outputs": [
        {
          "output_type": "stream",
          "name": "stdout",
          "text": [
            "52\n"
          ]
        }
      ]
    },
    {
      "cell_type": "markdown",
      "source": [
        "* You have 91 apples. Each basket can only carry a total of eight apples. How many can you fill completely? How many apples will be left over?\n"
      ],
      "metadata": {
        "id": "PPp0IvQikiFX"
      }
    },
    {
      "cell_type": "code",
      "source": [
        "### SOLUTION ###\n",
        "apples = 91\n",
        "basket = 8\n",
        "full_baskets = apples // basket\n",
        "remainder = apples % basket\n",
        "print(full_baskets)\n",
        "print(remainder)"
      ],
      "metadata": {
        "colab": {
          "base_uri": "https://localhost:8080/"
        },
        "id": "aNNzzKhMkigP",
        "outputId": "86c2de4b-8679-4190-9a6d-8991eca725d1"
      },
      "execution_count": 4,
      "outputs": [
        {
          "output_type": "stream",
          "name": "stdout",
          "text": [
            "11\n",
            "3\n"
          ]
        }
      ]
    }
  ]
}