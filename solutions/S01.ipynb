{
  "nbformat": 4,
  "nbformat_minor": 0,
  "metadata": {
    "colab": {
      "provenance": [],
      "authorship_tag": "ABX9TyNU+LvD4vw+tI5owzWj6mza",
      "include_colab_link": true
    },
    "kernelspec": {
      "name": "python3",
      "display_name": "Python 3"
    },
    "language_info": {
      "name": "python"
    }
  },
  "cells": [
    {
      "cell_type": "markdown",
      "metadata": {
        "id": "view-in-github",
        "colab_type": "text"
      },
      "source": [
        "<a href=\"https://colab.research.google.com/github/ddoberne/colab/blob/main/solutions/S01.ipynb\" target=\"_parent\"><img src=\"https://colab.research.google.com/assets/colab-badge.svg\" alt=\"Open In Colab\"/></a>"
      ]
    },
    {
      "cell_type": "markdown",
      "source": [
        "# 01 Hello World!\n",
        "\n",
        "Now it's your turn to write code! Tell Python to print your:\n",
        "* Name\n",
        "* Hair color\n",
        "* Favorite game or movie\n",
        "* The last thing you ate"
      ],
      "metadata": {
        "id": "KJZjXjPViviA"
      }
    },
    {
      "cell_type": "code",
      "execution_count": 1,
      "metadata": {
        "colab": {
          "base_uri": "https://localhost:8080/"
        },
        "id": "K0bbiiyhipcp",
        "outputId": "05dd462b-1697-44ac-fcf1-74ccbb9ad3c3"
      },
      "outputs": [
        {
          "output_type": "stream",
          "name": "stdout",
          "text": [
            "My name is Dayv.\n",
            "My hair color is black.\n",
            "My favorite game is Genshin Impact.\n",
            "The last thing I ate was a gummy bear.\n"
          ]
        }
      ],
      "source": [
        "### SOLUTIONS ###\n",
        "print('My name is Dayv.')\n",
        "print('My hair color is black.')\n",
        "print('My favorite game is Genshin Impact.')\n",
        "print('The last thing I ate was a gummy bear.')"
      ]
    },
    {
      "cell_type": "markdown",
      "source": [
        "Next, create variables **line1**, **line2**, **line3**, and **line4** that store the above information, and run the cells below. If it worked properly, Python should print your name, hair color, favorite game or movie, and the last thing you ate."
      ],
      "metadata": {
        "id": "PFSz3dmhjlz6"
      }
    },
    {
      "cell_type": "code",
      "source": [
        "### SOLUTIONS ###\n",
        "line1 = 'My name is Dayv.'\n",
        "line2 = 'My hair color is black.'\n",
        "line3 = 'My favorite game is Genshin Impact.'\n",
        "line4 = 'The last thing I ate was a gummy bear.'"
      ],
      "metadata": {
        "id": "wS9AGL-MjmGB"
      },
      "execution_count": 2,
      "outputs": []
    },
    {
      "cell_type": "code",
      "source": [
        "### MAKE THIS CELL WORK BY COMPLETING THE CELL ABOVE ###\n",
        "print(line1)\n",
        "print(line2)\n",
        "print(line3)\n",
        "print(line4)"
      ],
      "metadata": {
        "colab": {
          "base_uri": "https://localhost:8080/"
        },
        "id": "jUe2aLICj3K6",
        "outputId": "19a7589f-bc30-4a31-eb09-83ca3dca9ce2"
      },
      "execution_count": 3,
      "outputs": [
        {
          "output_type": "stream",
          "name": "stdout",
          "text": [
            "My name is Dayv.\n",
            "My hair color is black.\n",
            "My favorite game is Genshin Impact.\n",
            "The last thing I ate was a gummy bear.\n"
          ]
        }
      ]
    }
  ]
}