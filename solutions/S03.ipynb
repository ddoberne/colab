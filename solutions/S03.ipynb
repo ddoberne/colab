{
  "nbformat": 4,
  "nbformat_minor": 0,
  "metadata": {
    "colab": {
      "provenance": [],
      "authorship_tag": "ABX9TyONmhu40ji/AMw2SZBiR+1e",
      "include_colab_link": true
    },
    "kernelspec": {
      "name": "python3",
      "display_name": "Python 3"
    },
    "language_info": {
      "name": "python"
    }
  },
  "cells": [
    {
      "cell_type": "markdown",
      "metadata": {
        "id": "view-in-github",
        "colab_type": "text"
      },
      "source": [
        "<a href=\"https://colab.research.google.com/github/ddoberne/colab/blob/main/solutions/S03.ipynb\" target=\"_parent\"><img src=\"https://colab.research.google.com/assets/colab-badge.svg\" alt=\"Open In Colab\"/></a>"
      ]
    },
    {
      "cell_type": "markdown",
      "source": [
        "# 03 Arithmetic with Variables"
      ],
      "metadata": {
        "id": "wpTP_X02lp0z"
      }
    },
    {
      "cell_type": "markdown",
      "source": [
        "Back to apples and baskets! For the below problems, small baskets hold 4 apples and large baskets hold 7 apples, and each basket is full. Use variables wisely to make this exercise a walk in the park!\n",
        "\n",
        "How many apples do you have if you have...\n",
        "* 3 small baskets and 5 large baskets?\n",
        "* 8 small baskets and 2 large baskets?\n",
        "* 14 small baskets and 12 large baskets?\n",
        "* 501 small baskets and 123 large baskets?"
      ],
      "metadata": {
        "id": "lIaPIgM3lwm9"
      }
    },
    {
      "cell_type": "code",
      "execution_count": 2,
      "metadata": {
        "colab": {
          "base_uri": "https://localhost:8080/"
        },
        "id": "tbTW1VGFlnOL",
        "outputId": "106139ad-ab00-4f86-d108-cebcb2942d8d"
      },
      "outputs": [
        {
          "output_type": "stream",
          "name": "stdout",
          "text": [
            "47\n",
            "46\n",
            "140\n",
            "2865\n"
          ]
        }
      ],
      "source": [
        "### SOLUTION ###\n",
        "small = 4\n",
        "large = 7\n",
        "print((3 * small) + (5 * large))\n",
        "print((8 * small) + (2 * large))\n",
        "print((14 * small) + (12 * large))\n",
        "print((501 * small) + (123 * large))"
      ]
    },
    {
      "cell_type": "markdown",
      "source": [
        "How many baskets can you fill and how many apples will you have left over if...\n",
        "* Baskets hold 4 apples and you have 11 total?\n",
        "* Baskets hold 10 appples and you have 23 total?\n",
        "* Baskets hold 8 apples and you have 121 total?\n",
        "* Baskets hold 24 apples and you have 433 total?"
      ],
      "metadata": {
        "id": "14Iu97tcmCRV"
      }
    },
    {
      "cell_type": "code",
      "source": [
        "### SOLUTION ###\n",
        "baskets = 4\n",
        "apples = 11\n",
        "print(apples // baskets)\n",
        "print(apples % baskets)\n",
        "print()\n",
        "baskets = 10\n",
        "apples = 23\n",
        "print(apples // baskets)\n",
        "print(apples % baskets)\n",
        "print()\n",
        "baskets = 8\n",
        "apples = 121\n",
        "print(apples // baskets)\n",
        "print(apples % baskets)\n",
        "print()\n",
        "baskets = 24\n",
        "apples = 433\n",
        "print(apples // baskets)\n",
        "print(apples % baskets)\n",
        "print()"
      ],
      "metadata": {
        "colab": {
          "base_uri": "https://localhost:8080/"
        },
        "id": "qIgtliHFmEgn",
        "outputId": "5f81df10-e40c-41fa-cdbb-826f8931417c"
      },
      "execution_count": 3,
      "outputs": [
        {
          "output_type": "stream",
          "name": "stdout",
          "text": [
            "2\n",
            "3\n",
            "\n",
            "2\n",
            "3\n",
            "\n",
            "15\n",
            "1\n",
            "\n",
            "18\n",
            "1\n",
            "\n"
          ]
        }
      ]
    }
  ]
}