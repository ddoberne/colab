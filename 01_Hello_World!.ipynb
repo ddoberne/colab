{
  "nbformat": 4,
  "nbformat_minor": 0,
  "metadata": {
    "colab": {
      "provenance": [],
      "authorship_tag": "ABX9TyP+/9BTqYKe7uRz3DF3UbBa",
      "include_colab_link": true
    },
    "kernelspec": {
      "name": "python3",
      "display_name": "Python 3"
    },
    "language_info": {
      "name": "python"
    }
  },
  "cells": [
    {
      "cell_type": "markdown",
      "metadata": {
        "id": "view-in-github",
        "colab_type": "text"
      },
      "source": [
        "<a href=\"https://colab.research.google.com/github/ddoberne/colab/blob/main/01_Hello_World!.ipynb\" target=\"_parent\"><img src=\"https://colab.research.google.com/assets/colab-badge.svg\" alt=\"Open In Colab\"/></a>"
      ]
    },
    {
      "cell_type": "markdown",
      "source": [
        "#01 Hello World!"
      ],
      "metadata": {
        "id": "f8w-iUDduQ6t"
      }
    },
    {
      "cell_type": "markdown",
      "source": [
        "Welcome to Google Colab! This is a workspace to write Python code modeled after the learning-friendly environment of Jupyter Notebook.\n",
        "\n",
        "Our first task is to get Python to communicate with us by using the print function. When you see a code block, like below, create a code cell using the [+ Code] button, and copy the code into the cell. To run the cell, press SHIFT+ENTER (or press the ▶ button on the left side of the cell).\n",
        "\n",
        "You can also create text cells using the [+ Text] button. These cells won't be run, but can be useful for notes, instructions, or reminders, like this one!"
      ],
      "metadata": {
        "id": "64o0du6kseV7"
      }
    },
    {
      "cell_type": "code",
      "source": [
        "print('Hello World!')"
      ],
      "metadata": {
        "colab": {
          "base_uri": "https://localhost:8080/"
        },
        "id": "HcSkWPocsvnL",
        "outputId": "7af61bb1-8098-4aeb-d73b-6df3d34b7420"
      },
      "execution_count": 1,
      "outputs": [
        {
          "output_type": "stream",
          "name": "stdout",
          "text": [
            "Hello World!\n"
          ]
        }
      ]
    },
    {
      "cell_type": "markdown",
      "source": [
        "It's alive! We used a **function** and an **argument** to tell Python to do something, and what to do it to. We'll talk more specifically about what those are later, but for now, we gave the computer an action and something to do the action with, and it did it.\n",
        "* Computer: What should I do?\n",
        "    * Us: print()\n",
        "* Computer: What should I print() with? Make sure you put it within the parentheses!\n",
        "    * Us: 'Hello World!'"
      ],
      "metadata": {
        "id": "yZVs9LRyvPkU"
      }
    },
    {
      "cell_type": "markdown",
      "source": [
        "# Variable Assignment"
      ],
      "metadata": {
        "id": "iLhas9ARxIBB"
      }
    },
    {
      "cell_type": "markdown",
      "source": [
        "A large part of programming involves **variables**. In the below cell, we're going to assign the variable **s** to 'Hello World!'. We can use any name for the variable, but I like using **s** here because it's short for 'string', which is what text is called in programming. Once we do that, Python will remember what **s** is for us. It's like saving your progress in a game."
      ],
      "metadata": {
        "id": "qW7ponKjxYDo"
      }
    },
    {
      "cell_type": "code",
      "source": [
        "s = 'Hello World!'"
      ],
      "metadata": {
        "id": "2JXZdCGNsyfl"
      },
      "execution_count": 11,
      "outputs": []
    },
    {
      "cell_type": "markdown",
      "source": [
        "Colab allows us to check what a variable is saved as if run a cell that ends with that variable..."
      ],
      "metadata": {
        "id": "qXjxJ3L0yb2h"
      }
    },
    {
      "cell_type": "code",
      "source": [
        "s"
      ],
      "metadata": {
        "colab": {
          "base_uri": "https://localhost:8080/",
          "height": 35
        },
        "id": "SE-tUOIRs625",
        "outputId": "d17bea27-dc10-4e21-8fb8-de74394f3494"
      },
      "execution_count": 3,
      "outputs": [
        {
          "output_type": "execute_result",
          "data": {
            "text/plain": [
              "'Hello World!'"
            ],
            "application/vnd.google.colaboratory.intrinsic+json": {
              "type": "string"
            }
          },
          "metadata": {},
          "execution_count": 3
        }
      ]
    },
    {
      "cell_type": "markdown",
      "source": [
        "... but it's really better to use the print() function for that. That way, the variable you want to check doesn't have to be the last line of the cell."
      ],
      "metadata": {
        "id": "Ldgca93wy3cO"
      }
    },
    {
      "cell_type": "code",
      "source": [
        "print(s)"
      ],
      "metadata": {
        "colab": {
          "base_uri": "https://localhost:8080/"
        },
        "id": "l5XCnSuJs7UJ",
        "outputId": "0b51fa0d-964b-43c4-e6e6-8163df9cb512"
      },
      "execution_count": 4,
      "outputs": [
        {
          "output_type": "stream",
          "name": "stdout",
          "text": [
            "Hello World!\n"
          ]
        }
      ]
    },
    {
      "cell_type": "markdown",
      "source": [
        "We told Python to print **s**, and since **s** is 'Hello World!', Python printed 'Hello World!'.\n"
      ],
      "metadata": {
        "id": "O6UVZ-pgz0aN"
      }
    },
    {
      "cell_type": "markdown",
      "source": [
        "# Variable Reassignment"
      ],
      "metadata": {
        "id": "JmGP9gB50M5h"
      }
    },
    {
      "cell_type": "markdown",
      "source": [
        "Right now, **s** is 'Hello World!', but it doesn't have to be permanent. We can assign **s** to something else if we'd like."
      ],
      "metadata": {
        "id": "RxM5qObL3nE2"
      }
    },
    {
      "cell_type": "code",
      "source": [
        "s = 'This is a string.'\n",
        "print(s)"
      ],
      "metadata": {
        "colab": {
          "base_uri": "https://localhost:8080/"
        },
        "id": "bO5F0pKss8BJ",
        "outputId": "0f5000af-d237-493b-bbca-76476782ddf6"
      },
      "execution_count": 5,
      "outputs": [
        {
          "output_type": "stream",
          "name": "stdout",
          "text": [
            "This is a string.\n"
          ]
        }
      ]
    },
    {
      "cell_type": "code",
      "source": [
        "s = 'This is a different string.'\n",
        "print(s)"
      ],
      "metadata": {
        "colab": {
          "base_uri": "https://localhost:8080/"
        },
        "id": "Jc_2PSlLtAMj",
        "outputId": "4c8c29a8-6779-4f27-de27-95286d624833"
      },
      "execution_count": 6,
      "outputs": [
        {
          "output_type": "stream",
          "name": "stdout",
          "text": [
            "This is a different string.\n"
          ]
        }
      ]
    },
    {
      "cell_type": "markdown",
      "source": [
        "While this is certainly convenient, you have to be careful about it! It is easy to overwrite your old variable with a new one, in which case your old information becomes lost. You want to avoid situations like the one below."
      ],
      "metadata": {
        "id": "smfcIdnC37zo"
      }
    },
    {
      "cell_type": "code",
      "source": [
        "s = 'String A'\n",
        "s = 'String B'\n",
        "print(s)"
      ],
      "metadata": {
        "colab": {
          "base_uri": "https://localhost:8080/"
        },
        "id": "2oxhorfktDKt",
        "outputId": "53c0a99f-1e79-4ee6-d333-1fc6af4fcb46"
      },
      "execution_count": 7,
      "outputs": [
        {
          "output_type": "stream",
          "name": "stdout",
          "text": [
            "String B\n"
          ]
        }
      ]
    },
    {
      "cell_type": "markdown",
      "source": [
        "Another thing to be wary of is the order in which cells are run in Colab. The ability to run cells out of order is a nice convenience, but again, it requires some caution. Try running the below three cells in different order, and see what happens. Can you predict what is going to be printed before you run that cell?"
      ],
      "metadata": {
        "id": "OYO0x9d24QFb"
      }
    },
    {
      "cell_type": "code",
      "source": [
        "s = 'A'"
      ],
      "metadata": {
        "id": "MX-rxLGktMsy"
      },
      "execution_count": 8,
      "outputs": []
    },
    {
      "cell_type": "code",
      "source": [
        "s = 'B'"
      ],
      "metadata": {
        "id": "ew-WAgRjtSEc"
      },
      "execution_count": 9,
      "outputs": []
    },
    {
      "cell_type": "code",
      "source": [
        "print(s)"
      ],
      "metadata": {
        "id": "tiA1eIq1tSus"
      },
      "execution_count": null,
      "outputs": []
    },
    {
      "cell_type": "markdown",
      "source": [
        "# Your turn!"
      ],
      "metadata": {
        "id": "QyWamjK10R_b"
      }
    },
    {
      "cell_type": "markdown",
      "source": [
        "Now it's your turn to write code! Tell Python to print your:\n",
        "* Name\n",
        "* Hair color\n",
        "* Favorite game or movie\n",
        "* The last thing you ate\n",
        "\n",
        "Below, you'll see a cell with '*### YOUR CODE HERE ###*' at the top of it. The '#' marks a line as a comment, so Python ignores everything on that line. Then, create a new line, and go ahead and code the task asked of you."
      ],
      "metadata": {
        "id": "METyDx-n0cdg"
      }
    },
    {
      "cell_type": "code",
      "source": [
        "### YOUR CODE HERE ###\n"
      ],
      "metadata": {
        "id": "FabiVXcl0UEU"
      },
      "execution_count": 11,
      "outputs": []
    },
    {
      "cell_type": "markdown",
      "source": [
        "Next, create variables **line1**, **line2**, **line3**, and **line4** that store the above information, and run the cells below. If it worked properly, Python should print your name, hair color, favorite game or movie, and the last thing you ate."
      ],
      "metadata": {
        "id": "HGyL2rV_1eZi"
      }
    },
    {
      "cell_type": "code",
      "source": [
        "### YOUR CODE HERE ###\n"
      ],
      "metadata": {
        "id": "nlcCGSXq1fKS"
      },
      "execution_count": null,
      "outputs": []
    },
    {
      "cell_type": "code",
      "source": [
        "### MAKE THIS CELL WORK BY COMPLETING THE CELL ABOVE ###\n",
        "print(line1)\n",
        "print(line2)\n",
        "print(line3)\n",
        "print(line4)"
      ],
      "metadata": {
        "id": "ynK8Tzlx0jnT"
      },
      "execution_count": null,
      "outputs": []
    },
    {
      "cell_type": "markdown",
      "source": [
        "Congratulations! Whenever you are done with a notebook, feel free to play around with the material you learned. Create more cells and try out different things -- the sky is the limit! Once you are satisfied, be sure to save your notebook to your GitHub. Click `File -> Save a copy in GitHub`, and your notebook will be stored for easy viewing."
      ],
      "metadata": {
        "id": "_KXWTtmS2TAc"
      }
    }
  ]
}
