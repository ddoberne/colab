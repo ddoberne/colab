{
  "nbformat": 4,
  "nbformat_minor": 0,
  "metadata": {
    "colab": {
      "provenance": [],
      "authorship_tag": "ABX9TyNV9LsHzO5+u4eBM4qt69Dj",
      "include_colab_link": true
    },
    "kernelspec": {
      "name": "python3",
      "display_name": "Python 3"
    },
    "language_info": {
      "name": "python"
    }
  },
  "cells": [
    {
      "cell_type": "markdown",
      "metadata": {
        "id": "view-in-github",
        "colab_type": "text"
      },
      "source": [
        "<a href=\"https://colab.research.google.com/github/ddoberne/colab/blob/main/06_Return_Statements.ipynb\" target=\"_parent\"><img src=\"https://colab.research.google.com/assets/colab-badge.svg\" alt=\"Open In Colab\"/></a>"
      ]
    },
    {
      "cell_type": "markdown",
      "source": [
        "# 06 Return Statements\n",
        "\n",
        "\n"
      ],
      "metadata": {
        "id": "_qUVIKfYybW_"
      }
    },
    {
      "cell_type": "markdown",
      "source": [
        "So far, we've been using ```print()``` in our functions to show that we've received arguments and done something with them. Often times, however, the function isn't just an endpoint, but a step in a larger process. We would like to get an output for the function to carry to the next step, and in this way we can chain together processes.\n",
        "\n",
        "Before, we were doing this:\n",
        "\n",
        "```input => function```\n",
        "\n",
        "... but we'd like to be able to do this:\n",
        "\n",
        "```input => function => output => another function => output```\n",
        "\n",
        "The **return** statement allows us to give an output value to our function. It's probably best to show with an example:"
      ],
      "metadata": {
        "id": "G1InuFljyj9a"
      }
    },
    {
      "cell_type": "code",
      "execution_count": 7,
      "metadata": {
        "id": "3VdUGaqMyJSB"
      },
      "outputs": [],
      "source": [
        "def three():\n",
        "  \"\"\"Returns the int 3\"\"\"\n",
        "  return 3"
      ]
    },
    {
      "cell_type": "markdown",
      "source": [
        "This example is overly simplistic and is far from practical, but you will see that our function has the value 3 when we call it. It can now be used in all the ways the number 3 could be in code."
      ],
      "metadata": {
        "id": "DhSMApeT1rp2"
      }
    },
    {
      "cell_type": "code",
      "source": [
        "print(three())\n",
        "a = three()\n",
        "print(a)\n",
        "b = three() + 5\n",
        "print(b)"
      ],
      "metadata": {
        "colab": {
          "base_uri": "https://localhost:8080/"
        },
        "id": "DZTBPaW82Uej",
        "outputId": "2a8c5e75-f51a-4854-91eb-e765670f80be"
      },
      "execution_count": 8,
      "outputs": [
        {
          "output_type": "stream",
          "name": "stdout",
          "text": [
            "3\n",
            "3\n",
            "8\n"
          ]
        }
      ]
    },
    {
      "cell_type": "markdown",
      "source": [
        "Now for a more practical example. I'm going to define two functions; one to square a number, and one to double it."
      ],
      "metadata": {
        "id": "y04mEPVb4LzG"
      }
    },
    {
      "cell_type": "code",
      "source": [
        "def square(n):\n",
        "  \"\"\"Returns n squared\"\"\"\n",
        "  output = n * n\n",
        "  return output\n",
        "\n",
        "# Quick test to make sure the function works the way we want\n",
        "print(square(6))"
      ],
      "metadata": {
        "colab": {
          "base_uri": "https://localhost:8080/"
        },
        "id": "zKNRpso72dlH",
        "outputId": "4fad2523-6720-49c6-db54-cfe9127b5ccb"
      },
      "execution_count": 9,
      "outputs": [
        {
          "output_type": "stream",
          "name": "stdout",
          "text": [
            "36\n"
          ]
        }
      ]
    },
    {
      "cell_type": "code",
      "source": [
        "def double(n):\n",
        "  \"\"\"Returns n times 2\"\"\"\n",
        "  output = n * 2\n",
        "  return output\n",
        "\n",
        "# Quick test\n",
        "print(double(6))"
      ],
      "metadata": {
        "colab": {
          "base_uri": "https://localhost:8080/"
        },
        "id": "xu6_-9C-464G",
        "outputId": "0d4d7d36-ed58-4cea-bd60-bb33d6648b61"
      },
      "execution_count": 10,
      "outputs": [
        {
          "output_type": "stream",
          "name": "stdout",
          "text": [
            "12\n"
          ]
        }
      ]
    },
    {
      "cell_type": "markdown",
      "source": [
        "Next, we will save the output of ```double()``` as a variable, then use that variable as the argument for ```square()```, which can be saved as another variable.\n",
        "\n",
        "```input => double() => square() => output```"
      ],
      "metadata": {
        "id": "AsJpBjl67PW3"
      }
    },
    {
      "cell_type": "code",
      "source": [
        "n = 5\n",
        "print('Here is the value of n:')\n",
        "print(n)\n",
        "x = double(n)\n",
        "print('Here is the value of x, which is double n:')\n",
        "print(x)\n",
        "y = square(x)\n",
        "print('Here is the value of y, which is x squared:')\n",
        "print(y)"
      ],
      "metadata": {
        "colab": {
          "base_uri": "https://localhost:8080/"
        },
        "id": "evPHDdQ45G56",
        "outputId": "7dc161e1-6584-447c-bbb3-02e3079d37f7"
      },
      "execution_count": 11,
      "outputs": [
        {
          "output_type": "stream",
          "name": "stdout",
          "text": [
            "Here is the value of n:\n",
            "5\n",
            "Here is the value of x, which is double n:\n",
            "10\n",
            "Here is the value of y, which is x squared:\n",
            "100\n"
          ]
        }
      ]
    },
    {
      "cell_type": "markdown",
      "source": [
        "We can also call both functions in one line by using the return value of one as the argument for the other. In the below code, we are using the return value of ```double(n)``` as an argument for ```square()```.\n",
        "\n",
        "Here's what we are telling Python:\n",
        "* ```square()```\n",
        "  * What do you want me to ```square()```?\n",
        "* ```double(n)```\n",
        "  * Ok, let me execute ```double(n)``` first, then I'll have my value to execute ```square()``` "
      ],
      "metadata": {
        "id": "8siWygAy7EUJ"
      }
    },
    {
      "cell_type": "code",
      "source": [
        "n = 5\n",
        "y = square(double(n))\n",
        "print('Here is the value of n after it has been doubled, then squared:')\n",
        "print(y)"
      ],
      "metadata": {
        "colab": {
          "base_uri": "https://localhost:8080/"
        },
        "id": "1uAZqPLh7E3p",
        "outputId": "8ebf613d-b119-49f3-a124-0f79490f7138"
      },
      "execution_count": 12,
      "outputs": [
        {
          "output_type": "stream",
          "name": "stdout",
          "text": [
            "Here is the value of n after it has been doubled, then squared:\n",
            "100\n"
          ]
        }
      ]
    },
    {
      "cell_type": "markdown",
      "source": [
        "It is recommend that you give a new line for each call of a function, rather than trying to embed return statements as arguments in order to fit everything in one line. It can quickly become messy and difficult to read!\n",
        "\n",
        "One more note about return statements: executing a return ends the function. If you're planning on having a function return a value, make sure it's the last line of the function!"
      ],
      "metadata": {
        "id": "EaStH38p6I0M"
      }
    },
    {
      "cell_type": "code",
      "source": [
        "def nothing():\n",
        "  \"\"\"Does nothing\"\"\"\n",
        "  return\n",
        "  print('Hey!')\n",
        "  print('Is anybody listening to me?') # No\n",
        "\n",
        "nothing()"
      ],
      "metadata": {
        "id": "Em9B5gsh58ke"
      },
      "execution_count": 13,
      "outputs": []
    },
    {
      "cell_type": "markdown",
      "source": [
        "# Practice Time"
      ],
      "metadata": {
        "id": "_nvvTzSo76Qc"
      }
    },
    {
      "cell_type": "markdown",
      "source": [
        "Define two functions, ```add_three()``` and ```negative()```. \n",
        "\n",
        "```add_three()``` should return the number three greater than the input, and ```negative()``` should make a positive number negative and vice versa."
      ],
      "metadata": {
        "id": "zrwF5TSM8gJ_"
      }
    },
    {
      "cell_type": "code",
      "source": [
        "### YOUR CODE HERE ###\n",
        "\n",
        "def add_three(n):\n",
        "  \"\"\"Returns three greater than n\"\"\"\n",
        "  # What should this function return?\n",
        "\n",
        "# Define the function negative()"
      ],
      "metadata": {
        "id": "9KPbi2YZ88wu"
      },
      "execution_count": null,
      "outputs": []
    },
    {
      "cell_type": "code",
      "source": [
        "### RUN THIS CELL AFTER DEFINING THE FUNCTIONS ABOVE ###\n",
        "# Don't change the contents of this cell! Does it run without error?\n",
        "assert add_three(8) == 11\n",
        "assert add_three(-2) == 1\n",
        "assert negative(5) == -5\n",
        "assert negative(-4) == 4"
      ],
      "metadata": {
        "id": "kefHh80E6Ypr"
      },
      "execution_count": null,
      "outputs": []
    },
    {
      "cell_type": "markdown",
      "source": [
        "Now write one more function, ```dop()``` (short for \"double operation\") that uses ```add_three()``` and ```negative()``` to return the result after the input is added to three then has its sign flipped."
      ],
      "metadata": {
        "id": "cajaSLHU8fhm"
      }
    },
    {
      "cell_type": "code",
      "source": [
        "### YOUR CODE HERE ###\n"
      ],
      "metadata": {
        "id": "2Rk98bVx88RV"
      },
      "execution_count": null,
      "outputs": []
    },
    {
      "cell_type": "code",
      "source": [
        "### RUN THIS CELL AFTER DEFINING THE FUNCTION ABOVE ###\n",
        "# Don't change the contents of this cell! Does it run without error?\n",
        "assert dop(5) == -8\n",
        "assert dop(-5) == 2"
      ],
      "metadata": {
        "id": "et6tyztz8f2e"
      },
      "execution_count": null,
      "outputs": []
    }
  ]
}